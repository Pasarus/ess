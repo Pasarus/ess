{
 "cells": [
  {
   "cell_type": "markdown",
   "id": "26960bb2",
   "metadata": {},
   "source": [
    "# Introduction to Wavelength Frame Multiplication"
   ]
  },
  {
   "cell_type": "code",
   "execution_count": null,
   "id": "bfd32b87",
   "metadata": {},
   "outputs": [],
   "source": [
    "import numpy as np\n",
    "import scipp as sc\n",
    "import scippneutron as scn\n",
    "import ess.wfm as wfm\n",
    "import matplotlib.pyplot as plt\n",
    "from matplotlib.patches import Rectangle"
   ]
  },
  {
   "cell_type": "markdown",
   "id": "ea849c6e",
   "metadata": {},
   "source": [
    "## The long ESS pulse\n",
    "\n",
    "Instruments at a pulsed neutron source,\n",
    "assuming an idealized rectangular source pulse in time of length $t_{P}$,\n",
    "is given by\n",
    "$$\\frac{\\Delta \\lambda}{\\lambda} = \\frac{t_{P}}{t} = \\frac{t_{P}}{\\alpha \\lambda z_{\\rm det}} ~, ~~~~~(1)$$\n",
    "where $\\lambda$ is the neutron wavelength, $t$ is time,\n",
    "$\\alpha = m_{\\rm n}/h = 2.5278 \\times 10^{-4}~{\\rm s}\\unicode{x212B}^{-1}{\\rm m}^{-1}$\n",
    "is the ratio of the neutron mass and the Planck constant,\n",
    "and $z_{\\rm det}$ is the distance from the source to the detector.\n",
    "\n",
    "A natural consequence of this is that the wavelength resolution $\\frac{\\Delta \\lambda}{\\lambda}$\n",
    "becomes finer with increasing wavelength.\n",
    "\n",
    "This also means that the resolution can be pretty poor for a long-pulsed source such as the ESS.\n",
    "A good way to visualize this is using a time-distance diagram,\n",
    "which can represent the paths taken by the neutrons from the source to the detector."
   ]
  },
  {
   "cell_type": "code",
   "execution_count": null,
   "id": "d1548d0a",
   "metadata": {},
   "outputs": [],
   "source": [
    "t_P = sc.scalar(2.860e+03, unit='us')\n",
    "detector_position = sc.vector(value=[0., 0., 60.0], unit='m')\n",
    "z_det = sc.norm(detector_position).value\n",
    "\n",
    "fig0, ax0 = plt.subplots()\n",
    "ax0.add_patch(\n",
    "    Rectangle((0, 0),\n",
    "              t_P.value,\n",
    "              -0.05 * z_det,\n",
    "              lw=1,\n",
    "              fc='grey',\n",
    "              ec='k',\n",
    "              zorder=10))\n",
    "# Indicate source pulse and add the duration.\n",
    "ax0.text(0,\n",
    "        -0.05 * z_det,\n",
    "        \"Source pulse ({} {})\".format(t_P.value,\n",
    "                                      t_P.unit),\n",
    "        ha=\"left\",\n",
    "        va=\"top\",\n",
    "        fontsize=8)\n",
    "ax0.plot([0, 1.0e4], [z_det] * 2, lw=3, color='grey')\n",
    "ax0.text(0., z_det, 'Detector', ha='left', va='top')\n",
    "# Draw 2 neutron paths\n",
    "ax0.plot([0.02 * t_P.value, 4.0e3], [0, z_det], lw=2, color='r')\n",
    "ax0.plot([t_P.value, 4.0e3], [0, z_det], lw=2, color='b')\n",
    "ax0.text(3.7e3, 0.5*z_det, r'$\\lambda_{1}$', ha='left', va='center', color='b')\n",
    "ax0.text(1.5e3, 0.5*z_det, r'$\\lambda_{2}$', ha='left', va='center', color='r')\n",
    "ax0.set_xlabel(\"Time [microseconds]\")\n",
    "ax0.set_ylabel(\"Distance [m]\")\n",
    "ax0.set_title('Figure 1')\n",
    "fig0.canvas"
   ]
  },
  {
   "cell_type": "markdown",
   "id": "f21a6a9e",
   "metadata": {},
   "source": [
    "As illustrated in Fig. 1, with a long pulse, two neutrons with very different wavelengths\n",
    "($\\lambda_{1} < \\lambda_{2}$) can reach the detector at the exact same time,\n",
    "if they originated from a different part of the pulse.\n",
    "\n",
    "This has the effect of merging many different wavelengths together on the same detector pixel,\n",
    "making any conversion, from an event arrival time at the detector to a wavelength, difficult."
   ]
  },
  {
   "cell_type": "markdown",
   "id": "6f3026e9",
   "metadata": {},
   "source": [
    "## So what is WFM anyway?\n",
    "\n",
    "Within the concept of wavelength frame multiplication (WFM),\n",
    "each source pulse is chopped into a number of sub pulses referred to as wavelength frames,\n",
    "where each wavelength frame $N$ contains a subsequent part of the spectrum of the source pulse.\n",
    "\n",
    "The main reason for using the WFM concept is to redefine the burst time $t_{P} = \\Delta t$ as implied by Eq. (1), in order to match the required wavelength resolution of the experiment."
   ]
  },
  {
   "cell_type": "code",
   "execution_count": null,
   "id": "c68e206e",
   "metadata": {},
   "outputs": [],
   "source": [
    "t_0 = sc.scalar(5.0e+02, unit='us')\n",
    "t_A = (t_0 + t_P).value\n",
    "fig2, ax2 = plt.subplots()\n",
    "ax2.add_patch(\n",
    "    Rectangle((0, 0),\n",
    "              (t_P + t_0).value,\n",
    "              -0.05 * z_det,\n",
    "              lw=1,\n",
    "              fc='grey',\n",
    "              ec='k',\n",
    "              zorder=10))\n",
    "\n",
    "# Indicate source pulse and add the duration.\n",
    "ax2.text(0,\n",
    "        -0.05 * z_det,\n",
    "        \"Source pulse\",\n",
    "        ha=\"left\",\n",
    "        va=\"top\",\n",
    "        fontsize=8)\n",
    "ax2.plot([0, 3.1e4], [z_det] * 2, lw=3, color='grey')\n",
    "ax2.text(0., z_det, 'Detector', ha='left', va='top')\n",
    "\n",
    "dt = 1000.0\n",
    "z_wfm = 15.0\n",
    "xmin = 0.0\n",
    "for i in range(3):\n",
    "    xmax = 3000.0 + (i * 2.0 * dt)\n",
    "    ax2.plot([xmin, xmax], [z_wfm] * 2, color='k')\n",
    "    xmin = xmax + dt\n",
    "ax2.plot([xmin, 3.1e4], [z_wfm] * 2, color='k')\n",
    "ax2.text(25000.0, z_wfm, \"WFM\", ha='left', va='top')\n",
    "ax2.plot([t_A, 5000.0], [0, z_det], color='r')\n",
    "ax2.plot([2600.0, 5000.0], [0, z_det], color='b')\n",
    "ax2.plot([t_A, 13000.0], [0, z_det], color='r')\n",
    "ax2.plot([2400.0, 13000.0], [0, z_det], color='b')\n",
    "ax2.plot([t_A, 21500.0], [0, z_det], color='r')\n",
    "ax2.plot([2200.0, 21500.0], [0, z_det], color='b')\n",
    "\n",
    "ax2.set_xlabel(\"Time [microseconds]\")\n",
    "ax2.set_ylabel(\"Distance [m]\")\n",
    "ax2.set_title('Figure 2')\n",
    "fig2.canvas"
   ]
  },
  {
   "cell_type": "markdown",
   "id": "08e8d244",
   "metadata": {},
   "source": [
    "## A closer look\n",
    "\n",
    "### The ESS pulse shape\n",
    "\n",
    "At a real beamline, the pulse shape is not rectangular,\n",
    "but has rising and falling edges, as shown in Fig. 3."
   ]
  },
  {
   "cell_type": "code",
   "execution_count": null,
   "id": "499eef44",
   "metadata": {},
   "outputs": [],
   "source": [
    "x = np.linspace(0, 5.0, 100)\n",
    "a = 4.0\n",
    "b = 0.0\n",
    "c = 1.5e10\n",
    "d = 3.0\n",
    "e = 3.0\n",
    "y = 2.0 * c / (np.exp(-a * (x - b)) + 1.0) - c\n",
    "n = 60\n",
    "y2 = c * np.exp(-e * (x - d))\n",
    "y[n:] = y2[n:]\n",
    "fig1, ax1 = plt.subplots()\n",
    "ax1.plot(x, y, lw=2, color='k')\n",
    "\n",
    "i1 = 5\n",
    "i2 = 65\n",
    "ax1.fill([x[i1]] + x[i1:i2].tolist() + [x[i2-1]],\n",
    "         [0] + y[i1:i2].tolist() + [0], alpha=0.3)\n",
    "\n",
    "fs = 15\n",
    "\n",
    "ax1.axvline(x[i1], color='k')\n",
    "ax1.axvline(x[i2-1], color='k')\n",
    "ax1.text(x[i1], 1.58e10, r' $t_{0}$', ha='left', va='top', fontsize=fs)\n",
    "ax1.text(x[i2-1], 1.58e10, r' $t_{\\rm A}$', ha='left', va='top', fontsize=fs)\n",
    "ax1.plot([4.5]*2, [0, 0.3e10], color='k')\n",
    "ax1.text(4.5, 0.3e10, r'$t_{\\rm B}$', ha='center', va='bottom', fontsize=fs)\n",
    "ax1.annotate(text='', xy=(x[i1], 0.7e10), xytext=(x[i2-1], 0.7e10),\n",
    "             arrowprops=dict(arrowstyle='<->'))\n",
    "ax1.text(0.5*(x[i1] + x[i2-1]), 0.7e10, 'utilised\\n pulse length', ha='center', va='bottom', fontsize=fs)\n",
    "ax1.text(0.5*(x[i1] + x[i2-1]), 0.7e10, r'$t_{\\rm P}$', ha='center', va='top', fontsize=fs)\n",
    "\n",
    "ax1.set_ylim(0., 1.6e10)\n",
    "ax1.set_xlabel(\"Time [ms]\")\n",
    "ax1.set_ylabel(r\"Flux density $[{\\rm n/s/cm}^2]$\")\n",
    "ax1.set_title('Figure 3')\n",
    "fig1.canvas"
   ]
  },
  {
   "cell_type": "markdown",
   "id": "8e6c9c22",
   "metadata": {},
   "source": [
    "Here we define several important quantities:\n",
    "\n",
    "- The pulse $t_0$ is defined as the point in time at which the pulse is bright enough for the purposes of the experiment.\n",
    "- $t_{\\rm A}$ is the time when the flux has fallen down to a level below the required brightness.\n",
    "- $t_{\\rm P} = t_{\\rm A} - t_{0}$ is the portion of the pulse that is used for the measurements, the analog of the pulse length for the ideal rectangular pulse above.\n",
    "- $t_{\\rm B}$ marks the end of the pulse; i.e. the time when the flux is considered to be effectively zero.\n",
    "\n",
    "### Using a single WFM chopper\n",
    "\n",
    "The effective burst time $\\Delta t$ is defined by a WFM chopper (WFMC),\n",
    "as illustrated in Fig. 3,\n",
    "for the two limiting wavelengths $\\lambda_{\\rm min}$ and $\\lambda_{\\rm max}$ of a single wavelength frame $N$.\n",
    "\n",
    "The wavelength frame is re-limited in a predefined time window by at least one frame overlap chopper (FOC)\n",
    "that inhibits the overlap of neutrons from various frames, as indicated by the dashed lines in Fig. 3.\n",
    "Their wavelength is labeled with $\\lambda_{\\rm min}^{'}$ and $\\lambda_{\\rm max}^{'}$.\n",
    "The FOC is also removes undesired neutrons with the wrong wavelength that arise from the rising and falling edges\n",
    "at the beginning and at the end of the source pulse.\n",
    "Although their intensity is small, neutrons with an undesired wavelength would lead to an increased background."
   ]
  },
  {
   "cell_type": "code",
   "execution_count": null,
   "id": "3069f0e8",
   "metadata": {},
   "outputs": [],
   "source": [
    "coords = wfm.make_fake_beamline(\n",
    "    nframes=1,\n",
    "    chopper_positions={\n",
    "        \"WFMC1\": sc.vector(value=[0.0, 0.0, 4.5], unit='m'),\n",
    "        \"WFMC2\": sc.vector(value=[0.0, 0.0, 5.5], unit='m')\n",
    "    })\n",
    "coords['position'] = sc.vector(value=[0., 0., 15.], unit='m')\n",
    "ds = sc.Dataset(coords=coords)\n",
    "frames = wfm.get_frames(ds)\n",
    "\n",
    "z_det = sc.norm(ds.coords[\"position\"]).value\n",
    "t_0 = ds.coords[\"source_pulse_t_0\"].value\n",
    "t_A = (ds.coords[\"source_pulse_length\"] + ds.coords[\"source_pulse_t_0\"]).value\n",
    "t_B = (ds.coords[\"source_pulse_length\"] + 2.0*ds.coords[\"source_pulse_t_0\"]).value\n",
    "z_foc = 12.0\n",
    "tmax_glob = 1.4e4\n",
    "height = 0.02\n",
    "\n",
    "chopper_wfm1 = coords[\"choppers\"].value[\"WFMC1\"]\n",
    "chopper_wfm2 = coords[\"choppers\"].value[\"WFMC2\"]\n",
    "\n",
    "fig3, ax3 = plt.subplots()\n",
    "ax3.add_patch(\n",
    "    Rectangle((0, 0),\n",
    "              t_B,\n",
    "              -height * z_det,\n",
    "              lw=1,\n",
    "              fc='lightgrey',\n",
    "              ec='k',\n",
    "              zorder=10))\n",
    "ax3.add_patch(\n",
    "    Rectangle((ds.coords[\"source_pulse_t_0\"].value, 0),\n",
    "              ds.coords[\"source_pulse_length\"].value,\n",
    "              -height * z_det,\n",
    "              lw=1,\n",
    "              fc='grey',\n",
    "              ec='k',\n",
    "              zorder=10))\n",
    "\n",
    "# Indicate source pulse and add the duration.\n",
    "ax3.text(ds.coords[\"source_pulse_t_0\"].value,\n",
    "        -height * z_det,\n",
    "        r\"$t_{0}$\",\n",
    "        ha=\"center\",\n",
    "        va=\"top\",\n",
    "        fontsize=8)\n",
    "ax3.text(t_A,\n",
    "        -height * z_det,\n",
    "        r\"$t_{A}$\",\n",
    "        ha=\"center\",\n",
    "        va=\"top\",\n",
    "        fontsize=8)\n",
    "ax3.text(t_B,\n",
    "        -height * z_det,\n",
    "        r\"$t_{B}$\",\n",
    "        ha=\"center\",\n",
    "        va=\"top\",\n",
    "        fontsize=8)\n",
    "\n",
    "z_wfm = sc.norm(0.5 * (chopper_wfm1.position + chopper_wfm2.position)).value\n",
    "xmin = chopper_wfm1.time_open.values\n",
    "xmax = chopper_wfm1.time_close.values\n",
    "dt = xmax - xmin\n",
    "\n",
    "ax3.plot([0, xmin], [z_wfm] * 2, color='k')\n",
    "ax3.plot([xmax, tmax_glob], [z_wfm] * 2, color='k')\n",
    "ax3.text(tmax_glob, z_wfm, \"WFMC\", ha='right', va='top')\n",
    "\n",
    "\n",
    "slope_lambda_max = z_wfm / (xmin - t_0)\n",
    "slope_lambda_min = z_wfm / (xmax - t_A)\n",
    "int_lambda_max = z_wfm - slope_lambda_max * xmin\n",
    "int_lambda_min = z_wfm - slope_lambda_min * xmax\n",
    "x_lambda_max = (z_det - int_lambda_max) / slope_lambda_max\n",
    "x_lambda_min = (z_det - int_lambda_min) / slope_lambda_min\n",
    "\n",
    "ax3.plot([t_0, x_lambda_max, x_lambda_max + dt, t_0 + dt],\n",
    "         [0.0, z_det, z_det, 0], color='C0')\n",
    "ax3.plot([t_A, x_lambda_min, x_lambda_min - dt, t_A - dt],\n",
    "         [0.0, z_det, z_det, 0], color='C2')\n",
    "\n",
    "x_lambda_max_foc = (z_foc - int_lambda_max) / slope_lambda_max + dt\n",
    "x_lambda_min_foc = (z_foc - int_lambda_min) / slope_lambda_min - dt\n",
    "ax3.plot([0, x_lambda_min_foc], [z_foc] * 2, color='k')\n",
    "ax3.plot([x_lambda_max_foc, tmax_glob], [z_foc] * 2, color='k')\n",
    "ax3.text(0.0, z_foc, \"FOC\", ha='left', va='top')\n",
    "\n",
    "\n",
    "slope_lambda_min_prime = z_wfm / (xmin - t_B)\n",
    "slope_lambda_max_prime = z_wfm / xmax\n",
    "int_lambda_max_prime = z_wfm - slope_lambda_max_prime * xmax\n",
    "int_lambda_min_prime = z_wfm - slope_lambda_min_prime * xmin\n",
    "x_lambda_max_prime = (z_foc - int_lambda_max_prime) / slope_lambda_max_prime\n",
    "x_lambda_min_prime = (z_foc - int_lambda_min_prime) / slope_lambda_min_prime\n",
    "\n",
    "ax3.plot([t_B, x_lambda_min_prime], [0.0, z_foc], color='k', ls='dashed', lw=1)\n",
    "ax3.plot([0, x_lambda_max_prime], [0.0, z_foc], color='k', ls='dashed', lw=1)\n",
    "\n",
    "ax3.text(x_lambda_min - dt, z_det, r'$\\lambda_{\\rm min}$', ha='right', va='top', color='C2')\n",
    "ax3.text(x_lambda_max + dt, z_det, r'$\\lambda_{\\rm max}$', ha='left', va='top', color='C0')\n",
    "ax3.text(x_lambda_min_prime, z_foc, r\"$\\lambda_{\\rm min}^{'}$\", ha='left', va='top', color='k')\n",
    "ax3.text(x_lambda_max_prime, z_foc, r\"$\\lambda_{\\rm max}^{'}$\", ha='left', va='top', color='k')\n",
    "\n",
    "ax3.plot([xmin] * 2, [z_wfm, z_det + 1.0], lw=1, color='k')\n",
    "ax3.plot([x_lambda_min - dt] * 2, [z_det, z_det + 1.0], lw=1, color='k')\n",
    "ax3.plot([x_lambda_min] * 2, [z_det, z_det + 1.0], lw=1, color='k')\n",
    "ax3.plot([x_lambda_max + dt] * 2, [z_det, z_det + 1.0], lw=1, color='k')\n",
    "ax3.plot([x_lambda_max] * 2, [z_det, z_det + 1.0], lw=1, color='k')\n",
    "\n",
    "ax3.fill([t_0 + dt, t_A - dt, 3013.10],\n",
    "         [0, 0, 3.2963], color='mediumpurple', alpha=0.3, zorder=-2)\n",
    "ax3.fill([x_lambda_min, x_lambda_max, 4515.077],\n",
    "         [z_det, z_det, 6.704], color='mediumpurple', alpha=0.3, zorder=-2)\n",
    "\n",
    "ax3.annotate(text='', xy=(xmin, z_det + 0.7), xytext=(x_lambda_min - dt, z_det + 0.7),\n",
    "             arrowprops=dict(arrowstyle='<->'))\n",
    "ax3.text(0.5*(xmin + x_lambda_min - dt), z_det + 0.7, r'$t(\\lambda_{\\rm min})$',\n",
    "         va='bottom', ha='center')\n",
    "ax3.text(x_lambda_min - 0.5*dt, z_det + 0.7, r'$\\Delta t$',\n",
    "         va='bottom', ha='center')\n",
    "ax3.text(x_lambda_max + 0.5*dt, z_det + 0.7, r'$\\Delta t$',\n",
    "         va='bottom', ha='center')\n",
    "\n",
    "ax3.plot([0, tmax_glob], [z_det] * 2, lw=3, color='grey')\n",
    "ax3.text(0., z_det, 'Detector', ha='left', va='top')\n",
    "\n",
    "ax3.grid(True, color='lightgray', linestyle=\"dotted\")\n",
    "ax3.set_axisbelow(True)\n",
    "ax3.set_xlabel(\"Time [microseconds]\")\n",
    "ax3.set_ylabel(\"Distance [m]\")\n",
    "ax3.set_title('Figure 4')\n",
    "\n",
    "fig3.canvas"
   ]
  },
  {
   "cell_type": "markdown",
   "id": "7dcbd2b3",
   "metadata": {},
   "source": [
    "The relative spectral resolution $\\Delta \\lambda / \\lambda$ at the detector position $z_{\\rm det}$\n",
    "is defined by the burst time $\\Delta t$ and the time-of-flight $t(\\lambda)$ of the neutrons (see eq. (1)).\n",
    "Because $\\Delta t$t is independent of the wavelength for the case of a single WFM chopper disc,\n",
    "$\\Delta \\lambda / \\lambda$ depends on $\\lambda$,\n",
    "on the distance $z_{\\rm WFM}$ of the WFM chopper from the source,\n",
    "and on the detector position $z_{\\rm det}$ as depicted in Fig. 4.\n",
    "\n",
    "The WFM chopper acts as a virtual source,\n",
    "reducing the effective burst time $\\Delta t$,\n",
    "while at the same time also reducing the effective time-of-flight to the detector from\n",
    "$t(\\lambda) = \\alpha \\lambda z_{\\rm det}$ to $t(\\lambda) = \\alpha \\lambda (z_{\\rm det} - z_{\\rm WFM})$.\n",
    "\n",
    "A resolution that depends on $\\lambda$ is not suited for some applications (such as imaging, reflectometry, ...)\n",
    "where a constant $\\Delta \\lambda / \\lambda$ is much more desirable.\n",
    "\n",
    "## A pair of optically blind choppers\n",
    "\n",
    "A constant wavelength resolution $\\Delta \\lambda / \\lambda$ can be enforced by using a pair\n",
    "of optically blind WFM chopper discs,\n",
    "positioned at the positions $z_{\\rm WFM1}$ and $z_{\\rm WFM2} = z_{\\rm WFM1} + \\Delta z_{\\rm WFM}$,\n",
    "as shown in Fig. 5.\n",
    "\n",
    "In this context, 'optically blind' indicates that the choppers have the same opening angles,\n",
    "but the phase of the second chopper is shifted such that the second chopper opens exactly at\n",
    "the time when the first chopper closes.\n",
    "Such a setup introduces a wavelength dependence in the effective burst time\n",
    "$\\Delta t(\\lambda) = \\alpha \\lambda \\Delta z_{\\rm WFM}$.\n",
    "\n",
    "The time-of-flight to the detector remains the same as for the single WFM disc setup\n",
    "described above ($t(\\lambda) = \\alpha \\lambda (z_{\\rm det} - z_{\\rm WFM})$)\n",
    "with $z_{\\rm WFM} = \\frac{1}{2} (z_{\\rm WFM1} + z_{\\rm WFM2})$\n",
    "now representing the center position of the WFM chopper pair from the source.\n",
    "\n",
    "The resolution for an idealized instrument with infinitesimally small beam cross-section can again be\n",
    "calculated using Eq. (1):\n",
    "\n",
    "$$\\frac{\\Delta \\lambda}{\\lambda} = \\frac{\\Delta t(\\lambda)}{t(\\lambda)} = \\frac{\\Delta z_{\\rm WFM}}{z_{\\rm det} - z_{\\rm WFM}} ~. ~~~~~(2)$$\n",
    "\n",
    "Because the term on the right hand side of Eq. (2) is constant,\n",
    "the resolution becomes independent of the wavelength for an optically blind WFM chopper system."
   ]
  },
  {
   "cell_type": "code",
   "execution_count": null,
   "id": "f740ab1f",
   "metadata": {},
   "outputs": [],
   "source": [
    "coords = wfm.make_fake_beamline(\n",
    "    nframes=1,\n",
    "    chopper_positions={\n",
    "        \"WFMC1\": sc.vector(value=[0.0, 0.0, 4.5], unit='m'),\n",
    "        \"WFMC2\": sc.vector(value=[0.0, 0.0, 5.5], unit='m')\n",
    "    })\n",
    "coords['position'] = sc.vector(value=[0., 0., 15.], unit='m')\n",
    "ds = sc.Dataset(coords=coords)\n",
    "frames = wfm.get_frames(ds)\n",
    "fig4 = wfm.plot.time_distance_diagram(ds)\n",
    "ax4 = fig4.get_axes()[0]\n",
    "\n",
    "chopper_wfm1 = coords[\"choppers\"].value[\"WFMC1\"]\n",
    "chopper_wfm2 = coords[\"choppers\"].value[\"WFMC2\"]\n",
    "z_wfm = sc.norm(0.5 * (chopper_wfm1.position + chopper_wfm2.position)).value\n",
    "xmin = chopper_wfm1.time_open.values\n",
    "xmax = chopper_wfm1.time_close.values\n",
    "z_foc = 12.0\n",
    "\n",
    "ax4.plot([xmax] * 2, [z_wfm, z_det + 1.0], lw=1, color='k')\n",
    "ax4.plot([0, frames[\"time_max\"].values],\n",
    "         [z_wfm] * 2, lw=1, color='k', ls='dotted')\n",
    "ax4.text(frames[\"time_max\"].values, z_wfm, r'$z_{\\rm WFM}$', ha='left', va='center')\n",
    "\n",
    "ax4.plot([0, 5770.5], [z_foc] * 2, color='k')\n",
    "ax4.plot([9578.9, frames[\"time_max\"].values], [z_foc] * 2, color='k')\n",
    "ax4.text(frames[\"time_max\"].values, z_foc, 'FOC', ha='right', va='bottom')\n",
    "\n",
    "ax4.plot([(frames[\"time_min\"] + frames[\"delta_time_min\"]).values] * 2, [z_det, z_det + 1.0], lw=1, color='k')\n",
    "ax4.plot([frames[\"time_min\"].values] * 2, [z_det, z_det + 1.0], lw=1, color='k')\n",
    "ax4.plot([(frames[\"time_max\"] - frames[\"delta_time_max\"]).values] * 2, [z_det, z_det + 1.0], lw=1, color='k')\n",
    "ax4.plot([frames[\"time_max\"].values] * 2, [z_det, z_det + 1.0], lw=1, color='k')\n",
    "\n",
    "xmid = (0.5*((frames[\"time_min\"] + frames[\"time_min\"] + frames[\"delta_time_min\"]).data)).values\n",
    "ax4.plot([xmid] * 2, [z_det, z_det + 0.5], lw=1, color='k')\n",
    "\n",
    "ax4.annotate(text='', xy=(xmax, z_det + 0.4), xytext=(xmid, z_det + 0.4),\n",
    "             arrowprops=dict(arrowstyle='<->'))\n",
    "ax4.text(0.5*(xmax + frames[\"time_min\"].values), z_det + 0.4, r'$t(\\lambda_{N})$',\n",
    "         va='bottom', ha='center')\n",
    "ax4.text(xmid, z_det + 1.0, r'$\\Delta t(\\lambda_{N})$', va='bottom', ha='center', color='C2')\n",
    "ax4.text((0.5*((frames[\"time_max\"] + frames[\"time_max\"] - frames[\"delta_time_max\"]).data)).values,\n",
    "         z_det + 1.0, r'$\\Delta t(\\lambda_{N+1})$',\n",
    "         va='bottom', ha='center', color='C0')\n",
    "ax4.plot([xmax, xmid], [z_wfm, z_det], lw=1, ls='dashed', color='k')\n",
    "ax4.text(frames['time_min'].values, z_det, r'$\\lambda_{N}$   ', ha='right', va='top', color='C2')\n",
    "ax4.text(frames['time_max'].values, z_det, r'$\\lambda_{N+1}$', ha='left', va='top', color='C0')\n",
    "\n",
    "ax4.lines[4].set_color('C2')\n",
    "ax4.patches[2].set_color('mediumpurple')\n",
    "ax4.set_xlim(-400, 12500)\n",
    "ax4.set_title('Figure 5')\n",
    "\n",
    "fig4.canvas"
   ]
  },
  {
   "cell_type": "markdown",
   "id": "7ae243bf",
   "metadata": {},
   "source": [
    "In a real WFM chopper system,\n",
    "more than one frame can be realized by equipping the chopper with additional windows such that the full\n",
    "band width that fits in the time period between two subsequent source pulses at the detector position is used.\n",
    "This is illustrated in Fig. 6.\n",
    "\n",
    "The frame overlap chopper defines the bandwidth of the frame $N$ in order to suppress cross-talk\n",
    "from neighboring wavelength frames,\n",
    "as illustrated in Fig. 6 for two subsequent wavelength frames $N = 1$ and $N = 2$.\n",
    "They are designed such that $\\lambda_{N, {\\rm max}} = \\lambda_{N+1, {\\rm min}}$ yield a continuous spectrum\n",
    "at the detector.\n",
    "The concept of wavelength frame multiplication implies that no data can be recorded in the\n",
    "time window between two subsequent wavelength frames."
   ]
  },
  {
   "cell_type": "code",
   "execution_count": null,
   "id": "8bb5de74",
   "metadata": {},
   "outputs": [],
   "source": [
    "coords = wfm.make_fake_beamline(\n",
    "    nframes=2,\n",
    "    chopper_positions={\n",
    "        \"WFMC1\": sc.vector(value=[0.0, 0.0, 4.5], unit='m'),\n",
    "        \"WFMC2\": sc.vector(value=[0.0, 0.0, 5.5], unit='m')\n",
    "    })\n",
    "coords['position'] = sc.vector(value=[0., 0., 15.], unit='m')\n",
    "ds = sc.Dataset(coords=coords)\n",
    "frames = wfm.get_frames(ds)\n",
    "fig5 = wfm.plot.time_distance_diagram(ds)\n",
    "ax5 = fig5.get_axes()[0]\n",
    "\n",
    "chopper_wfm1 = coords[\"choppers\"].value[\"WFMC1\"]\n",
    "chopper_wfm2 = coords[\"choppers\"].value[\"WFMC2\"]\n",
    "z_wfm = sc.norm(0.5 * (chopper_wfm1.position + chopper_wfm2.position)).value\n",
    "xmin = chopper_wfm1.time_open.values\n",
    "xmax = chopper_wfm1.time_close.values\n",
    "z_foc = 12.0\n",
    "\n",
    "# ax4.plot([xmax] * 2, [z_wfm, z_det + 1.0], lw=1, color='k')\n",
    "ax5.plot([0, frames[\"time_max\"].values[-1]],\n",
    "         [z_wfm] * 2, lw=1, color='k', ls='dotted')\n",
    "ax5.text(frames[\"time_max\"].values[-1], z_wfm, r'$z_{\\rm WFM}$', ha='left', va='center')\n",
    "\n",
    "ax5.plot([(frames[\"time_min\"] + frames[\"delta_time_min\"]).values] * 2, [z_det, z_det + 1.0], lw=1, color='k')\n",
    "ax5.plot([frames[\"time_min\"].values] * 2, [z_det, z_det + 1.0], lw=1, color='k')\n",
    "ax5.plot([(frames[\"time_max\"] - frames[\"delta_time_max\"]).values] * 2, [z_det, z_det + 1.0], lw=1, color='k')\n",
    "ax5.plot([frames[\"time_max\"].values] * 2, [z_det, z_det + 1.0], lw=1, color='k')\n",
    "\n",
    "# xmid = (0.5*((frames[\"time_min\"] + frames[\"time_min\"] + frames[\"delta_time_min\"]).data)).values\n",
    "# ax4.plot([xmid] * 2, [z_det, z_det + 0.5], lw=1, color='k')\n",
    "\n",
    "# ax4.annotate(text='', xy=(xmax, z_det + 0.4), xytext=(xmid, z_det + 0.4),\n",
    "#              arrowprops=dict(arrowstyle='<->'))\n",
    "ax5.text(xmid, z_det + 1.0, r'$\\lambda_{N=1}$', va='bottom', ha='center', color='C2')\n",
    "ax5.text((0.5*((frames[\"time_max\"] + frames[\"time_max\"] - frames[\"delta_time_max\"]).data)).values[0],\n",
    "         z_det + 1.0, r'$\\lambda_{2}$',\n",
    "         va='bottom', ha='center', color='C0')\n",
    "ax5.text((0.5*((frames[\"time_min\"] + frames[\"time_min\"] + frames[\"delta_time_min\"]).data)).values[-1],\n",
    "         z_det + 1.0, r'$\\lambda_{2}$',\n",
    "         va='bottom', ha='center', color='C0')\n",
    "ax5.text((0.5*((frames[\"time_max\"] + frames[\"time_max\"] - frames[\"delta_time_max\"]).data)).values[-1],\n",
    "         z_det + 1.0, r'$\\lambda_{3}$',\n",
    "         va='bottom', ha='center', color='C1')\n",
    "\n",
    "# ax4.plot([xmax, xmid], [z_wfm, z_det], lw=1, ls='dashed', color='k')\n",
    "# ax4.text(frames['time_min'].values, z_det, r'$\\lambda_{N}$   ', ha='right', va='top', color='C2')\n",
    "# ax4.text(frames['time_max'].values, z_det, r'$\\lambda_{N+1}$', ha='left', va='top', color='C0')\n",
    "\n",
    "ax5.lines[6].set_color('C2')\n",
    "ax5.lines[8].set_color('C0')\n",
    "ax5.patches[2].set_color('mediumpurple')\n",
    "ax5.patches[5].set_color('grey')\n",
    "# ax4.set_xlim(-400, 12500)\n",
    "\n",
    "\n",
    "fig5.canvas"
   ]
  },
  {
   "cell_type": "markdown",
   "id": "2d8754af",
   "metadata": {},
   "source": [
    "An additional feature of the WFM concept is the possibility to adjust the wavelength resolution by simply\n",
    "changing the distance $\\Delta z_{\\rm WFM}$ between the WFM chopper discs (e.g. by using a motorized linear stage).\n",
    "According to Eq. (2),\n",
    "reducing $\\Delta z_{\\rm WFM}$ leads to a finer wavelength resolution at the cost of\n",
    "intensity by effectively reducing the time window in which the neutrons can pass.\n",
    "\n",
    "## A short example\n",
    "\n",
    "We now proceed to illustrate data processing at a WFM beamline in the form of a short example.\n",
    "\n",
    "### Create a beamline\n",
    "\n",
    "We first create a beamline with two WFM choppers and 6 wavelength frames,\n",
    "using the `wfm.make_fake_beamline` helper utility.\n",
    "The detector is placed 60 m from the source."
   ]
  },
  {
   "cell_type": "code",
   "execution_count": null,
   "id": "23da3459",
   "metadata": {},
   "outputs": [],
   "source": [
    "coords = wfm.make_fake_beamline(nframes=6)\n",
    "ds = sc.Dataset(coords=coords)\n",
    "wfm.plot.time_distance_diagram(ds).canvas"
   ]
  },
  {
   "cell_type": "markdown",
   "id": "0c9a7d08",
   "metadata": {},
   "source": [
    "The properties of the frames (boundaries in time and wavelength) are computed using the `wfm.get_frames` function"
   ]
  },
  {
   "cell_type": "code",
   "execution_count": null,
   "id": "f3e049e1",
   "metadata": {},
   "outputs": [],
   "source": [
    "frames = wfm.get_frames(ds)\n",
    "frames"
   ]
  },
  {
   "cell_type": "markdown",
   "id": "46d9de2e",
   "metadata": {},
   "source": [
    "### Create some neutrons\n",
    "\n",
    "We create 6 neutrons with known wavelengths, one for each frame.\n",
    "We choose the values for the wavelengths based on the limits given in the `frames` information above."
   ]
  },
  {
   "cell_type": "code",
   "execution_count": null,
   "id": "5b2238e1",
   "metadata": {},
   "outputs": [],
   "source": [
    "wavelengths = sc.array(dims=['wavelength'],\n",
    "                       values=[1.5, 3.0, 4.5, 6.0, 7.0, 8.25],\n",
    "                       unit='angstrom')"
   ]
  },
  {
   "cell_type": "markdown",
   "id": "c601e279",
   "metadata": {},
   "source": [
    "We assume that all 6 neutrons originated half-way through the source pulse,\n",
    "and we can thus calculate the times at which they hit the detector."
   ]
  },
  {
   "cell_type": "code",
   "execution_count": null,
   "id": "03804bef",
   "metadata": {},
   "outputs": [],
   "source": [
    "# Neutron mass to Planck constant ratio\n",
    "alpha = 2.5278e-4 * (sc.Unit('s') / sc.Unit('angstrom') / sc.Unit('m'))\n",
    "# Distance between the detector pixel and the source\n",
    "dz = sc.norm(coords['position'] - coords['source_position'])\n",
    "# Compute arrival times, in microseconds\n",
    "arrival_times = sc.to_unit(\n",
    "    alpha * dz * wavelengths,\n",
    "    'us') + coords['source_pulse_t_0'] + (0.5 * coords['source_pulse_length'])\n",
    "arrival_times"
   ]
  },
  {
   "cell_type": "markdown",
   "id": "a94afdc5",
   "metadata": {},
   "source": [
    "### Wrap the neutron counts and the beamline into a DataArray\n",
    "\n",
    "We make a data array that contains the beamlineinformation and a histogram of the neutrons over the time dimension."
   ]
  },
  {
   "cell_type": "code",
   "execution_count": null,
   "id": "721a6725",
   "metadata": {},
   "outputs": [],
   "source": [
    "tmin = sc.min(arrival_times)\n",
    "tmax = sc.max(arrival_times)\n",
    "dt = 0.1 * (tmax - tmin)\n",
    "coords['time'] = sc.linspace(dim='time',\n",
    "                             start=(tmin - dt).value,\n",
    "                             stop=(tmax + dt).value,\n",
    "                             num=2001,\n",
    "                             unit=dt.unit)\n",
    "counts, _ = np.histogram(arrival_times.values, bins=coords['time'].values)\n",
    "da = sc.DataArray(coords=coords,\n",
    "                  data=sc.array(dims=['time'], values=counts, unit='counts'))\n",
    "da"
   ]
  },
  {
   "cell_type": "code",
   "execution_count": null,
   "id": "d9b5c5f8",
   "metadata": {},
   "outputs": [],
   "source": [
    "da.plot()"
   ]
  },
  {
   "cell_type": "markdown",
   "id": "3c25e1bf",
   "metadata": {},
   "source": [
    "### Stitch the frames\n",
    "\n",
    "By using the information on the `frames`,\n",
    "we apply a time correction on the data in each frame by subtracting the time of the mid-point between\n",
    "the two WFM choppers from the `time` coordinate."
   ]
  },
  {
   "cell_type": "code",
   "execution_count": null,
   "id": "8b620655",
   "metadata": {},
   "outputs": [],
   "source": [
    "stitched = wfm.stitch(frames=frames, data=da, dim='time', bins=2001)\n",
    "stitched.plot()"
   ]
  },
  {
   "cell_type": "markdown",
   "id": "ce4b8814",
   "metadata": {},
   "source": [
    "The resulting coordinate is now time-of-flight,\n",
    "and we can use `scippneutron` to convert the time-of-flight to wavelength."
   ]
  },
  {
   "cell_type": "code",
   "execution_count": null,
   "id": "010db680",
   "metadata": {},
   "outputs": [],
   "source": [
    "wav = scn.convert(stitched, origin='tof', target='wavelength', scatter=False)\n",
    "wav"
   ]
  },
  {
   "cell_type": "code",
   "execution_count": null,
   "id": "15e05d03",
   "metadata": {},
   "outputs": [],
   "source": [
    "wav.plot()"
   ]
  },
  {
   "cell_type": "markdown",
   "id": "0fa28dfd",
   "metadata": {},
   "source": [
    "Zooming in on the first spike, we notice that something is not quite right: the original wavelength was 1.5 &#8491; but on the figure below is closer to 1.46 &#8491;."
   ]
  },
  {
   "cell_type": "code",
   "execution_count": null,
   "id": "b2973d10",
   "metadata": {},
   "outputs": [],
   "source": [
    "wav[\"wavelength\", (1.2*sc.units.angstrom):(1.7*sc.units.angstrom)].plot()"
   ]
  },
  {
   "cell_type": "markdown",
   "id": "f52ff432",
   "metadata": {},
   "source": [
    "Now the WFM method guarantees a constant $\\Delta\\lambda / \\lambda$,\n",
    "and so it is not surprising to see the final reduced wavelength not exactly matching the original.\n",
    "The question is: is the error within $\\Delta\\lambda / \\lambda$?"
   ]
  },
  {
   "cell_type": "code",
   "execution_count": null,
   "id": "07a2a256",
   "metadata": {},
   "outputs": [],
   "source": [
    "# Distance between WFM choppers\n",
    "dz_wfm = sc.norm(ds.coords[\"choppers\"].value[\"WFMC2\"].position - ds.coords[\"choppers\"].value[\"WFMC1\"].position)\n",
    "# Delta_lambda  / lambda\n",
    "dlambda_over_lambda = dz_wfm / sc.norm(coords['position'] -\n",
    "                                       frames['wfm_chopper_mid_point'].data)\n",
    "(1.5*sc.units.angstrom) * dlambda_over_lambda"
   ]
  },
  {
   "cell_type": "markdown",
   "id": "ff3d05ba",
   "metadata": {},
   "source": [
    "At 1.5 &#8491;, the resolution is 0.0127 &#8491;, which is smaller than the offset we observe above.\n",
    "In fact, we can perform a quick check using Scipp's value-based slicing, to verify that the sum of the counts\n",
    "in a region $\\Delta\\lambda$ wide around the original wavelength should be equal to 1:"
   ]
  },
  {
   "cell_type": "code",
   "execution_count": null,
   "id": "a4720739",
   "metadata": {},
   "outputs": [],
   "source": [
    "for i in range(len(wavelengths)):\n",
    "    lam = wavelengths[\"wavelength\", i]\n",
    "    dlam = 0.5 * dlambda_over_lambda * lam\n",
    "    print(\"Lambda:\", lam, \", count in range:\", sc.sum(wav['wavelength', lam - dlam:lam + dlam]).value)"
   ]
  },
  {
   "cell_type": "markdown",
   "id": "ee6f6b0f",
   "metadata": {},
   "source": [
    "This reveals that the reduced wavelengths for the first two neutrons do not agree within the required precision.\n",
    "We go back to our time-distance diagram and look at the paths taken by our 6 neutrons (plotted in red)."
   ]
  },
  {
   "cell_type": "code",
   "execution_count": null,
   "id": "3b0b37ab",
   "metadata": {},
   "outputs": [],
   "source": [
    "fig6 = wfm.plot.time_distance_diagram(da)\n",
    "ax6 = fig6.get_axes()[0]\n",
    "\n",
    "for i in range(len(wavelengths)):\n",
    "    ax6.plot([(coords['source_pulse_t_0'] + (0.5 * coords['source_pulse_length'])).value,\n",
    "              arrival_times['wavelength', i].value],\n",
    "             [0.0, sc.norm(coords['position']).value], color='r')\n",
    "fig6.canvas"
   ]
  },
  {
   "cell_type": "markdown",
   "id": "2449713c",
   "metadata": {},
   "source": [
    "Taking a closer look at the WFM choppers,\n",
    "we observe that the numbers we picked for the first two neutrons actually lead to unphysical paths:\n",
    "they do not make it through the chopper openings!"
   ]
  },
  {
   "cell_type": "code",
   "execution_count": null,
   "id": "80ca424b",
   "metadata": {},
   "outputs": [],
   "source": [
    "ax6.set_xlim(-1.0e3, 2.0e4)\n",
    "ax6.set_ylim(-1.5, 10.0)\n",
    "fig6.canvas.draw_idle()\n",
    "fig6.canvas"
   ]
  },
  {
   "cell_type": "markdown",
   "id": "0f22f5b6",
   "metadata": {},
   "source": [
    "So we modify our values so that neutrons 1 and 2 make it through:"
   ]
  },
  {
   "cell_type": "code",
   "execution_count": null,
   "id": "fc225b66",
   "metadata": {},
   "outputs": [],
   "source": [
    "wavelengths = sc.array(dims=['wavelength'],\n",
    "                       values=[1.75, 3.2, 4.5, 6.0, 7.0, 8.25],\n",
    "                       unit='angstrom')\n",
    "arrival_times = sc.to_unit(\n",
    "    alpha * dz * wavelengths,\n",
    "    'us') + coords['source_pulse_t_0'] + (0.5 * coords['source_pulse_length'])"
   ]
  },
  {
   "cell_type": "code",
   "execution_count": null,
   "id": "a0f5f80e",
   "metadata": {},
   "outputs": [],
   "source": [
    "fig7 = wfm.plot.time_distance_diagram(da)\n",
    "ax7 = fig7.get_axes()[0]\n",
    "\n",
    "for i in range(len(wavelengths)):\n",
    "    ax7.plot([(coords['source_pulse_t_0'] + (0.5 * coords['source_pulse_length'])).value,\n",
    "              arrival_times['wavelength', i].value],\n",
    "             [0.0, sc.norm(coords['position']).value], color='r')\n",
    "ax7.set_xlim(-1.0e3, 2.0e4)\n",
    "ax7.set_ylim(-1.5, 10.0)\n",
    "fig7.canvas"
   ]
  },
  {
   "cell_type": "markdown",
   "id": "296fb525",
   "metadata": {},
   "source": [
    "And repeat the stitching process:"
   ]
  },
  {
   "cell_type": "code",
   "execution_count": null,
   "id": "ed021410",
   "metadata": {},
   "outputs": [],
   "source": [
    "tmin = sc.min(arrival_times)\n",
    "tmax = sc.max(arrival_times)\n",
    "dt = 0.1 * (tmax - tmin)\n",
    "coords['time'] = sc.linspace(dim='time',\n",
    "                             start=(tmin - dt).value,\n",
    "                             stop=(tmax + dt).value,\n",
    "                             num=2001,\n",
    "                             unit=dt.unit)\n",
    "counts, _ = np.histogram(arrival_times.values, bins=coords['time'].values)\n",
    "da = sc.DataArray(coords=coords,\n",
    "                  data=sc.array(dims=['time'], values=counts, unit='counts'))\n",
    "stitched = wfm.stitch(frames=frames, data=da, dim='time', bins=2001)\n",
    "wav = scn.convert(stitched, origin='tof', target='wavelength', scatter=False)"
   ]
  },
  {
   "cell_type": "code",
   "execution_count": null,
   "id": "f0491b60",
   "metadata": {},
   "outputs": [],
   "source": [
    "wav[\"wavelength\", (1.55*sc.units.angstrom):(1.95*sc.units.angstrom)].plot()"
   ]
  },
  {
   "cell_type": "markdown",
   "id": "b0900368",
   "metadata": {},
   "source": [
    "This time, the peak is much closer to 1.75 &#8491;,\n",
    "and we can make sure the sum within the $\\Delta\\lambda$ range is 1 for all 6 neutrons:"
   ]
  },
  {
   "cell_type": "code",
   "execution_count": null,
   "id": "b7d85ff4",
   "metadata": {},
   "outputs": [],
   "source": [
    "for i in range(len(wavelengths)):\n",
    "    lam = wavelengths[\"wavelength\", i]\n",
    "    dlam = 0.5 * dlambda_over_lambda * lam\n",
    "    print(\"Lambda:\", lam, \", count in range:\", sc.sum(wav['wavelength', lam - dlam:lam + dlam]).value)"
   ]
  }
 ],
 "metadata": {
  "kernelspec": {
   "display_name": "Python 3",
   "language": "python",
   "name": "python3"
  },
  "language_info": {
   "codemirror_mode": {
    "name": "ipython",
    "version": 3
   },
   "file_extension": ".py",
   "mimetype": "text/x-python",
   "name": "python",
   "nbconvert_exporter": "python",
   "pygments_lexer": "ipython3",
   "version": "3.7.10"
  }
 },
 "nbformat": 4,
 "nbformat_minor": 5
}
