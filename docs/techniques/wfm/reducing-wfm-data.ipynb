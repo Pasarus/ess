{
 "cells": [
  {
   "cell_type": "markdown",
   "id": "218c876d",
   "metadata": {},
   "source": [
    "# Reducing WFM data\n",
    "\n",
    "This notebook aims to illustrate how to work with the wavelength frame multiplication submodule `wfm`.\n",
    "We will create a beamline that resembles the ODIN instrument beamline,\n",
    "generate some fake neutron data,\n",
    "and then show how to convert the neutron arrival times at the detector to neutron time-of-flight,\n",
    "from which a wavelength can then be computed (or process also commonly known as 'stitching')."
   ]
  },
  {
   "cell_type": "code",
   "execution_count": null,
   "id": "71570836",
   "metadata": {},
   "outputs": [],
   "source": [
    "import numpy as np\n",
    "import matplotlib.pyplot as plt\n",
    "plt.ioff() # Turn of auto-showing of figures\n",
    "import scipp as sc\n",
    "import scippneutron as scn\n",
    "import ess.wfm as wfm\n",
    "np.random.seed(1) # Fixed for reproducibility"
   ]
  },
  {
   "cell_type": "markdown",
   "id": "9242b413",
   "metadata": {},
   "source": [
    "## Create beamline components\n",
    "\n",
    "We first create all the components necessary to a beamline to run in WFM mode\n",
    "(see [Introduction to WFM](introduction-to-wfm.ipynb) for the meanings of the different symbols).\n",
    "The beamline will contain\n",
    "\n",
    "- a neutron source, located at the origin ($x = y = z =  0$)\n",
    "- a pulse with a defined length ($2860 ~\\mu s$) and $t_0$ ($130 ~\\mu s$)\n",
    "- a single pixel detector, located at $z = 60$ m\n",
    "- two WFM choppers, located at $z = 6.775$ m and $z = 7.225$ m, each with 6 frame windows/openings\n",
    "\n",
    "The `wfm` module provides a helper function to quickly create such a beamline.\n",
    "It returns a `dict` of coordinates, that can then be subsequently added to a data container."
   ]
  },
  {
   "cell_type": "code",
   "execution_count": null,
   "id": "0a71de8c",
   "metadata": {},
   "outputs": [],
   "source": [
    "coords = wfm.make_fake_beamline(nframes=6)\n",
    "coords"
   ]
  },
  {
   "cell_type": "markdown",
   "id": "5b1b01a6",
   "metadata": {},
   "source": [
    "## Generate some fake data\n",
    "\n",
    "Next, we will generate some fake data that is supposed to mimic a spectrum with a Bragg edge located at $4\\unicode{x212B}$.\n",
    "We start with describing a function which will act as our underlying distribution"
   ]
  },
  {
   "cell_type": "code",
   "execution_count": null,
   "id": "27931928",
   "metadata": {},
   "outputs": [],
   "source": [
    "x = np.linspace(1, 10.0, 100000)\n",
    "a = 20.0\n",
    "b = 4.0\n",
    "y1 = 0.7 / (np.exp(-a * (x - b)) + 1.0)\n",
    "y2 = 1.4-0.2*x\n",
    "y = y1 + y2\n",
    "fig1, ax1 = plt.subplots()\n",
    "ax1.plot(x, y)\n",
    "ax1.set_xlabel(\"Wavelength [angstroms]\")\n",
    "fig1"
   ]
  },
  {
   "cell_type": "markdown",
   "id": "e39e75dd",
   "metadata": {},
   "source": [
    "We then proceed to generate two sets of 100,000 events:\n",
    "- one for the `sample` using the distribution defined above\n",
    "- and one for the `background` which will be just a flat random distribution\n",
    "\n",
    "For the events in both `sample` and `background`,\n",
    "we define a wavelength for the neutrons as well as a birth time,\n",
    "which will be a random time between the pulse $t_0$ and the end of the useable pulse $t_0$ + pulse_length."
   ]
  },
  {
   "cell_type": "code",
   "execution_count": null,
   "id": "a12afa1f",
   "metadata": {},
   "outputs": [],
   "source": [
    "nevents = 100_000\n",
    "events = {\n",
    "    \"sample\": {\n",
    "        \"wavelengths\": sc.array(\n",
    "            dims=[\"wavelength\"],\n",
    "            values=np.random.choice(x, size=nevents, p=y/np.sum(y)),\n",
    "            unit=\"angstrom\"),\n",
    "        \"birth_times\": sc.array(\n",
    "            dims=[\"wavelength\"],\n",
    "            values=np.random.random(nevents) * coords[\"source_pulse_length\"].value,\n",
    "            unit=\"us\") + coords[\"source_pulse_t_0\"]\n",
    "    },\n",
    "    \"background\": {\n",
    "        \"wavelengths\": sc.array(\n",
    "            dims=[\"wavelength\"],\n",
    "            values=np.random.random(nevents) * 9.0 + 1.0,\n",
    "            unit=\"angstrom\"),\n",
    "        \"birth_times\": sc.array(\n",
    "            dims=[\"wavelength\"],\n",
    "            values=np.random.random(nevents) * coords[\"source_pulse_length\"].value,\n",
    "            unit=\"us\") + coords[\"source_pulse_t_0\"]\n",
    "    }\n",
    "}"
   ]
  },
  {
   "cell_type": "markdown",
   "id": "b520bb54",
   "metadata": {},
   "source": [
    "We can then take a quick look at our fake data by histogramming the events"
   ]
  },
  {
   "cell_type": "code",
   "execution_count": null,
   "id": "d3a8058e",
   "metadata": {},
   "outputs": [],
   "source": [
    "# Histogram and plot the event data\n",
    "bins = np.linspace(1.0, 10.0, 129)\n",
    "fig2, ax2 = plt.subplots()\n",
    "for key in events:\n",
    "    h = ax2.hist(events[key][\"wavelengths\"].values, bins=128, alpha=0.5, label=key)\n",
    "ax2.set_xlabel(\"Wavelength [angstroms]\")\n",
    "ax2.set_ylabel(\"Counts\")\n",
    "ax2.legend()\n",
    "fig2"
   ]
  },
  {
   "cell_type": "markdown",
   "id": "61a08595",
   "metadata": {},
   "source": [
    "We can also verify that the birth times fall within the expected range:"
   ]
  },
  {
   "cell_type": "code",
   "execution_count": null,
   "id": "586183c8",
   "metadata": {},
   "outputs": [],
   "source": [
    "for key, item in events.items():\n",
    "    print(key)\n",
    "    print(sc.min(item[\"birth_times\"]))\n",
    "    print(sc.max(item[\"birth_times\"]))"
   ]
  },
  {
   "cell_type": "markdown",
   "id": "067f0b87",
   "metadata": {},
   "source": [
    "We can then compute the arrival times of the events at the detector pixel"
   ]
  },
  {
   "cell_type": "code",
   "execution_count": null,
   "id": "9027a772",
   "metadata": {},
   "outputs": [],
   "source": [
    "# The ratio of neutron mass to the Planck constant\n",
    "alpha = 2.5278e+2 * (sc.Unit('us') / sc.Unit('angstrom') / sc.Unit('m'))\n",
    "# The distance between the source and the detector\n",
    "dz = sc.norm(coords['position'] - coords['source_position'])\n",
    "for key, item in events.items():\n",
    "    item[\"arrival_times\"] = alpha * dz * item[\"wavelengths\"] + item[\"birth_times\"]\n",
    "events[\"sample\"][\"arrival_times\"]"
   ]
  },
  {
   "cell_type": "markdown",
   "id": "afc36c41",
   "metadata": {},
   "source": [
    "## Visualize the beamline's chopper cascade\n",
    "\n",
    "We first attach the beamline geometry to a Dataset"
   ]
  },
  {
   "cell_type": "code",
   "execution_count": null,
   "id": "74473ba1",
   "metadata": {},
   "outputs": [],
   "source": [
    "ds = sc.Dataset(coords=coords)\n",
    "ds"
   ]
  },
  {
   "cell_type": "markdown",
   "id": "8d462af2",
   "metadata": {},
   "source": [
    "The `wfm.plot` submodule provides a useful tool to visualise the chopper cascade as a time-distance diagram.\n",
    "This is achieved by calling"
   ]
  },
  {
   "cell_type": "code",
   "execution_count": null,
   "id": "d1d71bf6",
   "metadata": {},
   "outputs": [],
   "source": [
    "wfm.plot.time_distance_diagram(ds)"
   ]
  },
  {
   "cell_type": "markdown",
   "id": "e9cd72c3",
   "metadata": {},
   "source": [
    "This shows the 6 frames, generated by the WFM choppers,\n",
    "as well as their predicted time boundaries at the position of the detector.\n",
    "\n",
    "Each frame has a time window during which neutrons are allowed to pass through,\n",
    "as well as minimum and maximum allowed wavelengths.\n",
    "\n",
    "This information is obtained from the beamline geometry by calling"
   ]
  },
  {
   "cell_type": "code",
   "execution_count": null,
   "id": "4d9ea8c9",
   "metadata": {},
   "outputs": [],
   "source": [
    "frames = wfm.get_frames(ds)\n",
    "frames"
   ]
  },
  {
   "cell_type": "markdown",
   "id": "835e72fc",
   "metadata": {},
   "source": [
    "## Discard neutrons that do not make it through the chopper windows\n",
    "\n",
    "Once we have the parameters of the 6 wavelength frames,\n",
    "we need to run through all our generated neutrons and filter out all the neutrons with invalid flight paths,\n",
    "i.e. the ones that do not make it through both chopper openings in a given frame."
   ]
  },
  {
   "cell_type": "code",
   "execution_count": null,
   "id": "ba47090b",
   "metadata": {},
   "outputs": [],
   "source": [
    "events[\"sample\"][\"valid_indices\"] = []\n",
    "events[\"background\"][\"valid_indices\"] = []\n",
    "near_wfm_chopper = ds.coords[\"choppers\"].value[\"WFMC1\"]\n",
    "far_wfm_chopper = ds.coords[\"choppers\"].value[\"WFMC2\"]\n",
    "near_time_open = near_wfm_chopper.time_open\n",
    "near_time_close = near_wfm_chopper.time_close\n",
    "far_time_open = far_wfm_chopper.time_open\n",
    "far_time_close = far_wfm_chopper.time_close\n",
    "\n",
    "for item in events.values():\n",
    "    # Compute event arrival times at wfm choppers 1 and 2\n",
    "    slopes = 1.0 / (alpha * item[\"wavelengths\"])\n",
    "    intercepts = -slopes * item[\"birth_times\"]\n",
    "    times_at_wfm1 = (sc.norm(near_wfm_chopper.position) - intercepts) / slopes\n",
    "    times_at_wfm2 = (sc.norm(far_wfm_chopper.position) - intercepts) / slopes\n",
    "    # Create a mask to see if neutrons go through one of the openings\n",
    "    mask = sc.zeros(dims=times_at_wfm1.dims, shape=times_at_wfm1.shape, dtype=bool)\n",
    "    for i in range(len(frames[\"time_min\"])):\n",
    "        mask |= ((times_at_wfm1 >= near_time_open[\"frame\", i]) &\n",
    "                 (times_at_wfm1 <= near_time_close[\"frame\", i]) &\n",
    "                 (item[\"wavelengths\"] >= frames[\"wavelength_min\"][\"frame\", i]).data &\n",
    "                 (item[\"wavelengths\"] <= frames[\"wavelength_max\"][\"frame\", i]).data)\n",
    "    item[\"valid_indices\"] = np.argwhere(mask.values)"
   ]
  },
  {
   "cell_type": "markdown",
   "id": "6794b994",
   "metadata": {},
   "source": [
    "## Create a realistic Dataset\n",
    "\n",
    "We now create a dataset that contains:\n",
    "- the beamline geometry\n",
    "- the time coordinate\n",
    "- the histogrammed events"
   ]
  },
  {
   "cell_type": "code",
   "execution_count": null,
   "id": "8df2189f",
   "metadata": {},
   "outputs": [],
   "source": [
    "for item in events.values():\n",
    "    item[\"valid_times\"] = item[\"arrival_times\"].values[item[\"valid_indices\"]]\n",
    "\n",
    "tmin = min([item[\"valid_times\"].min() for item in events.values()])\n",
    "tmax = max([item[\"valid_times\"].max() for item in events.values()])\n",
    "\n",
    "dt = 0.1 * (tmax - tmin)\n",
    "time_coord = sc.linspace(dim='time',\n",
    "                         start=tmin - dt,\n",
    "                         stop=tmax + dt,\n",
    "                         num=513,\n",
    "                         unit=events[\"sample\"][\"arrival_times\"].unit)\n",
    "# Histogram the data\n",
    "for key, item in events.items():\n",
    "    item[\"counts\"], _ = np.histogram(item[\"valid_times\"], bins=time_coord.values)\n",
    "    ds[key] = sc.array(dims=['time'], values=item[\"counts\"], unit='counts')\n",
    "# Add the time coordinate\n",
    "ds.coords[\"time\"] = time_coord\n",
    "ds"
   ]
  },
  {
   "cell_type": "code",
   "execution_count": null,
   "id": "48ce8012",
   "metadata": {},
   "outputs": [],
   "source": [
    "ds.plot()"
   ]
  },
  {
   "cell_type": "markdown",
   "id": "573620a9",
   "metadata": {},
   "source": [
    "## Stitch the frames\n",
    "\n",
    "Wave-frame multiplication consists of making 6 new pulses from the original pulse.\n",
    "This implies that the WFM choppers are acting as a source chopper.\n",
    "Hence, to compute a wavelength from a time and a distance between source and detector,\n",
    "the location of the source must now be at the position of the WFM choppers,\n",
    "or more exactly at the mid-point between the two WFM choppers.\n",
    "\n",
    "The stitching operation equates to converting the `time` dimension to `time-of-flight`,\n",
    "by subtracting from each frame a time shift equal to the mid-point between the two WFM choppers.\n",
    "\n",
    "This is performed with the `stitch` function in the `wfm` module:"
   ]
  },
  {
   "cell_type": "code",
   "execution_count": null,
   "id": "8692b268",
   "metadata": {},
   "outputs": [],
   "source": [
    "stitched = wfm.stitch(frames=frames,\n",
    "                      data=ds,\n",
    "                      dim='time',\n",
    "                      bins=513)\n",
    "stitched"
   ]
  },
  {
   "cell_type": "code",
   "execution_count": null,
   "id": "e1385882",
   "metadata": {},
   "outputs": [],
   "source": [
    "stitched.plot()"
   ]
  },
  {
   "cell_type": "markdown",
   "id": "314e6452",
   "metadata": {},
   "source": [
    "By default, the `stitched` function returns a single object,\n",
    "where all frames have been combined onto a common axis.\n",
    "It is however possible to return the individual frames separately, using the `merge_frames=False` argument.\n",
    "This makes it possible to visualize the different frames, for diagnostic purposes:"
   ]
  },
  {
   "cell_type": "code",
   "execution_count": null,
   "id": "e56f96d5",
   "metadata": {
    "scrolled": false
   },
   "outputs": [],
   "source": [
    "stitched_frames = wfm.stitch(frames=frames,\n",
    "                      data=ds,\n",
    "                      dim='time',\n",
    "                      merge_frames=False)\n",
    "# In the case of stitching a Dataset,\n",
    "# stitch returns a dict of frames for each entry in the Dataset\n",
    "sc.plot(stitched_frames[\"sample\"])"
   ]
  },
  {
   "cell_type": "markdown",
   "id": "50b78fa3",
   "metadata": {},
   "source": [
    "## Convert to wavelength\n",
    "\n",
    "Now that the data coordinate is time-of-flight (`tof`),\n",
    "we can use `scippneutron` to perform the unit conversion from `tof` to `wavelength`."
   ]
  },
  {
   "cell_type": "code",
   "execution_count": null,
   "id": "630d1a14",
   "metadata": {},
   "outputs": [],
   "source": [
    "converted = scn.convert(stitched, origin='tof', target='wavelength', scatter=False)\n",
    "converted.plot()"
   ]
  },
  {
   "cell_type": "markdown",
   "id": "a33daf7e",
   "metadata": {},
   "source": [
    "## Normalization\n",
    "\n",
    "Normalization is performed simply by dividing the counts of the `sample` run by the counts of the `background` run."
   ]
  },
  {
   "cell_type": "code",
   "execution_count": null,
   "id": "835e5880",
   "metadata": {},
   "outputs": [],
   "source": [
    "normalized = converted['sample'] / converted['background']\n",
    "normalized.plot()"
   ]
  },
  {
   "cell_type": "markdown",
   "id": "19a7ce0e",
   "metadata": {},
   "source": [
    "## Comparing to the raw wavelengths\n",
    "\n",
    "The final step is a sanity check to verify that the wavelength-dependent data obtained from the stitching process\n",
    "agrees (to within the beamline resolution) with the original wavelength distribution that was generated at\n",
    "the start of the workflow.\n",
    "\n",
    "For this, we simply histogram the raw neutron events using the same bins as the `normalized` data,\n",
    "filtering out the neutrons with invalid flight paths."
   ]
  },
  {
   "cell_type": "code",
   "execution_count": null,
   "id": "88136a3a",
   "metadata": {},
   "outputs": [],
   "source": [
    "for item in events.values():\n",
    "    item[\"wavelength_counts\"], _ = np.histogram(\n",
    "        item[\"wavelengths\"].values[item[\"valid_indices\"]],\n",
    "        bins=normalized.coords['wavelength'].values)"
   ]
  },
  {
   "cell_type": "markdown",
   "id": "00abe95e",
   "metadata": {},
   "source": [
    "We then normalize the `sample` by the `background` run,\n",
    "and plot the resulting spectrum alongside the one obtained from the stitching."
   ]
  },
  {
   "cell_type": "code",
   "execution_count": null,
   "id": "49ac37ac",
   "metadata": {},
   "outputs": [],
   "source": [
    "original = sc.DataArray(\n",
    "    data=sc.array(dims=['wavelength'],\n",
    "                  values=events[\"sample\"][\"wavelength_counts\"] /\n",
    "                         events[\"background\"][\"wavelength_counts\"]),\n",
    "    coords = {\"wavelength\": normalized.coords['wavelength']})\n",
    "\n",
    "sc.plot({\"stitched\": normalized, \"original\": original})"
   ]
  },
  {
   "cell_type": "markdown",
   "id": "bd0f62f7",
   "metadata": {},
   "source": [
    "We can see that the counts in the `stitched` data agree very well with the original data.\n",
    "There is some smoothing of the data seen in the `stitched` result,\n",
    "and this is expected because of the resolution limitations of the beamline due to its long source pulse.\n",
    "This smoothing (or smearing) would, however, be much stronger if WFM choppers were not used. "
   ]
  }
 ],
 "metadata": {
  "kernelspec": {
   "display_name": "Python 3",
   "language": "python",
   "name": "python3"
  },
  "language_info": {
   "codemirror_mode": {
    "name": "ipython",
    "version": 3
   },
   "file_extension": ".py",
   "mimetype": "text/x-python",
   "name": "python",
   "nbconvert_exporter": "python",
   "pygments_lexer": "ipython3",
   "version": "3.7.10"
  }
 },
 "nbformat": 4,
 "nbformat_minor": 5
}
