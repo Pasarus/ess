{
 "cells": [
  {
   "cell_type": "markdown",
   "metadata": {},
   "source": [
    "## SANS2D reduction\n",
    "This is a notebook to reduce data from SANS2D. \n",
    "\n",
    "### Basic components \n",
    "* File loading: sample, sample trans, background, background trans, directbeam, directbeam trans (ess.loki)\n",
    "* Transform coordinates: sample, bench, monitor position offsets (ess.loki.larmor, consider ess.loki.sans2d, dedicated loader,  helper functions)\n",
    "* Masking (for file or programatically, ess.loki, masks applied as a part of loader da = ess.loki.load(file) or manually, da.masks['beam_stop'] = ess.loki.sans2d.make_beamstop_mask(da) or ess.loki.mask_beamstop(da)). Paths (not files) to mask to ess.loki.sans2d \n",
    "* Instrument geometry offset ess.loki.sans2d.load(.., offset = {position:monitor})\n",
    "* Define wavelenght and q bins (wavelenght bands) geomspace is fine for the moment\n",
    "* Reduction (regular full wavelenght range) - ess.sans\n",
    "* Reduction by wavelenght (reduction by wavelenght through the same fucntion, ess.sans provided loki/sans2d specific functions are removed). groupby argument is LoKI specific. To be looked at\n",
    "* Normalize and subtract (ess.sans) make more sense to be part of top-level function, both should be fine\n",
    "\n",
    "\n",
    "### The notebook uses sans.py module that contains\n",
    "\n",
    "* project_xy don't include \n",
    "* solid_angle (ess.loki.larmor and ess.loki.sans2d) -> candidate for scippneutron\n",
    "* subtract_background_mean\n",
    "* transmission_fraction - generic function taking monitors as arguments in ess.sans to be called from ess.loki.sans2d. Preprocessing of monitors can be excluded from the main function (independent helper)\n",
    "* to_wavelength - rebinning may not be required, norm term may be provided as histogram. Lines 87-92 can be moved outside and the call monitor\n",
    "* reduce uses groupby layer at the moment but may be different argument. Has some specific features of instrument. Spectrum may not be the only choice. ess.loki.sans2d. Eventually can be moved to ess.sans\n",
    "* reduce_by_wavelength\n",
    "* q resolution small clean-up (global sample variable)\n",
    "* gravity - look at the issue\n",
    "\n",
    "### sans.py calls another module contrib.py\n",
    "\n",
    "* midpoints \n",
    "* to_bin_centers candidate for scipp, copy for now\n",
    "* to_bin_edges candidate for scipp, copy for now\n",
    "* map_to_bins - may be better way to implement it, copy for now\n",
    "* select_bins (not used?)\n",
    "* make_slices may be nicer way to implement it now\n"
   ]
  },
  {
   "cell_type": "code",
   "execution_count": 1,
   "metadata": {},
   "outputs": [],
   "source": [
    "import scipp as sc\n",
    "import scippneutron as scn\n",
    "from scipp.plotting import plot\n",
    "from load_files import load_isis, load_rkh_q, load_rkh_wav, setup_masks\n",
    "from transform_coordinates import setup_offsets, setup_geometry\n",
    "import sans"
   ]
  },
  {
   "cell_type": "markdown",
   "metadata": {},
   "source": [
    "## Loading files"
   ]
  },
  {
   "cell_type": "code",
   "execution_count": 2,
   "metadata": {},
   "outputs": [],
   "source": [
    "try:\n",
    "    import dataconfig # run make_config.py to create this\n",
    "except:\n",
    "    print(\"ERROR: dataconfig.py not find please run `make_config.py`\\n\")\n",
    "    !python make_config.py -h # change to `-f path` or run in terminal\n",
    "\n",
    "path = dataconfig.data_root\n",
    "direct_beam_file = 'DIRECT_SANS2D_REAR_34327_4m_8mm_16Feb16.dat'\n",
    "#TODO: Are we using moderator file?\n",
    "moderator_file = 'ModeratorStdDev_TS2_SANS_LETexptl_07Aug2015.txt'\n",
    "\n",
    "sample_run_number = 63114\n",
    "sample_transmission_run_number = 63114\n",
    "background_run_number = 63159\n",
    "background_transmission_run_number = 63159 \n",
    "directbeam_run_number = 63091\n",
    "directbeam_transmission_run_number = 63091\n",
    "\n",
    "mask_1 = f'{path}/MASK_SANS2D_REAR_Edges_16Mar2015.xml'\n",
    "mask_2 = f'{path}/MASK_SANS2D_FRONT_Edges_16Mar2015.xml'\n",
    "mask_3 = f'{path}/MASK_SANS2D_BOTH_Extras_24Mar2015.xml'\n",
    "mask_4 = f'{path}/MASK_SANS2D_REAR_Bottom_3_tubes_16May2014.xml'\n",
    "mask_5 = f'{path}/MASK_SANS2D_beam_stop_4m_x_100mm_2July2015_medium_beamstop.xml'\n",
    "mask_6 = f'{path}/MASK_SANS2D_REAR_module2_tube12.xml'\n",
    "mask_7 = f'{path}/MASK_SANS2D_FRONT_module3_tube14_module5_tube6_tube7.xml'\n",
    "mask_8 = f'{path}/MASK_SANS2D_FRONT_module2_tube18.xml'\n",
    "mask_9 = f'{path}/MASK_SANS2D_FRONT_module5_tube20.xml'\n",
    "\n",
    "idf_filename = f'{path}/SANS2D_Definition_Tubes.xml'\n",
    "\n",
    "l_collimation = sc.Variable(value=4.0, unit=sc.units.m)\n",
    "r2 = sc.Variable(value=4.0/1000, unit=sc.units.m) # sample aperture radius\n",
    "r1 = sc.Variable(value=10.0/1000, unit=sc.units.m) # source aperture radius (in user file its diameter)  \n",
    "dr = sc.Variable(value=8.0/1000, unit=sc.units.m) # virtual ring width on detector"
   ]
  },
  {
   "cell_type": "code",
   "execution_count": 3,
   "metadata": {},
   "outputs": [
    {
     "name": "stderr",
     "output_type": "stream",
     "text": [
      "Workspace run log 'good_frames' has unrecognised units: 'frames'\n",
      "Workspace run log 'period_change_log' has unrecognised units: 'period_number'\n",
      "Workspace run log 'raw_frames' has unrecognised units: 'frames'\n",
      "Workspace run log 'veto_log' has unrecognised units: 'is_vetoing'\n",
      "Workspace run log 'events_log' has unrecognised units: 'events'\n",
      "Workspace run log 'frame_log' has unrecognised units: 'frame_number'\n",
      "Workspace run log 'good_frame_log' has unrecognised units: 'is_good'\n",
      "Workspace run log 'period_log' has unrecognised units: 'period_number'\n",
      "Workspace run log 'raw_events_log' has unrecognised units: 'events'\n",
      "Workspace run log 'good_frames' has unrecognised units: 'frames'\n",
      "Workspace run log 'period_change_log' has unrecognised units: 'period_number'\n",
      "Workspace run log 'raw_frames' has unrecognised units: 'frames'\n",
      "Workspace run log 'veto_log' has unrecognised units: 'is_vetoing'\n",
      "Workspace run log 'events_log' has unrecognised units: 'events'\n",
      "Workspace run log 'frame_log' has unrecognised units: 'frame_number'\n",
      "Workspace run log 'good_frame_log' has unrecognised units: 'is_good'\n",
      "Workspace run log 'period_log' has unrecognised units: 'period_number'\n",
      "Workspace run log 'raw_events_log' has unrecognised units: 'events'\n",
      "Workspace run log 'good_frames' has unrecognised units: 'frames'\n",
      "Workspace run log 'period_change_log' has unrecognised units: 'period_number'\n",
      "Workspace run log 'raw_frames' has unrecognised units: 'frames'\n",
      "Workspace run log 'veto_log' has unrecognised units: 'is_vetoing'\n",
      "Workspace run log 'events_log' has unrecognised units: 'events'\n",
      "Workspace run log 'frame_log' has unrecognised units: 'frame_number'\n",
      "Workspace run log 'good_frame_log' has unrecognised units: 'is_good'\n",
      "Workspace run log 'period_log' has unrecognised units: 'period_number'\n",
      "Workspace run log 'raw_events_log' has unrecognised units: 'events'\n",
      "Workspace run log 'good_frames' has unrecognised units: 'frames'\n",
      "Workspace run log 'period_change_log' has unrecognised units: 'period_number'\n",
      "Workspace run log 'raw_frames' has unrecognised units: 'frames'\n",
      "Workspace run log 'veto_log' has unrecognised units: 'is_vetoing'\n",
      "Workspace run log 'events_log' has unrecognised units: 'events'\n",
      "Workspace run log 'frame_log' has unrecognised units: 'frame_number'\n",
      "Workspace run log 'good_frame_log' has unrecognised units: 'is_good'\n",
      "Workspace run log 'period_log' has unrecognised units: 'period_number'\n",
      "Workspace run log 'raw_events_log' has unrecognised units: 'events'\n",
      "Workspace run log 'good_frames' has unrecognised units: 'frames'\n",
      "Workspace run log 'period_change_log' has unrecognised units: 'period_number'\n",
      "Workspace run log 'raw_frames' has unrecognised units: 'frames'\n",
      "Workspace run log 'veto_log' has unrecognised units: 'is_vetoing'\n",
      "Workspace run log 'events_log' has unrecognised units: 'events'\n",
      "Workspace run log 'frame_log' has unrecognised units: 'frame_number'\n",
      "Workspace run log 'good_frame_log' has unrecognised units: 'is_good'\n",
      "Workspace run log 'period_log' has unrecognised units: 'period_number'\n",
      "Workspace run log 'raw_events_log' has unrecognised units: 'events'\n"
     ]
    },
    {
     "name": "stdout",
     "output_type": "stream",
     "text": [
      "CPU times: user 1min 25s, sys: 5.13 s, total: 1min 30s\n",
      "Wall time: 1min 28s\n"
     ]
    }
   ],
   "source": [
    "%%time\n",
    "#TODO: SANS2D data needs to be trimmed (to be confirmed what is required range spectrum_size =  245760//2 or spectrum_size = 122880//2)\n",
    "spectrum_size = 122880//2\n",
    "direct_beam = load_rkh_wav(filename=f'{path}/{direct_beam_file}')\n",
    "sample = load_isis(filename=f'{path}/SANS2D000{sample_run_number}.nxs', spectrum_size = spectrum_size)\n",
    "sample_trans = load_isis(filename=f'{path}/SANS2D000{sample_transmission_run_number}.nxs', spectrum_size = spectrum_size)\n",
    "background = load_isis(filename=f'{path}/SANS2D000{background_run_number}.nxs', spectrum_size = spectrum_size)\n",
    "background_trans = load_isis(filename=f'{path}/SANS2D000{background_transmission_run_number}.nxs', spectrum_size =  spectrum_size)\n",
    "directbeam = load_isis(filename=f'{path}/SANS2D000{directbeam_run_number}.nxs', spectrum_size = spectrum_size)\n",
    "\n",
    "#TODO: What about units?"
   ]
  },
  {
   "cell_type": "markdown",
   "metadata": {},
   "source": [
    "## Setting up masks and geometries"
   ]
  },
  {
   "cell_type": "code",
   "execution_count": 5,
   "metadata": {},
   "outputs": [],
   "source": [
    "#TODO: resolve this. Wasn't able to transform coordinates without doing this \n",
    "sample = sample['spectrum', 0:spectrum_size].copy()\n",
    "background = background['spectrum', 0:spectrum_size].copy()\n",
    "directbeam = sample['spectrum', 0:spectrum_size].copy()"
   ]
  },
  {
   "cell_type": "code",
   "execution_count": 6,
   "metadata": {},
   "outputs": [],
   "source": [
    "setup_offsets(sample, background, directbeam)"
   ]
  },
  {
   "cell_type": "code",
   "execution_count": 7,
   "metadata": {},
   "outputs": [],
   "source": [
    "mask_files = [mask_1, mask_2, mask_3, mask_4, mask_5, mask_6, mask_7, mask_8, mask_9]\n",
    "setup_masks(idf_filename, mask_files, sample, background, spectrum_size)                                                           \n",
    "    \n",
    "#PRINT masking off beamstop arm 15mm wide at 20 degrees\n",
    "#!PRINT not masking beam stop arm, M4 out\n",
    "#mask/line 15 20"
   ]
  },
  {
   "cell_type": "code",
   "execution_count": 8,
   "metadata": {},
   "outputs": [],
   "source": [
    "sample.coords['base_position'] = sample.coords['position'].copy()\n",
    "background.coords['base_position'] = background.coords['position'].copy()\n",
    "directbeam.coords['base_position'] = directbeam.coords['position'].copy()"
   ]
  },
  {
   "cell_type": "code",
   "execution_count": 9,
   "metadata": {},
   "outputs": [],
   "source": [
    "setup_geometry(sample, background)"
   ]
  },
  {
   "cell_type": "markdown",
   "metadata": {},
   "source": [
    "## Defining parameters for data reduction "
   ]
  },
  {
   "cell_type": "code",
   "execution_count": 10,
   "metadata": {},
   "outputs": [],
   "source": [
    "q_bins = sc.geomspace(dim = 'Q', start = 0.008, stop = 0.6, num = 55, unit = sc.units.one/sc.units.angstrom)\n",
    "wavelength_bins = sc.geomspace(dim = 'wavelength', start = 1.75, stop = 16.5, num = 118, unit=sc.units.angstrom)\n",
    "wavelength_bands = sc.linspace(dim = 'wavelength', start = 1.75, stop = 16.5, num = 6, unit=sc.units.angstrom)\n",
    "#TODO: Add bands as a predefined list"
   ]
  },
  {
   "cell_type": "markdown",
   "metadata": {},
   "source": [
    "## Reduction (full spectra)"
   ]
  },
  {
   "cell_type": "code",
   "execution_count": 12,
   "metadata": {},
   "outputs": [
    {
     "name": "stdout",
     "output_type": "stream",
     "text": [
      "CPU times: user 501 ms, sys: 288 ms, total: 789 ms\n",
      "Wall time: 574 ms\n"
     ]
    }
   ],
   "source": [
    "%%time\n",
    "sample_q_reduce = sans.to_q(data=sample,\n",
    "                        transmission=sample_trans,\n",
    "                        direct_beam=direct_beam,\n",
    "                        direct_beam_transmission=directbeam, # note: background_trans\n",
    "                        masks=sample.masks,\n",
    "                        q_bins = q_bins,\n",
    "                        wavelength_bins = wavelength_bins)"
   ]
  },
  {
   "cell_type": "code",
   "execution_count": 13,
   "metadata": {},
   "outputs": [
    {
     "name": "stdout",
     "output_type": "stream",
     "text": [
      "CPU times: user 480 ms, sys: 266 ms, total: 746 ms\n",
      "Wall time: 338 ms\n"
     ]
    }
   ],
   "source": [
    "%%time\n",
    "background_q_reduce = sans.to_q(data=background,\n",
    "                            transmission=background_trans,\n",
    "                            direct_beam=direct_beam,\n",
    "                            direct_beam_transmission=directbeam, # note: background_trans\n",
    "                            masks=background.masks,\n",
    "                            q_bins = q_bins,\n",
    "                            wavelength_bins = wavelength_bins)"
   ]
  },
  {
   "cell_type": "code",
   "execution_count": 14,
   "metadata": {},
   "outputs": [],
   "source": [
    "reduced = sans.normalize_and_subtract(sample_q_reduce, background_q_reduce)"
   ]
  },
  {
   "cell_type": "markdown",
   "metadata": {},
   "source": [
    "## Reduction by wavelength"
   ]
  },
  {
   "cell_type": "code",
   "execution_count": 15,
   "metadata": {},
   "outputs": [
    {
     "name": "stdout",
     "output_type": "stream",
     "text": [
      "CPU times: user 1.12 s, sys: 582 ms, total: 1.7 s\n",
      "Wall time: 853 ms\n"
     ]
    }
   ],
   "source": [
    "%%time\n",
    "sample_q_lambda = sans.to_q(data=sample,\n",
    "                                         transmission=sample_trans,\n",
    "                                         direct_beam=direct_beam,\n",
    "                                         direct_beam_transmission=directbeam, # note: background_trans\n",
    "                                         masks=sample.masks,\n",
    "                                         q_bins = q_bins,\n",
    "                                         wavelength_bins = wavelength_bins,\n",
    "                                         wavelength_bands = wavelength_bands)"
   ]
  },
  {
   "cell_type": "code",
   "execution_count": 16,
   "metadata": {},
   "outputs": [
    {
     "name": "stdout",
     "output_type": "stream",
     "text": [
      "CPU times: user 1.15 s, sys: 584 ms, total: 1.74 s\n",
      "Wall time: 854 ms\n"
     ]
    }
   ],
   "source": [
    "%%time\n",
    "background_q_lambda = sans.to_q(data=background,\n",
    "                                        transmission=background_trans,\n",
    "                                        direct_beam=direct_beam,\n",
    "                                        direct_beam_transmission=directbeam, # note: same as transmission\n",
    "                                        masks=background.masks,\n",
    "                                        q_bins = q_bins,\n",
    "                                        wavelength_bins = wavelength_bins,\n",
    "                                        wavelength_bands = wavelength_bands)"
   ]
  },
  {
   "cell_type": "code",
   "execution_count": 17,
   "metadata": {},
   "outputs": [],
   "source": [
    "sample_q_reduce_wav = sc.sum(sample_q_lambda, 'wavelength')\n",
    "background_q_reduce_wav = sc.sum(background_q_lambda, 'wavelength')"
   ]
  },
  {
   "cell_type": "code",
   "execution_count": 18,
   "metadata": {},
   "outputs": [],
   "source": [
    "reduced_by_wavelength = sans.normalize_and_subtract(sample_q_reduce_wav, background_q_reduce_wav)"
   ]
  },
  {
   "cell_type": "markdown",
   "metadata": {},
   "source": [
    "## Comoparison reduced vs reduced_by_wavelength"
   ]
  },
  {
   "cell_type": "code",
   "execution_count": 19,
   "metadata": {},
   "outputs": [
    {
     "data": {
      "application/vnd.jupyter.widget-view+json": {
       "model_id": "63a65ceb7f414225a0ac3a1617ba1a61",
       "version_major": 2,
       "version_minor": 0
      },
      "text/plain": [
       "VBox(children=(HBox(children=(VBox(children=(Button(icon='home', layout=Layout(padding='0px 0px 0px 0px', widt…"
      ]
     },
     "metadata": {},
     "output_type": "display_data"
    }
   ],
   "source": [
    "plot({'reduced': reduced, 'reduced_by_wavelength':reduced_by_wavelength})"
   ]
  },
  {
   "cell_type": "code",
   "execution_count": 48,
   "metadata": {},
   "outputs": [
    {
     "name": "stderr",
     "output_type": "stream",
     "text": [
      "More than 20 figures have been opened. Figures created through the pyplot interface (`matplotlib.pyplot.figure`) are retained until explicitly closed and may consume too much memory. (To control this warning, see the rcParam `figure.max_open_warning`).\n"
     ]
    },
    {
     "data": {
      "application/vnd.jupyter.widget-view+json": {
       "model_id": "dbbbfbbd36bd46d4b6bc439b2c023319",
       "version_major": 2,
       "version_minor": 0
      },
      "text/plain": [
       "VBox(children=(HBox(children=(VBox(children=(Button(icon='home', layout=Layout(padding='0px 0px 0px 0px', widt…"
      ]
     },
     "metadata": {},
     "output_type": "display_data"
    }
   ],
   "source": [
    "reduced_lambda = sans.normalize_and_subtract(sample_q_lambda, background_q_lambda)\n",
    "sc.plot(sc.collapse(reduced_lambda, keep='Q'))"
   ]
  },
  {
   "cell_type": "code",
   "execution_count": 43,
   "metadata": {},
   "outputs": [
    {
     "data": {
      "text/html": [
       "<div><!-- Original source from -->\n",
       "<!-- https://github.com/jsignell/xarray/blob/1d960933ab252e0f79f7e050e6c9261d55568057/xarray/static/html/icons-svg-inline.html -->\n",
       "<svg style=\"position: absolute; width: 0; height: 0; overflow: hidden\">\n",
       "<defs>\n",
       "<symbol id=\"icon-database\" viewBox=\"0 0 32 32\">\n",
       "<title>Show/Hide data repr</title>\n",
       "<path d=\"M16 0c-8.837 0-16 2.239-16 5v4c0 2.761 7.163 5 16 5s16-2.239 16-5v-4c0-2.761-7.163-5-16-5z\"></path>\n",
       "<path d=\"M16 17c-8.837 0-16-2.239-16-5v6c0 2.761 7.163 5 16 5s16-2.239 16-5v-6c0 2.761-7.163 5-16 5z\"></path>\n",
       "<path d=\"M16 26c-8.837 0-16-2.239-16-5v6c0 2.761 7.163 5 16 5s16-2.239 16-5v-6c0 2.761-7.163 5-16 5z\"></path>\n",
       "</symbol>\n",
       "<symbol id=\"icon-file-text2\" viewBox=\"0 0 32 32\">\n",
       "<title>Show/Hide attributes</title>\n",
       "<path d=\"M28.681 7.159c-0.694-0.947-1.662-2.053-2.724-3.116s-2.169-2.030-3.116-2.724c-1.612-1.182-2.393-1.319-2.841-1.319h-15.5c-1.378 0-2.5 1.121-2.5 2.5v27c0 1.378 1.122 2.5 2.5 2.5h23c1.378 0 2.5-1.122 2.5-2.5v-19.5c0-0.448-0.137-1.23-1.319-2.841zM24.543 5.457c0.959 0.959 1.712 1.825 2.268 2.543h-4.811v-4.811c0.718 0.556 1.584 1.309 2.543 2.268zM28 29.5c0 0.271-0.229 0.5-0.5 0.5h-23c-0.271 0-0.5-0.229-0.5-0.5v-27c0-0.271 0.229-0.5 0.5-0.5 0 0 15.499-0 15.5 0v7c0 0.552 0.448 1 1 1h7v19.5z\"></path>\n",
       "<path d=\"M23 26h-14c-0.552 0-1-0.448-1-1s0.448-1 1-1h14c0.552 0 1 0.448 1 1s-0.448 1-1 1z\"></path>\n",
       "<path d=\"M23 22h-14c-0.552 0-1-0.448-1-1s0.448-1 1-1h14c0.552 0 1 0.448 1 1s-0.448 1-1 1z\"></path>\n",
       "<path d=\"M23 18h-14c-0.552 0-1-0.448-1-1s0.448-1 1-1h14c0.552 0 1 0.448 1 1s-0.448 1-1 1z\"></path>\n",
       "</symbol>\n",
       "</defs>\n",
       "</svg><div class='sc-wrap'><div class='sc-header'><div class='sc-obj-type'>scipp.DataArray (4.74 KB)</div></div><ul class='sc-sections'><li class='sc-section-item'><input id='section-2fe610d8-2322-4f5c-9acb-b69508a5074e' class='sc-section-summary-in' type='checkbox' disabled ><label for='section-2fe610d8-2322-4f5c-9acb-b69508a5074e' class='sc-section-summary'  title='Expand/collapse section'>Dimensions:</label><div class='sc-section-inline-details'><ul class='sc-dim-list'><li><span class='sc-has-index'>wavelength</span>: 5</li><li><span class='sc-has-index'>Q</span>: 54</li></ul></div><div class='sc-section-details'></div></li><li class='sc-section-item'><input id='section-2d70def4-cc52-4552-8bab-c565322124ef' class='sc-section-summary-in' type='checkbox'  checked><label for='section-2d70def4-cc52-4552-8bab-c565322124ef' class='sc-section-summary' >Coordinates: <span>(2)</span></label><div class='sc-section-inline-details'></div><div class='sc-section-details'><ul class='sc-var-list'><li class='sc-var-item'><div class='sc-var-name'><span class='sc-has-index'>Q</span></div><div class='sc-var-dims'>(Q [bin-edge])</div><div class='sc-var-dtype'>float64</div><div class='sc-var-unit'>1/Å</div><div class='sc-value-preview sc-preview'><span><div>0.01, 0.01, ..., 0.55, 0.6</div></span></div><input id='attrs-d6911b4e-6a23-4cab-8123-99bc55c866fe' class='sc-var-attrs-in' type='checkbox' disabled><label for='attrs-d6911b4e-6a23-4cab-8123-99bc55c866fe' class='sc-hide-icon' title='Show/Hide attributes'><svg class='icon sc-icon-file-text2'><use xlink:href='#icon-file-text2'></use></svg></label><input id='data-14c26ca0-7672-4e48-b2a8-60486cb0da06' class='sc-var-data-in' type='checkbox'><label for='data-14c26ca0-7672-4e48-b2a8-60486cb0da06' title='Show/Hide data repr'><svg class='icon sc-icon-database'><use xlink:href='#icon-database'></use></svg></label><pre class='sc-var-data'>Values:<br>array([0.008     , 0.00866589, 0.00938721, 0.01016857, 0.01101497,\n",
       "       0.01193182, 0.01292499, 0.01400082, 0.0151662 , 0.01642859,\n",
       "       0.01779605, 0.01927733, 0.02088191, 0.02262005, 0.02450287,\n",
       "       0.02654241, 0.02875171, 0.03114491, 0.03373731, 0.03654549,\n",
       "       0.03958741, 0.04288254, 0.04645194, 0.05031844, 0.05450678,\n",
       "       0.05904375, 0.06395835, 0.06928203, 0.07504884, 0.08129565,\n",
       "       0.08806243, 0.09539246, 0.10333261, 0.11193367, 0.12125066,\n",
       "       0.13134316, 0.14227573, 0.15411829, 0.16694659, 0.18084267,\n",
       "       0.19589541, 0.21220109, 0.22986401, 0.24899712, 0.26972281,\n",
       "       0.29217365, 0.31649321, 0.34283705, 0.37137367, 0.40228558,\n",
       "       0.4357705 , 0.47204259, 0.51133384, 0.55389557, 0.6       ])</pre></span></li><li class='sc-var-item'><div class='sc-var-name'><span class='sc-has-index'>wavelength</span></div><div class='sc-var-dims'>(wavelength [bin-edge])</div><div class='sc-var-dtype'>float64</div><div class='sc-var-unit'>Å</div><div class='sc-value-preview sc-preview'><span><div>1.75, 4.7, ..., 13.55, 16.5</div></span></div><input id='attrs-5963a2c5-1558-4b0c-ae0a-305d4fb45aea' class='sc-var-attrs-in' type='checkbox' disabled><label for='attrs-5963a2c5-1558-4b0c-ae0a-305d4fb45aea' class='sc-hide-icon' title='Show/Hide attributes'><svg class='icon sc-icon-file-text2'><use xlink:href='#icon-file-text2'></use></svg></label><input id='data-f16df25e-e4ef-4dc7-b23c-f21313f12f3f' class='sc-var-data-in' type='checkbox'><label for='data-f16df25e-e4ef-4dc7-b23c-f21313f12f3f' title='Show/Hide data repr'><svg class='icon sc-icon-database'><use xlink:href='#icon-database'></use></svg></label><pre class='sc-var-data'>Values:<br>array([ 1.75,  4.7 ,  7.65, 10.6 , 13.55, 16.5 ])</pre></span></li></ul></div></li><li class='sc-section-item'><input id='section-d5382fe9-66ec-42b8-86c4-222bb56fbd90' class='sc-section-summary-in' type='checkbox'  checked><label for='section-d5382fe9-66ec-42b8-86c4-222bb56fbd90' class='sc-section-summary' >Data: <span>(1)</span></label><div class='sc-section-inline-details'></div><div class='sc-section-details'><ul class='sc-var-list'><li class='sc-var-item'><div class='sc-var-name'><span></span></div><div class='sc-var-dims'>(wavelength, Q)</div><div class='sc-var-dtype'>float64</div><div class='sc-var-unit'></div><div class='sc-value-preview sc-preview'><span><div>0.01, 7.79, ..., nan, nan</div></span><span><div>σ² = 0.0, 0.43, ..., nan, nan</div></span></div><input id='attrs-1beee2e7-27ba-4b06-9f0b-b2b1b0e95b1d' class='sc-var-attrs-in' type='checkbox' disabled><label for='attrs-1beee2e7-27ba-4b06-9f0b-b2b1b0e95b1d' class='sc-hide-icon' title='Show/Hide attributes'><svg class='icon sc-icon-file-text2'><use xlink:href='#icon-file-text2'></use></svg></label><input id='data-c3460945-7695-49a3-a850-831a5b101b15' class='sc-var-data-in' type='checkbox'><label for='data-c3460945-7695-49a3-a850-831a5b101b15' title='Show/Hide data repr'><svg class='icon sc-icon-database'><use xlink:href='#icon-database'></use></svg></label><pre class='sc-var-data'>Values:<br>array([[9.25283207e-03, 7.78847970e+00, 1.40967002e+01, 1.67606751e+01,\n",
       "        2.02243701e+01, 2.83965422e+01, 3.07760967e+01, 3.52098450e+01,\n",
       "        4.10008340e+01, 4.53406588e+01, 5.25564825e+01, 5.66509281e+01,\n",
       "        6.49597464e+01, 7.12376721e+01, 7.92086635e+01, 8.59836156e+01,\n",
       "        9.01248713e+01, 9.57228033e+01, 1.03133337e+02, 1.10187976e+02,\n",
       "        1.17958299e+02, 1.27878459e+02, 1.39036348e+02, 1.53278936e+02,\n",
       "        1.69091964e+02, 1.85686814e+02, 1.97686676e+02, 2.01275580e+02,\n",
       "        1.91755848e+02, 1.68438308e+02, 1.34429119e+02, 9.48984609e+01,\n",
       "        6.10913656e+01, 3.76812874e+01, 2.34686803e+01, 1.55036496e+01,\n",
       "        1.11271865e+01, 9.10955294e+00, 8.12975733e+00, 7.83961772e+00,\n",
       "        7.52198248e+00, 6.98866032e+00, 6.56602255e+00, 6.05344237e+00,\n",
       "        5.58835413e+00, 5.23751698e+00, 4.84165491e+00, 4.40638912e+00,\n",
       "        3.92031716e+00, 3.44846705e+00, 2.82622547e+00, 2.33031161e+00,\n",
       "        1.94963706e+00, 1.73943461e+00],\n",
       "       [1.10511932e-01, 6.36193968e+01, 6.45461453e+01, 7.50087999e+01,\n",
       "        7.69976553e+01, 8.30557238e+01, 1.00300189e+02, 1.05982112e+02,\n",
       "        1.15001075e+02, 1.27437970e+02, 1.26954337e+02, 1.31990535e+02,\n",
       "        1.35029560e+02, 1.37513067e+02, 1.39968398e+02, 1.40971531e+02,\n",
       "        1.50515739e+02, 1.55311302e+02, 1.62007795e+02, 1.70653492e+02,\n",
       "        1.81943579e+02, 1.96148831e+02, 2.14125434e+02, 2.37251215e+02,\n",
       "        2.64092246e+02, 2.94296565e+02, 3.25692609e+02, 3.44302052e+02,\n",
       "        3.32461339e+02, 2.83300957e+02, 2.09051427e+02, 1.37541696e+02,\n",
       "        8.56039085e+01, 5.20340650e+01, 3.28287919e+01, 2.22705692e+01,\n",
       "        1.67173903e+01, 1.39208510e+01, 1.24634904e+01, 1.11152247e+01,\n",
       "        1.04421877e+01, 9.74266581e+00, 9.36272769e+00, 5.08624261e+00,\n",
       "        0.00000000e+00,            nan,            nan,            nan,\n",
       "                   nan,            nan,            nan,            nan,\n",
       "                   nan,            nan],\n",
       "       [1.66760611e-01, 1.04405532e+02, 1.20420865e+02, 1.35660177e+02,\n",
       "        1.48605054e+02, 1.42637805e+02, 1.46191614e+02, 1.42935619e+02,\n",
       "        1.48217988e+02, 1.42267840e+02, 1.46779296e+02, 1.50386428e+02,\n",
       "        1.55875241e+02, 1.59291165e+02, 1.62609144e+02, 1.69784518e+02,\n",
       "        1.74238552e+02, 1.79410639e+02, 1.86253960e+02, 1.91978843e+02,\n",
       "        2.05469733e+02, 2.17758434e+02, 2.40130390e+02, 2.63122570e+02,\n",
       "        2.88497660e+02, 3.16282364e+02, 3.43058563e+02, 3.53827064e+02,\n",
       "        3.40632062e+02, 2.96503160e+02, 2.27256079e+02, 1.51297877e+02,\n",
       "        9.20055737e+01, 5.41084870e+01, 3.15081618e+01, 2.12215561e+01,\n",
       "        1.36376805e+01, 9.60602548e+00, 0.00000000e+00,            nan,\n",
       "                   nan,            nan,            nan,            nan,\n",
       "                   nan,            nan,            nan,            nan,\n",
       "                   nan,            nan,            nan,            nan,\n",
       "                   nan,            nan],\n",
       "       [3.73732600e-01, 1.78873745e+02, 2.16419993e+02, 2.02790198e+02,\n",
       "        2.00141466e+02, 2.05016307e+02, 2.07713003e+02, 2.22826394e+02,\n",
       "        2.23622575e+02, 2.14911238e+02, 2.20787855e+02, 2.21842569e+02,\n",
       "        2.21609637e+02, 2.31456668e+02, 2.36755677e+02, 2.39066232e+02,\n",
       "        2.43230882e+02, 2.58632445e+02, 2.68356503e+02, 2.69427264e+02,\n",
       "        2.89244611e+02, 3.00687882e+02, 3.17854644e+02, 3.20489359e+02,\n",
       "        3.47012098e+02, 3.85691979e+02, 4.40659458e+02, 4.63545642e+02,\n",
       "        4.25948281e+02, 3.43086761e+02, 2.40874100e+02, 1.43936630e+02,\n",
       "        9.29791986e+01, 3.29506434e+01, 0.00000000e+00,            nan,\n",
       "                   nan,            nan,            nan,            nan,\n",
       "                   nan,            nan,            nan,            nan,\n",
       "                   nan,            nan,            nan,            nan,\n",
       "                   nan,            nan,            nan,            nan,\n",
       "                   nan,            nan],\n",
       "       [           nan,            nan,            nan,            nan,\n",
       "                   nan,            nan,            nan,            nan,\n",
       "                   nan,            nan,            nan,            nan,\n",
       "                   nan,            nan,            nan,            nan,\n",
       "                   nan,            nan,            nan,            nan,\n",
       "                   nan,            nan,            nan,            nan,\n",
       "                   nan,            nan,            nan,            nan,\n",
       "                   nan,            nan,            nan,            nan,\n",
       "                   nan,            nan,            nan,            nan,\n",
       "                   nan,            nan,            nan,            nan,\n",
       "                   nan,            nan,            nan,            nan,\n",
       "                   nan,            nan,            nan,            nan,\n",
       "                   nan,            nan,            nan,            nan,\n",
       "                   nan,            nan]])<br><br>Variances:<br>                       <div>array([[9.25283207e-03, 7.78847970e+00, 1.40967002e+01, 1.67606751e+01,\n",
       "        2.02243701e+01, 2.83965422e+01, 3.07760967e+01, 3.52098450e+01,\n",
       "        4.10008340e+01, 4.53406588e+01, 5.25564825e+01, 5.66509281e+01,\n",
       "        6.49597464e+01, 7.12376721e+01, 7.92086635e+01, 8.59836156e+01,\n",
       "        9.01248713e+01, 9.57228033e+01, 1.03133337e+02, 1.10187976e+02,\n",
       "        1.17958299e+02, 1.27878459e+02, 1.39036348e+02, 1.53278936e+02,\n",
       "        1.69091964e+02, 1.85686814e+02, 1.97686676e+02, 2.01275580e+02,\n",
       "        1.91755848e+02, 1.68438308e+02, 1.34429119e+02, 9.48984609e+01,\n",
       "        6.10913656e+01, 3.76812874e+01, 2.34686803e+01, 1.55036496e+01,\n",
       "        1.11271865e+01, 9.10955294e+00, 8.12975733e+00, 7.83961772e+00,\n",
       "        7.52198248e+00, 6.98866032e+00, 6.56602255e+00, 6.05344237e+00,\n",
       "        5.58835413e+00, 5.23751698e+00, 4.84165491e+00, 4.40638912e+00,\n",
       "        3.92031716e+00, 3.44846705e+00, 2.82622547e+00, 2.33031161e+00,\n",
       "        1.94963706e+00, 1.73943461e+00],\n",
       "       [1.10511932e-01, 6.36193968e+01, 6.45461453e+01, 7.50087999e+01,\n",
       "        7.69976553e+01, 8.30557238e+01, 1.00300189e+02, 1.05982112e+02,\n",
       "        1.15001075e+02, 1.27437970e+02, 1.26954337e+02, 1.31990535e+02,\n",
       "        1.35029560e+02, 1.37513067e+02, 1.39968398e+02, 1.40971531e+02,\n",
       "        1.50515739e+02, 1.55311302e+02, 1.62007795e+02, 1.70653492e+02,\n",
       "        1.81943579e+02, 1.96148831e+02, 2.14125434e+02, 2.37251215e+02,\n",
       "        2.64092246e+02, 2.94296565e+02, 3.25692609e+02, 3.44302052e+02,\n",
       "        3.32461339e+02, 2.83300957e+02, 2.09051427e+02, 1.37541696e+02,\n",
       "        8.56039085e+01, 5.20340650e+01, 3.28287919e+01, 2.22705692e+01,\n",
       "        1.67173903e+01, 1.39208510e+01, 1.24634904e+01, 1.11152247e+01,\n",
       "        1.04421877e+01, 9.74266581e+00, 9.36272769e+00, 5.08624261e+00,\n",
       "        0.00000000e+00,            nan,            nan,            nan,\n",
       "                   nan,            nan,            nan,            nan,\n",
       "                   nan,            nan],\n",
       "       [1.66760611e-01, 1.04405532e+02, 1.20420865e+02, 1.35660177e+02,\n",
       "        1.48605054e+02, 1.42637805e+02, 1.46191614e+02, 1.42935619e+02,\n",
       "        1.48217988e+02, 1.42267840e+02, 1.46779296e+02, 1.50386428e+02,\n",
       "        1.55875241e+02, 1.59291165e+02, 1.62609144e+02, 1.69784518e+02,\n",
       "        1.74238552e+02, 1.79410639e+02, 1.86253960e+02, 1.91978843e+02,\n",
       "        2.05469733e+02, 2.17758434e+02, 2.40130390e+02, 2.63122570e+02,\n",
       "        2.88497660e+02, 3.16282364e+02, 3.43058563e+02, 3.53827064e+02,\n",
       "        3.40632062e+02, 2.96503160e+02, 2.27256079e+02, 1.51297877e+02,\n",
       "        9.20055737e+01, 5.41084870e+01, 3.15081618e+01, 2.12215561e+01,\n",
       "        1.36376805e+01, 9.60602548e+00, 0.00000000e+00,            nan,\n",
       "                   nan,            nan,            nan,            nan,\n",
       "                   nan,            nan,            nan,            nan,\n",
       "                   nan,            nan,            nan,            nan,\n",
       "                   nan,            nan],\n",
       "       [3.73732600e-01, 1.78873745e+02, 2.16419993e+02, 2.02790198e+02,\n",
       "        2.00141466e+02, 2.05016307e+02, 2.07713003e+02, 2.22826394e+02,\n",
       "        2.23622575e+02, 2.14911238e+02, 2.20787855e+02, 2.21842569e+02,\n",
       "        2.21609637e+02, 2.31456668e+02, 2.36755677e+02, 2.39066232e+02,\n",
       "        2.43230882e+02, 2.58632445e+02, 2.68356503e+02, 2.69427264e+02,\n",
       "        2.89244611e+02, 3.00687882e+02, 3.17854644e+02, 3.20489359e+02,\n",
       "        3.47012098e+02, 3.85691979e+02, 4.40659458e+02, 4.63545642e+02,\n",
       "        4.25948281e+02, 3.43086761e+02, 2.40874100e+02, 1.43936630e+02,\n",
       "        9.29791986e+01, 3.29506434e+01, 0.00000000e+00,            nan,\n",
       "                   nan,            nan,            nan,            nan,\n",
       "                   nan,            nan,            nan,            nan,\n",
       "                   nan,            nan,            nan,            nan,\n",
       "                   nan,            nan,            nan,            nan,\n",
       "                   nan,            nan],\n",
       "       [           nan,            nan,            nan,            nan,\n",
       "                   nan,            nan,            nan,            nan,\n",
       "                   nan,            nan,            nan,            nan,\n",
       "                   nan,            nan,            nan,            nan,\n",
       "                   nan,            nan,            nan,            nan,\n",
       "                   nan,            nan,            nan,            nan,\n",
       "                   nan,            nan,            nan,            nan,\n",
       "                   nan,            nan,            nan,            nan,\n",
       "                   nan,            nan,            nan,            nan,\n",
       "                   nan,            nan,            nan,            nan,\n",
       "                   nan,            nan,            nan,            nan,\n",
       "                   nan,            nan,            nan,            nan,\n",
       "                   nan,            nan,            nan,            nan,\n",
       "                   nan,            nan]])</div></pre></li></ul></div></li><li class='sc-section-item'><input id='section-da68f56f-f9ef-4fa8-976d-866b8e87152b' class='sc-section-summary-in' type='checkbox'  checked><label for='section-da68f56f-f9ef-4fa8-976d-866b8e87152b' class='sc-section-summary' >Attributes: <span>(2)</span></label><div class='sc-section-inline-details'></div><div class='sc-section-details'><ul class='sc-var-list'><li class='sc-var-item'><div class='sc-var-name'><span>sample_position</span></div><div class='sc-var-dims'>()</div><div class='sc-var-dtype'>vector_3_float64</div><div class='sc-var-unit'>m</div><div class='sc-value-preview sc-preview'><span><div>[ 0.     0.    19.334]</div></span></div><input id='attrs-2e6aa70a-7266-4940-8fca-152807ab5a4e' class='sc-var-attrs-in' type='checkbox' disabled><label for='attrs-2e6aa70a-7266-4940-8fca-152807ab5a4e' class='sc-hide-icon' title='Show/Hide attributes'><svg class='icon sc-icon-file-text2'><use xlink:href='#icon-file-text2'></use></svg></label><input id='data-8bbe0393-7cf9-471b-8ecd-991c9d2e6d71' class='sc-var-data-in' type='checkbox'><label for='data-8bbe0393-7cf9-471b-8ecd-991c9d2e6d71' title='Show/Hide data repr'><svg class='icon sc-icon-database'><use xlink:href='#icon-database'></use></svg></label><pre class='sc-var-data'>Values:<br>array([ 0.   ,  0.   , 19.334])</pre></li><li class='sc-var-item'><div class='sc-var-name'><span>source_position</span></div><div class='sc-var-dims'>()</div><div class='sc-var-dtype'>vector_3_float64</div><div class='sc-var-unit'>m</div><div class='sc-value-preview sc-preview'><span><div>[0. 0. 0.]</div></span></div><input id='attrs-ef29fa3b-8bfd-4814-8e83-e7ec6c68a171' class='sc-var-attrs-in' type='checkbox' disabled><label for='attrs-ef29fa3b-8bfd-4814-8e83-e7ec6c68a171' class='sc-hide-icon' title='Show/Hide attributes'><svg class='icon sc-icon-file-text2'><use xlink:href='#icon-file-text2'></use></svg></label><input id='data-4ff31fb2-fd9d-4465-87b7-45a8d8b911ba' class='sc-var-data-in' type='checkbox'><label for='data-4ff31fb2-fd9d-4465-87b7-45a8d8b911ba' title='Show/Hide data repr'><svg class='icon sc-icon-database'><use xlink:href='#icon-database'></use></svg></label><pre class='sc-var-data'>Values:<br>array([0., 0., 0.])</pre></li></ul></div></li></ul></div></div>"
      ],
      "text/plain": [
       "<scipp.DataArray>\n",
       "Dimensions: Sizes[wavelength:5, Q:54, ]\n",
       "Coordinates:\n",
       "  Q                         float64           [1/Å]  (Q [bin-edge])  [0.008000, 0.008666, ..., 0.553896, 0.600000]\n",
       "  wavelength                float64             [Å]  (wavelength [bin-edge])  [1.750000, 4.700000, ..., 13.550000, 16.500000]\n",
       "Data:\n",
       "                            float64  [dimensionless]  (wavelength, Q)  [0.009253, 7.788480, ..., nan, nan]  [0.000001, 0.427620, ..., nan, nan]\n",
       "Attributes:\n",
       "  sample_position         vector_3_float64              [m]  ()  [(0.000000, 0.000000, 19.334000)]\n",
       "  source_position         vector_3_float64              [m]  ()  [(0.000000, 0.000000, 0.000000)]\n"
      ]
     },
     "execution_count": 43,
     "metadata": {},
     "output_type": "execute_result"
    }
   ],
   "source": [
    "reduced_lambda"
   ]
  },
  {
   "cell_type": "markdown",
   "metadata": {},
   "source": [
    "## Comparison with Mantid"
   ]
  },
  {
   "cell_type": "code",
   "execution_count": 63,
   "metadata": {},
   "outputs": [
    {
     "data": {
      "application/vnd.jupyter.widget-view+json": {
       "model_id": "e1731a5eafa7484e86bd8bfc1b00067a",
       "version_major": 2,
       "version_minor": 0
      },
      "text/plain": [
       "VBox(children=(HBox(children=(VBox(children=(Button(icon='home', layout=Layout(padding='0px 0px 0px 0px', widt…"
      ]
     },
     "metadata": {},
     "output_type": "display_data"
    }
   ],
   "source": [
    "#scale factor at the end 0.02364 (from mantid)\n",
    "mantid_q1d_file = '63114rear_1D_1.75_16.5.txt'\n",
    "mantid_q1d = load_rkh_q(filename=f'{path}/{mantid_q1d_file}')\n",
    "reduced_scaled = sc.scalar(0.03564) * reduced\n",
    "plot({'scipp': reduced_scaled, 'mantid':mantid_q1d})"
   ]
  },
  {
   "cell_type": "code",
   "execution_count": 91,
   "metadata": {},
   "outputs": [
    {
     "data": {
      "application/vnd.jupyter.widget-view+json": {
       "model_id": "7b6028ecdb4d47f48831be9270ad8aeb",
       "version_major": 2,
       "version_minor": 0
      },
      "text/plain": [
       "VBox(children=(HBox(children=(VBox(children=(Button(icon='home', layout=Layout(padding='0px 0px 0px 0px', widt…"
      ]
     },
     "metadata": {},
     "output_type": "display_data"
    }
   ],
   "source": [
    "mantid_q1d_file_wav = '63114rear_1D_1.75_4.7.txt'\n",
    "mantid_q1d_wav_1 = load_rkh_q(filename=f'{path}/{mantid_q1d_file_wav}')\n",
    "mantid_q1d_file_wav = '63114rear_1D_4.7_7.65.txt'\n",
    "mantid_q1d_wav_2 = load_rkh_q(filename=f'{path}/{mantid_q1d_file_wav}')\n",
    "mantid_q1d_file_wav = '63114rear_1D_7.65_10.6.txt'\n",
    "mantid_q1d_wav_3 = load_rkh_q(filename=f'{path}/{mantid_q1d_file_wav}')\n",
    "mantid_q1d_file_wav = '63114rear_1D_10.6_13.55.txt'\n",
    "mantid_q1d_wav_4 = load_rkh_q(filename=f'{path}/{mantid_q1d_file_wav}')\n",
    "mantid_q1d_file_wav = '63114rear_1D_13.55_16.5.txt'\n",
    "mantid_q1d_wav_5 = load_rkh_q(filename=f'{path}/{mantid_q1d_file_wav}')\n",
    "scipp_q1d_wav = sc.collapse(reduced_lambda, keep='Q')\n",
    "scipp_q1d_wav = {f'scipp:{key}':val for key, val in scipp_q1d_wav.items()}\n",
    "scipp_q1d_wav['mantid_0'] = sc.scalar(1.0/0.046)*mantid_q1d_wav_1\n",
    "scipp_q1d_wav['mantid_1'] = sc.scalar(1.0/0.046)*mantid_q1d_wav_2\n",
    "scipp_q1d_wav['mantid_2'] = sc.scalar(1.0/0.046)*mantid_q1d_wav_3\n",
    "scipp_q1d_wav['mantid_3'] = sc.scalar(1.0/0.046)*mantid_q1d_wav_4\n",
    "scipp_q1d_wav['mantid_4'] = sc.scalar(1.0/0.046)*mantid_q1d_wav_5\n",
    "plot(scipp_q1d_wav)\n",
    "#plot({'scipp': scipp_q1d_wav_1})"
   ]
  },
  {
   "cell_type": "code",
   "execution_count": null,
   "metadata": {},
   "outputs": [],
   "source": []
  }
 ],
 "metadata": {
  "kernelspec": {
   "display_name": "Python 3",
   "language": "python",
   "name": "python3"
  },
  "language_info": {
   "codemirror_mode": {
    "name": "ipython",
    "version": 3
   },
   "file_extension": ".py",
   "mimetype": "text/x-python",
   "name": "python",
   "nbconvert_exporter": "python",
   "pygments_lexer": "ipython3",
   "version": "3.8.10"
  },
  "varInspector": {
   "cols": {
    "lenName": 16,
    "lenType": 16,
    "lenVar": 40
   },
   "kernels_config": {
    "python": {
     "delete_cmd_postfix": "",
     "delete_cmd_prefix": "del ",
     "library": "var_list.py",
     "varRefreshCmd": "print(var_dic_list())"
    },
    "r": {
     "delete_cmd_postfix": ") ",
     "delete_cmd_prefix": "rm(",
     "library": "var_list.r",
     "varRefreshCmd": "cat(var_dic_list()) "
    }
   },
   "types_to_exclude": [
    "module",
    "function",
    "builtin_function_or_method",
    "instance",
    "_Feature"
   ],
   "window_display": false
  }
 },
 "nbformat": 4,
 "nbformat_minor": 4
}
