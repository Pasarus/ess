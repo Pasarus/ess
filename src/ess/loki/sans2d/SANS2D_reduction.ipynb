{
 "cells": [
  {
   "cell_type": "markdown",
   "metadata": {},
   "source": [
    "## SANS2D reduction\n",
    "This is a notebook to reduce data from SANS2D. \n",
    "\n",
    "### Basic components \n",
    "* File loading: sample, sample trans, background, background trans, directbeam, directbeam trans (ess.loki)\n",
    "* Transform coordinates: sample, bench, monitor position offsets (ess.loki.larmor, consider ess.loki.sans2d, dedicated loader,  helper functions)\n",
    "* Masking (for file or programatically, ess.loki, masks applied as a part of loader da = ess.loki.load(file) or manually, da.masks['beam_stop'] = ess.loki.sans2d.make_beamstop_mask(da) or ess.loki.mask_beamstop(da)). Paths (not files) to mask to ess.loki.sans2d \n",
    "* Instrument geometry offset ess.loki.sans2d.load(.., offset = {position:monitor})\n",
    "* Define wavelenght and q bins (wavelenght bands) geomspace is fine for the moment\n",
    "* Reduction (regular full wavelenght range) - ess.sans\n",
    "* Reduction by wavelenght (reduction by wavelenght through the same fucntion, ess.sans provided loki/sans2d specific functions are removed). groupby argument is LoKI specific. To be looked at\n",
    "* Normalize and subtract (ess.sans) make more sense to be part of top-level function, both should be fine\n",
    "\n",
    "\n",
    "### The notebook uses sans.py module that contains\n",
    "\n",
    "* project_xy don't include \n",
    "* solid_angle (ess.loki.larmor and ess.loki.sans2d) -> candidate for scippneutron\n",
    "* subtract_background_mean\n",
    "* transmission_fraction - generic function taking monitors as arguments in ess.sans to be called from ess.loki.sans2d. Preprocessing of monitors can be excluded from the main function (independent helper)\n",
    "* to_wavelength - rebinning may not be required, norm term may be provided as histogram. Lines 87-92 can be moved outside and the call monitor\n",
    "* reduce uses groupby layer at the moment but may be different argument. Has some specific features of instrument. Spectrum may not be the only choice. ess.loki.sans2d. Eventually can be moved to ess.sans\n",
    "* reduce_by_wavelength\n",
    "* q resolution small clean-up (global sample variable)\n",
    "* gravity - look at the issue\n",
    "\n",
    "### sans.py calls another module contrib.py\n",
    "\n",
    "* midpoints \n",
    "* to_bin_centers candidate for scipp, copy for now\n",
    "* to_bin_edges candidate for scipp, copy for now\n",
    "* map_to_bins - may be better way to implement it, copy for now\n",
    "* select_bins (not used?)\n",
    "* make_slices may be nicer way to implement it now\n"
   ]
  },
  {
   "cell_type": "code",
   "execution_count": 1,
   "metadata": {},
   "outputs": [],
   "source": [
    "import scipp as sc\n",
    "import scippneutron as scn\n",
    "from scipp.plotting import plot\n",
    "from load_files import load_isis, load_rkh_q, load_rkh_wav, load_mask \n",
    "import sans\n",
    "import numpy as np"
   ]
  },
  {
   "cell_type": "markdown",
   "metadata": {},
   "source": [
    "## Loading files"
   ]
  },
  {
   "cell_type": "code",
   "execution_count": 2,
   "metadata": {},
   "outputs": [],
   "source": [
    "try:\n",
    "    import dataconfig # run make_config.py to create this\n",
    "except:\n",
    "    print(\"ERROR: dataconfig.py not find please run `make_config.py`\\n\")\n",
    "    !python make_config.py -h # change to `-f path` or run in terminal\n",
    "\n",
    "path = dataconfig.data_root\n",
    "direct_beam_file = 'DIRECT_SANS2D_REAR_34327_4m_8mm_16Feb16.dat'\n",
    "#TODO: Are we using moderator file?\n",
    "moderator_file = 'ModeratorStdDev_TS2_SANS_LETexptl_07Aug2015.txt'\n",
    "mantid_q1d_file = '63114rear_1D_1.75_16.5.txt'\n",
    "\n",
    "sample_run_number = 63114\n",
    "sample_transmission_run_number = 63114\n",
    "background_run_number = 63159\n",
    "background_transmission_run_number = 63159 \n",
    "directbeam_run_number = 63091\n",
    "directbeam_transmission_run_number = 63091\n",
    "\n",
    "mask_1 = f'{path}/MASK_SANS2D_REAR_Edges_16Mar2015.xml'\n",
    "mask_2 = f'{path}/MASK_SANS2D_FRONT_Edges_16Mar2015.xml'\n",
    "mask_3 = f'{path}/MASK_SANS2D_BOTH_Extras_24Mar2015.xml'\n",
    "mask_4 = f'{path}/MASK_SANS2D_REAR_Bottom_3_tubes_16May2014.xml'\n",
    "mask_5 = f'{path}/MASK_SANS2D_beam_stop_4m_x_100mm_2July2015_medium_beamstop.xml'\n",
    "mask_6 = f'{path}/MASK_SANS2D_REAR_module2_tube12.xml'\n",
    "mask_7 = f'{path}/MASK_SANS2D_FRONT_module3_tube14_module5_tube6_tube7.xml'\n",
    "mask_8 = f'{path}/MASK_SANS2D_FRONT_module2_tube18.xml'\n",
    "mask_9 = f'{path}/MASK_SANS2D_FRONT_module5_tube20.xml'\n",
    "\n",
    "#idf_file is not used\n",
    "idf_filename = f'{path}/SANS2D_Definition_Tubes.xml'\n",
    "\n",
    "l_collimation = sc.Variable(value=4.0, unit=sc.units.m)\n",
    "r2 = sc.Variable(value=4.0/1000, unit=sc.units.m) # sample aperture radius\n",
    "r1 = sc.Variable(value=10.0/1000, unit=sc.units.m) # source aperture radius (in user file its diameter)  \n",
    "dr = sc.Variable(value=8.0/1000, unit=sc.units.m) # virtual ring width on detector\n",
    "\n",
    "#Calibration file should be read in"
   ]
  },
  {
   "cell_type": "code",
   "execution_count": 3,
   "metadata": {},
   "outputs": [
    {
     "name": "stderr",
     "output_type": "stream",
     "text": [
      "Workspace run log 'good_frames' has unrecognised units: 'frames'\n",
      "Workspace run log 'period_change_log' has unrecognised units: 'period_number'\n",
      "Workspace run log 'raw_frames' has unrecognised units: 'frames'\n",
      "Workspace run log 'veto_log' has unrecognised units: 'is_vetoing'\n",
      "Workspace run log 'events_log' has unrecognised units: 'events'\n",
      "Workspace run log 'frame_log' has unrecognised units: 'frame_number'\n",
      "Workspace run log 'good_frame_log' has unrecognised units: 'is_good'\n",
      "Workspace run log 'period_log' has unrecognised units: 'period_number'\n",
      "Workspace run log 'raw_events_log' has unrecognised units: 'events'\n",
      "Workspace run log 'good_frames' has unrecognised units: 'frames'\n",
      "Workspace run log 'period_change_log' has unrecognised units: 'period_number'\n",
      "Workspace run log 'raw_frames' has unrecognised units: 'frames'\n",
      "Workspace run log 'veto_log' has unrecognised units: 'is_vetoing'\n",
      "Workspace run log 'events_log' has unrecognised units: 'events'\n",
      "Workspace run log 'frame_log' has unrecognised units: 'frame_number'\n",
      "Workspace run log 'good_frame_log' has unrecognised units: 'is_good'\n",
      "Workspace run log 'period_log' has unrecognised units: 'period_number'\n",
      "Workspace run log 'raw_events_log' has unrecognised units: 'events'\n",
      "Workspace run log 'good_frames' has unrecognised units: 'frames'\n",
      "Workspace run log 'period_change_log' has unrecognised units: 'period_number'\n",
      "Workspace run log 'raw_frames' has unrecognised units: 'frames'\n",
      "Workspace run log 'veto_log' has unrecognised units: 'is_vetoing'\n",
      "Workspace run log 'events_log' has unrecognised units: 'events'\n",
      "Workspace run log 'frame_log' has unrecognised units: 'frame_number'\n",
      "Workspace run log 'good_frame_log' has unrecognised units: 'is_good'\n",
      "Workspace run log 'period_log' has unrecognised units: 'period_number'\n",
      "Workspace run log 'raw_events_log' has unrecognised units: 'events'\n",
      "Workspace run log 'good_frames' has unrecognised units: 'frames'\n",
      "Workspace run log 'period_change_log' has unrecognised units: 'period_number'\n",
      "Workspace run log 'raw_frames' has unrecognised units: 'frames'\n",
      "Workspace run log 'veto_log' has unrecognised units: 'is_vetoing'\n",
      "Workspace run log 'events_log' has unrecognised units: 'events'\n",
      "Workspace run log 'frame_log' has unrecognised units: 'frame_number'\n",
      "Workspace run log 'good_frame_log' has unrecognised units: 'is_good'\n",
      "Workspace run log 'period_log' has unrecognised units: 'period_number'\n",
      "Workspace run log 'raw_events_log' has unrecognised units: 'events'\n",
      "Workspace run log 'good_frames' has unrecognised units: 'frames'\n",
      "Workspace run log 'period_change_log' has unrecognised units: 'period_number'\n",
      "Workspace run log 'raw_frames' has unrecognised units: 'frames'\n",
      "Workspace run log 'veto_log' has unrecognised units: 'is_vetoing'\n",
      "Workspace run log 'events_log' has unrecognised units: 'events'\n",
      "Workspace run log 'frame_log' has unrecognised units: 'frame_number'\n",
      "Workspace run log 'good_frame_log' has unrecognised units: 'is_good'\n",
      "Workspace run log 'period_log' has unrecognised units: 'period_number'\n",
      "Workspace run log 'raw_events_log' has unrecognised units: 'events'\n"
     ]
    },
    {
     "name": "stdout",
     "output_type": "stream",
     "text": [
      "CPU times: user 1min 25s, sys: 5.46 s, total: 1min 31s\n",
      "Wall time: 1min 28s\n"
     ]
    }
   ],
   "source": [
    "%%time\n",
    "\n",
    "direct_beam = load_rkh_wav(filename=f'{path}/{direct_beam_file}')\n",
    "\n",
    "sample = load_isis(filename=f'{path}/SANS2D000{sample_run_number}.nxs', spectrum_size = 245760//2)\n",
    "sample_trans = load_isis(filename=f'{path}/SANS2D000{sample_transmission_run_number}.nxs', spectrum_size = 245760//2)\n",
    "background = load_isis(filename=f'{path}/SANS2D000{background_run_number}.nxs', spectrum_size = 245760//2)\n",
    "background_trans = load_isis(filename=f'{path}/SANS2D000{background_transmission_run_number}.nxs', spectrum_size =  245760//2)\n",
    "directbeam = load_isis(filename=f'{path}/SANS2D000{directbeam_run_number}.nxs', spectrum_size = 245760//2)\n",
    "\n",
    "#TODO: What about units?"
   ]
  },
  {
   "cell_type": "code",
   "execution_count": 4,
   "metadata": {},
   "outputs": [],
   "source": [
    "mantid_q1d = load_rkh_q(filename=f'{path}/{mantid_q1d_file}')"
   ]
  },
  {
   "cell_type": "markdown",
   "metadata": {},
   "source": [
    "## Setting up mask and geometries"
   ]
  },
  {
   "cell_type": "code",
   "execution_count": 5,
   "metadata": {},
   "outputs": [],
   "source": [
    "#TODO: resolve this. Wasn't able to transform coordinates without doing this \n",
    "sample = sample['spectrum', 0:245760//2].copy()\n",
    "background = background['spectrum', 0:245760//2].copy()\n",
    "directbeam = sample['spectrum', 0:245760//2].copy()"
   ]
  },
  {
   "cell_type": "code",
   "execution_count": 6,
   "metadata": {},
   "outputs": [
    {
     "name": "stdout",
     "output_type": "stream",
     "text": [
      "CPU times: user 4.43 ms, sys: 2.47 ms, total: 6.91 ms\n",
      "Wall time: 5.04 ms\n"
     ]
    }
   ],
   "source": [
    "%%time\n",
    "#TODO: check this positions\n",
    "sample_pos_offset = sc.vector(value=[0.0, 0.0, 0.053], unit=sc.units.m)\n",
    "bench_pos_offset = sc.vector(value=[0.0, 0.001, 0.0], unit=sc.units.m)\n",
    "monitor4_pos_offset = sc.vector(value=[0.0, 0.00, -6.719], unit=sc.units.m)\n",
    "sample_pos_z_offset = 0.053 * sc.Unit('m')\n",
    "bench_pos_y_offset = 0.001 * sc.Unit('m')\n",
    "monitor4_pos_z_offset = -6.719 * sc.Unit('m')\n",
    "\n",
    "for item in [sample,background, directbeam]:\n",
    "#for item in [sample,sample_trans,background,background_trans,directbeam]:\n",
    "    item.coords['sample_position'].fields.z += sample_pos_z_offset\n",
    "    item.attrs['monitor2'].value.coords['sample_position'].fields.z += sample_pos_z_offset\n",
    "    item.attrs['monitor4'].value.coords['sample_position'].fields.z += sample_pos_z_offset\n",
    "    item.coords['position'].fields.y += bench_pos_y_offset\n",
    "    item.attrs['monitor4'].value.coords['position'].fields.z += monitor4_pos_z_offset\n",
    "    "
   ]
  },
  {
   "cell_type": "code",
   "execution_count": 7,
   "metadata": {},
   "outputs": [
    {
     "name": "stdout",
     "output_type": "stream",
     "text": [
      "CPU times: user 9.36 s, sys: 2.89 s, total: 12.3 s\n",
      "Wall time: 6.33 s\n"
     ]
    }
   ],
   "source": [
    "%%time\n",
    "\n",
    "mask_1_xml = load_mask(idf_filename, mask_1)\n",
    "mask_2_xml = load_mask(idf_filename, mask_2)\n",
    "mask_3_xml = load_mask(idf_filename, mask_3)\n",
    "mask_4_xml = load_mask(idf_filename, mask_4)\n",
    "mask_5_xml = load_mask(idf_filename, mask_5)\n",
    "mask_6_xml = load_mask(idf_filename, mask_6)\n",
    "mask_7_xml = load_mask(idf_filename, mask_7)\n",
    "mask_8_xml = load_mask(idf_filename, mask_8)\n",
    "mask_9_xml = load_mask(idf_filename, mask_9)\n",
    "\n",
    "\n",
    "sample.masks['mask_1_xml'] = mask_1_xml['spectrum',:245760//2].data\n",
    "sample.masks['mask_2_xml'] = mask_2_xml['spectrum',:245760//2].data\n",
    "sample.masks['mask_3_xml'] = mask_3_xml['spectrum',:245760//2].data\n",
    "sample.masks['mask_4_xml'] = mask_4_xml['spectrum',:245760//2].data\n",
    "sample.masks['mask_5_xml'] = mask_5_xml['spectrum',:245760//2].data\n",
    "sample.masks['mask_6_xml'] = mask_6_xml['spectrum',:245760//2].data\n",
    "sample.masks['mask_7_xml'] = mask_7_xml['spectrum',:245760//2].data\n",
    "sample.masks['mask_8_xml'] = mask_8_xml['spectrum',:245760//2].data\n",
    "sample.masks['mask_9_xml'] = mask_9_xml['spectrum',:245760//2].data\n",
    "\n",
    "background.masks['mask_1_xml'] = mask_1_xml['spectrum',:245760//2].data\n",
    "background.masks['mask_2_xml'] = mask_2_xml['spectrum',:245760//2].data\n",
    "background.masks['mask_3_xml'] = mask_3_xml['spectrum',:245760//2].data\n",
    "background.masks['mask_4_xml'] = mask_4_xml['spectrum',:245760//2].data\n",
    "background.masks['mask_5_xml'] = mask_5_xml['spectrum',:245760//2].data\n",
    "background.masks['mask_6_xml'] = mask_6_xml['spectrum',:245760//2].data\n",
    "background.masks['mask_7_xml'] = mask_7_xml['spectrum',:245760//2].data\n",
    "background.masks['mask_8_xml'] = mask_8_xml['spectrum',:245760//2].data\n",
    "background.masks['mask_9_xml'] = mask_9_xml['spectrum',:245760//2].data\n",
    "                                                                          \n",
    "    \n",
    "#PRINT masking off beamstop arm 15mm wide at 20 degrees\n",
    "#!PRINT not masking beam stop arm, M4 out\n",
    "#mask/line 15 20\n",
    "    "
   ]
  },
  {
   "cell_type": "code",
   "execution_count": 8,
   "metadata": {},
   "outputs": [],
   "source": [
    "sample = sample['spectrum', 0:122880//2].copy()\n",
    "background = background['spectrum', 0:122880//2].copy()"
   ]
  },
  {
   "cell_type": "code",
   "execution_count": 9,
   "metadata": {},
   "outputs": [],
   "source": [
    "sample.coords['base_position'] = sample.coords['position'].copy()\n",
    "background.coords['base_position'] = background.coords['position'].copy()\n",
    "directbeam.coords['base_position'] = directbeam.coords['position'].copy()"
   ]
  },
  {
   "cell_type": "code",
   "execution_count": 10,
   "metadata": {},
   "outputs": [],
   "source": [
    "#105.700 -82.735\n",
    "x = -0.082735 * sc.units.m\n",
    "y = 0.1057 * sc.units.m\n",
    "#Alternative - in Mantid user file?\n",
    "#x = -0.085 * sc.units.m\n",
    "#y = 0.1419 * sc.units.m\n",
    "z = 0.0 * sc.units.m\n",
    "offset = sc.geometry.position(x,y,z)\n",
    "sample.coords['position'] = sample.coords['base_position'] + offset\n",
    "background.coords['position'] = background.coords['base_position'] + offset\n",
    "#Should we move directbeam too?\n",
    "#directbeam.coords['position'] = directbeam.coords['base_position'] + offset"
   ]
  },
  {
   "cell_type": "markdown",
   "metadata": {},
   "source": [
    "## Defining parameters for data reduction "
   ]
  },
  {
   "cell_type": "code",
   "execution_count": 11,
   "metadata": {},
   "outputs": [],
   "source": [
    "#TODO: use scipp geomspace\n",
    "# bins = sc.linspace(dim='Q', unit='1/Angstrom', start=1.0, stop=5.0, num=100)\n",
    "q_bins = sc.Variable(\n",
    "    dims=['Q'],\n",
    "    unit=sc.units.one/sc.units.angstrom,\n",
    "    values=np.geomspace(0.008, 0.6, num = 55))\n",
    "    \n",
    "wavelength_bins = sc.Variable(\n",
    "    dims=['wavelength'],\n",
    "    unit=sc.units.angstrom,\n",
    "    values=np.geomspace(1.75, 16.5, num = 118))\n",
    "\n",
    "wavelength_bands = sc.Variable(\n",
    "    dims=['wavelength'],\n",
    "    unit=sc.units.angstrom,\n",
    "    values=np.geomspace(1.75, 16.5, num = 6))"
   ]
  },
  {
   "cell_type": "markdown",
   "metadata": {},
   "source": [
    "## Reduction (full spectra)"
   ]
  },
  {
   "cell_type": "code",
   "execution_count": 15,
   "metadata": {},
   "outputs": [
    {
     "name": "stdout",
     "output_type": "stream",
     "text": [
      "CPU times: user 463 ms, sys: 247 ms, total: 711 ms\n",
      "Wall time: 347 ms\n"
     ]
    }
   ],
   "source": [
    "%%time\n",
    "sample_q_reduce = sans.to_q(data=sample,\n",
    "                        transmission=sample_trans,\n",
    "                        direct_beam=direct_beam,\n",
    "                        direct_beam_transmission=directbeam, # note: background_trans\n",
    "                        masks=sample.masks,\n",
    "                        q_bins = q_bins,\n",
    "                        wavelength_bins = wavelength_bins)"
   ]
  },
  {
   "cell_type": "code",
   "execution_count": 16,
   "metadata": {},
   "outputs": [
    {
     "name": "stdout",
     "output_type": "stream",
     "text": [
      "CPU times: user 479 ms, sys: 266 ms, total: 744 ms\n",
      "Wall time: 366 ms\n"
     ]
    }
   ],
   "source": [
    "%%time\n",
    "background_q_reduce = sans.to_q(data=background,\n",
    "                            transmission=background_trans,\n",
    "                            direct_beam=direct_beam,\n",
    "                            direct_beam_transmission=directbeam, # note: background_trans\n",
    "                            masks=background.masks,\n",
    "                            q_bins = q_bins,\n",
    "                            wavelength_bins = wavelength_bins)"
   ]
  },
  {
   "cell_type": "code",
   "execution_count": 17,
   "metadata": {},
   "outputs": [],
   "source": [
    "reduced = sans.normalize_and_subtract(sample_q_reduce, background_q_reduce)"
   ]
  },
  {
   "cell_type": "markdown",
   "metadata": {},
   "source": [
    "## Reduction by wavelength"
   ]
  },
  {
   "cell_type": "code",
   "execution_count": 19,
   "metadata": {},
   "outputs": [
    {
     "name": "stdout",
     "output_type": "stream",
     "text": [
      "CPU times: user 1.12 s, sys: 584 ms, total: 1.7 s\n",
      "Wall time: 939 ms\n"
     ]
    }
   ],
   "source": [
    "%%time\n",
    "sample_q_lambda = sans.to_q(data=sample,\n",
    "                                         transmission=sample_trans,\n",
    "                                         direct_beam=direct_beam,\n",
    "                                         direct_beam_transmission=directbeam, # note: background_trans\n",
    "                                         masks=sample.masks,\n",
    "                                         q_bins = q_bins,\n",
    "                                         wavelength_bins = wavelength_bins,\n",
    "                                         wavelength_bands = wavelength_bands)"
   ]
  },
  {
   "cell_type": "code",
   "execution_count": 20,
   "metadata": {},
   "outputs": [
    {
     "name": "stdout",
     "output_type": "stream",
     "text": [
      "CPU times: user 1.09 s, sys: 603 ms, total: 1.69 s\n",
      "Wall time: 816 ms\n"
     ]
    }
   ],
   "source": [
    "%%time\n",
    "background_q_lambda = sans.to_q(data=background,\n",
    "                                        transmission=background_trans,\n",
    "                                        direct_beam=direct_beam,\n",
    "                                        direct_beam_transmission=directbeam, # note: same as transmission\n",
    "                                        masks=background.masks,\n",
    "                                        q_bins = q_bins,\n",
    "                                        wavelength_bins = wavelength_bins,\n",
    "                                        wavelength_bands = wavelength_bands)"
   ]
  },
  {
   "cell_type": "code",
   "execution_count": 21,
   "metadata": {},
   "outputs": [],
   "source": [
    "sample_q_reduce_wav = sc.sum(sample_q_lambda, 'wavelength')\n",
    "background_q_reduce_wav = sc.sum(background_q_lambda, 'wavelength')"
   ]
  },
  {
   "cell_type": "code",
   "execution_count": 23,
   "metadata": {},
   "outputs": [],
   "source": [
    "reduced_by_wavelength = sans.normalize_and_subtract(sample_q_reduce_wav, background_q_reduce_wav)"
   ]
  },
  {
   "cell_type": "markdown",
   "metadata": {},
   "source": [
    "## Comoparison reduced vs reduced_by_wavelength"
   ]
  },
  {
   "cell_type": "code",
   "execution_count": 24,
   "metadata": {},
   "outputs": [
    {
     "data": {
      "application/vnd.jupyter.widget-view+json": {
       "model_id": "a4bc704792e54d3c892bec31a33cffe8",
       "version_major": 2,
       "version_minor": 0
      },
      "text/plain": [
       "VBox(children=(HBox(children=(VBox(children=(Button(icon='home', layout=Layout(padding='0px 0px 0px 0px', widt…"
      ]
     },
     "metadata": {},
     "output_type": "display_data"
    }
   ],
   "source": [
    "plot({'reduced': reduced, 'reduced_by_wavelength':reduced_by_wavelength})"
   ]
  },
  {
   "cell_type": "code",
   "execution_count": 26,
   "metadata": {},
   "outputs": [
    {
     "data": {
      "application/vnd.jupyter.widget-view+json": {
       "model_id": "5344c148ccd94adc8efa8996b35dab14",
       "version_major": 2,
       "version_minor": 0
      },
      "text/plain": [
       "VBox(children=(HBox(children=(VBox(children=(Button(icon='home', layout=Layout(padding='0px 0px 0px 0px', widt…"
      ]
     },
     "metadata": {},
     "output_type": "display_data"
    }
   ],
   "source": [
    "reduced_lambda = sans.normalize_and_subtract(sample_q_lambda, background_q_lambda)\n",
    "sc.plot(sc.collapse(reduced_lambda, keep='Q'))"
   ]
  },
  {
   "cell_type": "markdown",
   "metadata": {},
   "source": [
    "## Comparison with Mantid"
   ]
  },
  {
   "cell_type": "code",
   "execution_count": null,
   "metadata": {},
   "outputs": [],
   "source": [
    "#scale factor at the end 0.02364 (from mantid)\n",
    "reduced_scaled = sc.scalar(0.03364) * reduced\n",
    "plot({'scipp': reduced_scaled, 'mantid':mantid_q1d})"
   ]
  }
 ],
 "metadata": {
  "kernelspec": {
   "display_name": "Python 3",
   "language": "python",
   "name": "python3"
  },
  "language_info": {
   "codemirror_mode": {
    "name": "ipython",
    "version": 3
   },
   "file_extension": ".py",
   "mimetype": "text/x-python",
   "name": "python",
   "nbconvert_exporter": "python",
   "pygments_lexer": "ipython3",
   "version": "3.8.10"
  },
  "varInspector": {
   "cols": {
    "lenName": 16,
    "lenType": 16,
    "lenVar": 40
   },
   "kernels_config": {
    "python": {
     "delete_cmd_postfix": "",
     "delete_cmd_prefix": "del ",
     "library": "var_list.py",
     "varRefreshCmd": "print(var_dic_list())"
    },
    "r": {
     "delete_cmd_postfix": ") ",
     "delete_cmd_prefix": "rm(",
     "library": "var_list.r",
     "varRefreshCmd": "cat(var_dic_list()) "
    }
   },
   "types_to_exclude": [
    "module",
    "function",
    "builtin_function_or_method",
    "instance",
    "_Feature"
   ],
   "window_display": false
  }
 },
 "nbformat": 4,
 "nbformat_minor": 4
}
