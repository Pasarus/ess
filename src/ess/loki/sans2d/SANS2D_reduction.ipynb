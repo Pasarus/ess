{
 "cells": [
  {
   "cell_type": "markdown",
   "metadata": {},
   "source": [
    "## SANS2D reduction\n",
    "This is a notebook to reduce data from SANS2D. \n",
    "\n",
    "### Basic components \n",
    "* File loading: sample, sample trans, background, background trans, directbeam, directbeam trans (ess.loki)\n",
    "* Transform coordinates: sample, bench, monitor position offsets (ess.loki.larmor, consider ess.loki.sans2d, dedicated loader,  helper functions)\n",
    "* Masking (for file or programatically, ess.loki, masks applied as a part of loader da = ess.loki.load(file) or manually, da.masks['beam_stop'] = ess.loki.sans2d.make_beamstop_mask(da) or ess.loki.mask_beamstop(da)). Paths (not files) to mask to ess.loki.sans2d \n",
    "* Instrument geometry offset ess.loki.sans2d.load(.., offset = {position:monitor})\n",
    "* Define wavelenght and q bins (wavelenght bands) geomspace is fine for the moment\n",
    "* Reduction (regular full wavelenght range) - ess.sans\n",
    "* Reduction by wavelenght (reduction by wavelenght through the same fucntion, ess.sans provided loki/sans2d specific functions are removed). groupby argument is LoKI specific. To be looked at\n",
    "* Normalize and subtract (ess.sans) make more sense to be part of top-level function, both should be fine\n",
    "\n",
    "\n",
    "### The notebook uses sans.py module that contains\n",
    "\n",
    "* project_xy don't include \n",
    "* solid_angle (ess.loki.larmor and ess.loki.sans2d) -> candidate for scippneutron\n",
    "* subtract_background_mean\n",
    "* transmission_fraction - generic function taking monitors as arguments in ess.sans to be called from ess.loki.sans2d. Preprocessing of monitors can be excluded from the main function (independent helper)\n",
    "* to_wavelength - rebinning may not be required, norm term may be provided as histogram. Lines 87-92 can be moved outside and the call monitor\n",
    "* reduce uses groupby layer at the moment but may be different argument. Has some specific features of instrument. Spectrum may not be the only choice. ess.loki.sans2d. Eventually can be moved to ess.sans\n",
    "* reduce_by_wavelength\n",
    "* q resolution small clean-up (global sample variable)\n",
    "* gravity - look at the issue\n",
    "\n",
    "### sans.py calls another module contrib.py\n",
    "\n",
    "* midpoints \n",
    "* to_bin_centers candidate for scipp, copy for now\n",
    "* to_bin_edges candidate for scipp, copy for now\n",
    "* map_to_bins - may be better way to implement it, copy for now\n",
    "* select_bins (not used?)\n",
    "* make_slices may be nicer way to implement it now\n"
   ]
  },
  {
   "cell_type": "code",
   "execution_count": 1,
   "metadata": {},
   "outputs": [],
   "source": [
    "import scipp as sc\n",
    "import scippneutron as scn\n",
    "from scipp.plotting import plot\n",
    "from load_files import load_isis, load_rkh_q, load_rkh_wav, setup_masks\n",
    "from transform_coordinates import setup_offsets, setup_geometry\n",
    "import sans"
   ]
  },
  {
   "cell_type": "code",
   "execution_count": 2,
   "metadata": {},
   "outputs": [
    {
     "data": {
      "text/plain": [
       "'0.7.1'"
      ]
     },
     "execution_count": 2,
     "metadata": {},
     "output_type": "execute_result"
    }
   ],
   "source": [
    "sc.__version__"
   ]
  },
  {
   "cell_type": "code",
   "execution_count": 3,
   "metadata": {},
   "outputs": [
    {
     "data": {
      "text/plain": [
       "'0.2.2'"
      ]
     },
     "execution_count": 3,
     "metadata": {},
     "output_type": "execute_result"
    }
   ],
   "source": [
    "scn.__version__"
   ]
  },
  {
   "cell_type": "markdown",
   "metadata": {},
   "source": [
    "## Loading files"
   ]
  },
  {
   "cell_type": "code",
   "execution_count": 4,
   "metadata": {},
   "outputs": [],
   "source": [
    "try:\n",
    "    import dataconfig # run make_config.py to create this\n",
    "except:\n",
    "    print(\"ERROR: dataconfig.py not find please run `make_config.py`\\n\")\n",
    "    !python make_config.py -h # change to `-f path` or run in terminal\n",
    "\n",
    "path = dataconfig.data_root\n",
    "direct_beam_file = 'DIRECT_SANS2D_REAR_34327_4m_8mm_16Feb16.dat'\n",
    "#TODO: Are we using moderator file?\n",
    "moderator_file = 'ModeratorStdDev_TS2_SANS_LETexptl_07Aug2015.txt'\n",
    "\n",
    "sample_run_number = 63114\n",
    "sample_transmission_run_number = 63114\n",
    "background_run_number = 63159\n",
    "background_transmission_run_number = 63159 \n",
    "directbeam_run_number = 63091\n",
    "directbeam_transmission_run_number = 63091\n",
    "\n",
    "mask_1 = f'{path}/MASK_SANS2D_REAR_Edges_16Mar2015.xml'\n",
    "mask_2 = f'{path}/MASK_SANS2D_FRONT_Edges_16Mar2015.xml'\n",
    "mask_3 = f'{path}/MASK_SANS2D_BOTH_Extras_24Mar2015.xml'\n",
    "mask_4 = f'{path}/MASK_SANS2D_REAR_Bottom_3_tubes_16May2014.xml'\n",
    "mask_5 = f'{path}/MASK_SANS2D_beam_stop_4m_x_100mm_2July2015_medium_beamstop.xml'\n",
    "mask_6 = f'{path}/MASK_SANS2D_REAR_module2_tube12.xml'\n",
    "mask_7 = f'{path}/MASK_SANS2D_FRONT_module3_tube14_module5_tube6_tube7.xml'\n",
    "mask_8 = f'{path}/MASK_SANS2D_FRONT_module2_tube18.xml'\n",
    "mask_9 = f'{path}/MASK_SANS2D_FRONT_module5_tube20.xml'\n",
    "\n",
    "idf_filename = f'{path}/SANS2D_Definition_Tubes.xml'\n",
    "\n",
    "#TODO: where are these used?\n",
    "l_collimation = sc.Variable(value=4.0, unit=sc.units.m)\n",
    "r2 = sc.Variable(value=4.0/1000, unit=sc.units.m) # sample aperture radius\n",
    "r1 = sc.Variable(value=10.0/1000, unit=sc.units.m) # source aperture radius (in user file its diameter)  \n",
    "dr = sc.Variable(value=8.0/1000, unit=sc.units.m) # virtual ring width on detector"
   ]
  },
  {
   "cell_type": "code",
   "execution_count": null,
   "metadata": {},
   "outputs": [
    {
     "name": "stdout",
     "output_type": "stream",
     "text": [
      "FrameworkManager-[Notice] Welcome to Mantid 6.0.20210412.848\n",
      "FrameworkManager-[Notice] Please cite: http://dx.doi.org/10.1016/j.nima.2014.07.029 and this release: http://dx.doi.org/10.5286/Software/Mantid\n",
      "CheckMantidVersion-[Notice] A new version of Mantid(6.1.0) is available for download from https://download.mantidproject.org\n",
      "DownloadInstrument-[Notice] All instrument definitions up to date\n",
      "Python-[Warning] Failed to load plugin /Users/wojciechpotrzebowski/opt/anaconda3/envs/scippneutron/plugins/python/algorithms/WorkflowAlgorithms/SANS/SANSBeamCentreFinder.py.\n",
      "Error: Traceback (most recent call last):\n",
      "  File \"/Users/wojciechpotrzebowski/opt/anaconda3/envs/scippneutron/lib/python3.8/site-packages/mantid/kernel/plugins.py\", line 201, in load_from_file\n",
      "    name, module = load_plugin(filepath)\n",
      "  File \"/Users/wojciechpotrzebowski/opt/anaconda3/envs/scippneutron/lib/python3.8/site-packages/mantid/kernel/plugins.py\", line 221, in load_plugin\n",
      "    module = loader.run()\n",
      "  File \"/Users/wojciechpotrzebowski/opt/anaconda3/envs/scippneutron/lib/python3.8/site-packages/mantid/kernel/plugins.py\", line 66, in run\n",
      "    return SourceFileLoader(name, pathname).load_module()\n",
      "  File \"<frozen importlib._bootstrap_external>\", line 522, in _check_name_wrapper\n",
      "  File \"<frozen importlib._bootstrap_external>\", line 1027, in load_module\n",
      "  File \"<frozen importlib._bootstrap_external>\", line 852, in load_module\n",
      "  File \"<frozen importlib._bootstrap>\", line 265, in _load_module_shim\n",
      "  File \"<frozen importlib._bootstrap>\", line 702, in _load\n",
      "  File \"<frozen importlib._bootstrap>\", line 671, in _load_unlocked\n",
      "  File \"<frozen importlib._bootstrap_external>\", line 848, in exec_module\n",
      "  File \"<frozen importlib._bootstrap>\", line 219, in _call_with_frames_removed\n",
      "  File \"/Users/wojciechpotrzebowski/opt/anaconda3/envs/scippneutron/plugins/python/algorithms/WorkflowAlgorithms/SANS/SANSBeamCentreFinder.py\", line 17, in <module>\n",
      "    from sans.algorithm_detail.beamcentrefinder_plotting import can_plot_beamcentrefinder, plot_workspace_quartiles\n",
      "ModuleNotFoundError: No module named 'sans.algorithm_detail'; 'sans' is not a package\n",
      "\n",
      "Python-[Warning] Failed to load plugin /Users/wojciechpotrzebowski/opt/anaconda3/envs/scippneutron/plugins/python/algorithms/WorkflowAlgorithms/SANS/SANSBeamCentreFinderCore.py.\n",
      "Error: Traceback (most recent call last):\n",
      "  File \"/Users/wojciechpotrzebowski/opt/anaconda3/envs/scippneutron/lib/python3.8/site-packages/mantid/kernel/plugins.py\", line 201, in load_from_file\n",
      "    name, module = load_plugin(filepath)\n",
      "  File \"/Users/wojciechpotrzebowski/opt/anaconda3/envs/scippneutron/lib/python3.8/site-packages/mantid/kernel/plugins.py\", line 221, in load_plugin\n",
      "    module = loader.run()\n",
      "  File \"/Users/wojciechpotrzebowski/opt/anaconda3/envs/scippneutron/lib/python3.8/site-packages/mantid/kernel/plugins.py\", line 66, in run\n",
      "    return SourceFileLoader(name, pathname).load_module()\n",
      "  File \"<frozen importlib._bootstrap_external>\", line 522, in _check_name_wrapper\n",
      "  File \"<frozen importlib._bootstrap_external>\", line 1027, in load_module\n",
      "  File \"<frozen importlib._bootstrap_external>\", line 852, in load_module\n",
      "  File \"<frozen importlib._bootstrap>\", line 265, in _load_module_shim\n",
      "  File \"<frozen importlib._bootstrap>\", line 702, in _load\n",
      "  File \"<frozen importlib._bootstrap>\", line 671, in _load_unlocked\n",
      "  File \"<frozen importlib._bootstrap_external>\", line 848, in exec_module\n",
      "  File \"<frozen importlib._bootstrap>\", line 219, in _call_with_frames_removed\n",
      "  File \"/Users/wojciechpotrzebowski/opt/anaconda3/envs/scippneutron/plugins/python/algorithms/WorkflowAlgorithms/SANS/SANSBeamCentreFinderCore.py\", line 14, in <module>\n",
      "    from sans.algorithm_detail.CreateSANSAdjustmentWorkspaces import CreateSANSAdjustmentWorkspaces\n",
      "ModuleNotFoundError: No module named 'sans.algorithm_detail'; 'sans' is not a package\n",
      "\n",
      "Python-[Warning] Failed to load plugin /Users/wojciechpotrzebowski/opt/anaconda3/envs/scippneutron/plugins/python/algorithms/WorkflowAlgorithms/SANS/SANSBeamCentreFinderMassMethod.py.\n",
      "Error: Traceback (most recent call last):\n",
      "  File \"/Users/wojciechpotrzebowski/opt/anaconda3/envs/scippneutron/lib/python3.8/site-packages/mantid/kernel/plugins.py\", line 201, in load_from_file\n",
      "    name, module = load_plugin(filepath)\n",
      "  File \"/Users/wojciechpotrzebowski/opt/anaconda3/envs/scippneutron/lib/python3.8/site-packages/mantid/kernel/plugins.py\", line 221, in load_plugin\n",
      "    module = loader.run()\n",
      "  File \"/Users/wojciechpotrzebowski/opt/anaconda3/envs/scippneutron/lib/python3.8/site-packages/mantid/kernel/plugins.py\", line 66, in run\n",
      "    return SourceFileLoader(name, pathname).load_module()\n",
      "  File \"<frozen importlib._bootstrap_external>\", line 522, in _check_name_wrapper\n",
      "  File \"<frozen importlib._bootstrap_external>\", line 1027, in load_module\n",
      "  File \"<frozen importlib._bootstrap_external>\", line 852, in load_module\n",
      "  File \"<frozen importlib._bootstrap>\", line 265, in _load_module_shim\n",
      "  File \"<frozen importlib._bootstrap>\", line 702, in _load\n",
      "  File \"<frozen importlib._bootstrap>\", line 671, in _load_unlocked\n",
      "  File \"<frozen importlib._bootstrap_external>\", line 848, in exec_module\n",
      "  File \"<frozen importlib._bootstrap>\", line 219, in _call_with_frames_removed\n",
      "  File \"/Users/wojciechpotrzebowski/opt/anaconda3/envs/scippneutron/plugins/python/algorithms/WorkflowAlgorithms/SANS/SANSBeamCentreFinderMassMethod.py\", line 14, in <module>\n",
      "    from sans.algorithm_detail.crop_helper import get_component_name\n",
      "ModuleNotFoundError: No module named 'sans.algorithm_detail'; 'sans' is not a package\n",
      "\n",
      "Python-[Warning] Failed to load plugin /Users/wojciechpotrzebowski/opt/anaconda3/envs/scippneutron/plugins/python/algorithms/WorkflowAlgorithms/SANS/SANSConvertToWavelengthAndRebin.py.\n",
      "Error: Traceback (most recent call last):\n",
      "  File \"/Users/wojciechpotrzebowski/opt/anaconda3/envs/scippneutron/lib/python3.8/site-packages/mantid/kernel/plugins.py\", line 201, in load_from_file\n",
      "    name, module = load_plugin(filepath)\n",
      "  File \"/Users/wojciechpotrzebowski/opt/anaconda3/envs/scippneutron/lib/python3.8/site-packages/mantid/kernel/plugins.py\", line 221, in load_plugin\n",
      "    module = loader.run()\n",
      "  File \"/Users/wojciechpotrzebowski/opt/anaconda3/envs/scippneutron/lib/python3.8/site-packages/mantid/kernel/plugins.py\", line 66, in run\n",
      "    return SourceFileLoader(name, pathname).load_module()\n",
      "  File \"<frozen importlib._bootstrap_external>\", line 522, in _check_name_wrapper\n",
      "  File \"<frozen importlib._bootstrap_external>\", line 1027, in load_module\n",
      "  File \"<frozen importlib._bootstrap_external>\", line 852, in load_module\n",
      "  File \"<frozen importlib._bootstrap>\", line 265, in _load_module_shim\n",
      "  File \"<frozen importlib._bootstrap>\", line 702, in _load\n",
      "  File \"<frozen importlib._bootstrap>\", line 671, in _load_unlocked\n",
      "  File \"<frozen importlib._bootstrap_external>\", line 848, in exec_module\n",
      "  File \"<frozen importlib._bootstrap>\", line 219, in _call_with_frames_removed\n",
      "  File \"/Users/wojciechpotrzebowski/opt/anaconda3/envs/scippneutron/plugins/python/algorithms/WorkflowAlgorithms/SANS/SANSConvertToWavelengthAndRebin.py\", line 15, in <module>\n",
      "    from sans.common.constants import EMPTY_NAME\n",
      "ModuleNotFoundError: No module named 'sans.common'; 'sans' is not a package\n",
      "\n",
      "Python-[Warning] Failed to load plugin /Users/wojciechpotrzebowski/opt/anaconda3/envs/scippneutron/plugins/python/algorithms/WorkflowAlgorithms/SANS/SANSCreateAdjustmentWorkspaces.py.\n",
      "Error: Traceback (most recent call last):\n",
      "  File \"/Users/wojciechpotrzebowski/opt/anaconda3/envs/scippneutron/lib/python3.8/site-packages/mantid/kernel/plugins.py\", line 201, in load_from_file\n",
      "    name, module = load_plugin(filepath)\n",
      "  File \"/Users/wojciechpotrzebowski/opt/anaconda3/envs/scippneutron/lib/python3.8/site-packages/mantid/kernel/plugins.py\", line 221, in load_plugin\n",
      "    module = loader.run()\n",
      "  File \"/Users/wojciechpotrzebowski/opt/anaconda3/envs/scippneutron/lib/python3.8/site-packages/mantid/kernel/plugins.py\", line 66, in run\n",
      "    return SourceFileLoader(name, pathname).load_module()\n",
      "  File \"<frozen importlib._bootstrap_external>\", line 522, in _check_name_wrapper\n",
      "  File \"<frozen importlib._bootstrap_external>\", line 1027, in load_module\n",
      "  File \"<frozen importlib._bootstrap_external>\", line 852, in load_module\n",
      "  File \"<frozen importlib._bootstrap>\", line 265, in _load_module_shim\n",
      "  File \"<frozen importlib._bootstrap>\", line 702, in _load\n",
      "  File \"<frozen importlib._bootstrap>\", line 671, in _load_unlocked\n",
      "  File \"<frozen importlib._bootstrap_external>\", line 848, in exec_module\n",
      "  File \"<frozen importlib._bootstrap>\", line 219, in _call_with_frames_removed\n",
      "  File \"/Users/wojciechpotrzebowski/opt/anaconda3/envs/scippneutron/plugins/python/algorithms/WorkflowAlgorithms/SANS/SANSCreateAdjustmentWorkspaces.py\", line 16, in <module>\n",
      "    from sans.algorithm_detail.calculate_sans_transmission import calculate_transmission\n",
      "ModuleNotFoundError: No module named 'sans.algorithm_detail'; 'sans' is not a package\n",
      "\n",
      "Python-[Warning] Failed to load plugin /Users/wojciechpotrzebowski/opt/anaconda3/envs/scippneutron/plugins/python/algorithms/WorkflowAlgorithms/SANS/SANSLoad.py.\n",
      "Error: Traceback (most recent call last):\n",
      "  File \"/Users/wojciechpotrzebowski/opt/anaconda3/envs/scippneutron/lib/python3.8/site-packages/mantid/kernel/plugins.py\", line 201, in load_from_file\n",
      "    name, module = load_plugin(filepath)\n",
      "  File \"/Users/wojciechpotrzebowski/opt/anaconda3/envs/scippneutron/lib/python3.8/site-packages/mantid/kernel/plugins.py\", line 221, in load_plugin\n",
      "    module = loader.run()\n",
      "  File \"/Users/wojciechpotrzebowski/opt/anaconda3/envs/scippneutron/lib/python3.8/site-packages/mantid/kernel/plugins.py\", line 66, in run\n",
      "    return SourceFileLoader(name, pathname).load_module()\n",
      "  File \"<frozen importlib._bootstrap_external>\", line 522, in _check_name_wrapper\n",
      "  File \"<frozen importlib._bootstrap_external>\", line 1027, in load_module\n",
      "  File \"<frozen importlib._bootstrap_external>\", line 852, in load_module\n",
      "  File \"<frozen importlib._bootstrap>\", line 265, in _load_module_shim\n",
      "  File \"<frozen importlib._bootstrap>\", line 702, in _load\n",
      "  File \"<frozen importlib._bootstrap>\", line 671, in _load_unlocked\n",
      "  File \"<frozen importlib._bootstrap_external>\", line 848, in exec_module\n",
      "  File \"<frozen importlib._bootstrap>\", line 219, in _call_with_frames_removed\n",
      "  File \"/Users/wojciechpotrzebowski/opt/anaconda3/envs/scippneutron/plugins/python/algorithms/WorkflowAlgorithms/SANS/SANSLoad.py\", line 14, in <module>\n",
      "    from sans.algorithm_detail.load_data import SANSLoadDataFactory\n",
      "ModuleNotFoundError: No module named 'sans.algorithm_detail'; 'sans' is not a package\n",
      "\n",
      "Python-[Warning] Failed to load plugin /Users/wojciechpotrzebowski/opt/anaconda3/envs/scippneutron/plugins/python/algorithms/WorkflowAlgorithms/SANS/SANSReductionCore.py.\n",
      "Error: Traceback (most recent call last):\n",
      "  File \"/Users/wojciechpotrzebowski/opt/anaconda3/envs/scippneutron/lib/python3.8/site-packages/mantid/kernel/plugins.py\", line 201, in load_from_file\n",
      "    name, module = load_plugin(filepath)\n",
      "  File \"/Users/wojciechpotrzebowski/opt/anaconda3/envs/scippneutron/lib/python3.8/site-packages/mantid/kernel/plugins.py\", line 221, in load_plugin\n",
      "    module = loader.run()\n",
      "  File \"/Users/wojciechpotrzebowski/opt/anaconda3/envs/scippneutron/lib/python3.8/site-packages/mantid/kernel/plugins.py\", line 66, in run\n",
      "    return SourceFileLoader(name, pathname).load_module()\n",
      "  File \"<frozen importlib._bootstrap_external>\", line 522, in _check_name_wrapper\n",
      "  File \"<frozen importlib._bootstrap_external>\", line 1027, in load_module\n",
      "  File \"<frozen importlib._bootstrap_external>\", line 852, in load_module\n",
      "  File \"<frozen importlib._bootstrap>\", line 265, in _load_module_shim\n",
      "  File \"<frozen importlib._bootstrap>\", line 702, in _load\n",
      "  File \"<frozen importlib._bootstrap>\", line 671, in _load_unlocked\n",
      "  File \"<frozen importlib._bootstrap_external>\", line 848, in exec_module\n",
      "  File \"<frozen importlib._bootstrap>\", line 219, in _call_with_frames_removed\n",
      "  File \"/Users/wojciechpotrzebowski/opt/anaconda3/envs/scippneutron/plugins/python/algorithms/WorkflowAlgorithms/SANS/SANSReductionCore.py\", line 11, in <module>\n",
      "    from SANSReductionCoreBase import SANSReductionCoreBase\n",
      "  File \"/Users/wojciechpotrzebowski/opt/anaconda3/envs/scippneutron/plugins/python/algorithms/WorkflowAlgorithms/SANS/SANSReductionCoreBase.py\", line 13, in <module>\n",
      "    from sans.algorithm_detail.CreateSANSAdjustmentWorkspaces import CreateSANSAdjustmentWorkspaces\n",
      "ModuleNotFoundError: No module named 'sans.algorithm_detail'; 'sans' is not a package\n",
      "\n",
      "Python-[Warning] Failed to load plugin /Users/wojciechpotrzebowski/opt/anaconda3/envs/scippneutron/plugins/python/algorithms/WorkflowAlgorithms/SANS/SANSReductionCoreBase.py.\n",
      "Error: Traceback (most recent call last):\n",
      "  File \"/Users/wojciechpotrzebowski/opt/anaconda3/envs/scippneutron/lib/python3.8/site-packages/mantid/kernel/plugins.py\", line 201, in load_from_file\n",
      "    name, module = load_plugin(filepath)\n",
      "  File \"/Users/wojciechpotrzebowski/opt/anaconda3/envs/scippneutron/lib/python3.8/site-packages/mantid/kernel/plugins.py\", line 221, in load_plugin\n",
      "    module = loader.run()\n",
      "  File \"/Users/wojciechpotrzebowski/opt/anaconda3/envs/scippneutron/lib/python3.8/site-packages/mantid/kernel/plugins.py\", line 66, in run\n",
      "    return SourceFileLoader(name, pathname).load_module()\n",
      "  File \"<frozen importlib._bootstrap_external>\", line 522, in _check_name_wrapper\n",
      "  File \"<frozen importlib._bootstrap_external>\", line 1027, in load_module\n",
      "  File \"<frozen importlib._bootstrap_external>\", line 852, in load_module\n",
      "  File \"<frozen importlib._bootstrap>\", line 265, in _load_module_shim\n",
      "  File \"<frozen importlib._bootstrap>\", line 702, in _load\n",
      "  File \"<frozen importlib._bootstrap>\", line 671, in _load_unlocked\n",
      "  File \"<frozen importlib._bootstrap_external>\", line 848, in exec_module\n",
      "  File \"<frozen importlib._bootstrap>\", line 219, in _call_with_frames_removed\n",
      "  File \"/Users/wojciechpotrzebowski/opt/anaconda3/envs/scippneutron/plugins/python/algorithms/WorkflowAlgorithms/SANS/SANSReductionCoreBase.py\", line 13, in <module>\n",
      "    from sans.algorithm_detail.CreateSANSAdjustmentWorkspaces import CreateSANSAdjustmentWorkspaces\n",
      "ModuleNotFoundError: No module named 'sans.algorithm_detail'; 'sans' is not a package\n",
      "\n",
      "Python-[Warning] Failed to load plugin /Users/wojciechpotrzebowski/opt/anaconda3/envs/scippneutron/plugins/python/algorithms/WorkflowAlgorithms/SANS/SANSReductionCoreEventSlice.py.\n",
      "Error: Traceback (most recent call last):\n",
      "  File \"/Users/wojciechpotrzebowski/opt/anaconda3/envs/scippneutron/lib/python3.8/site-packages/mantid/kernel/plugins.py\", line 201, in load_from_file\n",
      "    name, module = load_plugin(filepath)\n",
      "  File \"/Users/wojciechpotrzebowski/opt/anaconda3/envs/scippneutron/lib/python3.8/site-packages/mantid/kernel/plugins.py\", line 221, in load_plugin\n",
      "    module = loader.run()\n",
      "  File \"/Users/wojciechpotrzebowski/opt/anaconda3/envs/scippneutron/lib/python3.8/site-packages/mantid/kernel/plugins.py\", line 66, in run\n",
      "    return SourceFileLoader(name, pathname).load_module()\n",
      "  File \"<frozen importlib._bootstrap_external>\", line 522, in _check_name_wrapper\n",
      "  File \"<frozen importlib._bootstrap_external>\", line 1027, in load_module\n",
      "  File \"<frozen importlib._bootstrap_external>\", line 852, in load_module\n",
      "  File \"<frozen importlib._bootstrap>\", line 265, in _load_module_shim\n",
      "  File \"<frozen importlib._bootstrap>\", line 702, in _load\n",
      "  File \"<frozen importlib._bootstrap>\", line 671, in _load_unlocked\n",
      "  File \"<frozen importlib._bootstrap_external>\", line 848, in exec_module\n",
      "  File \"<frozen importlib._bootstrap>\", line 219, in _call_with_frames_removed\n",
      "  File \"/Users/wojciechpotrzebowski/opt/anaconda3/envs/scippneutron/plugins/python/algorithms/WorkflowAlgorithms/SANS/SANSReductionCoreEventSlice.py\", line 12, in <module>\n",
      "    from SANSReductionCoreBase import SANSReductionCoreBase\n",
      "  File \"/Users/wojciechpotrzebowski/opt/anaconda3/envs/scippneutron/plugins/python/algorithms/WorkflowAlgorithms/SANS/SANSReductionCoreBase.py\", line 13, in <module>\n",
      "    from sans.algorithm_detail.CreateSANSAdjustmentWorkspaces import CreateSANSAdjustmentWorkspaces\n",
      "ModuleNotFoundError: No module named 'sans.algorithm_detail'; 'sans' is not a package\n",
      "\n",
      "Python-[Warning] Failed to load plugin /Users/wojciechpotrzebowski/opt/anaconda3/envs/scippneutron/plugins/python/algorithms/WorkflowAlgorithms/SANS/SANSReductionCorePreprocess.py.\n",
      "Error: Traceback (most recent call last):\n",
      "  File \"/Users/wojciechpotrzebowski/opt/anaconda3/envs/scippneutron/lib/python3.8/site-packages/mantid/kernel/plugins.py\", line 201, in load_from_file\n",
      "    name, module = load_plugin(filepath)\n",
      "  File \"/Users/wojciechpotrzebowski/opt/anaconda3/envs/scippneutron/lib/python3.8/site-packages/mantid/kernel/plugins.py\", line 221, in load_plugin\n",
      "    module = loader.run()\n",
      "  File \"/Users/wojciechpotrzebowski/opt/anaconda3/envs/scippneutron/lib/python3.8/site-packages/mantid/kernel/plugins.py\", line 66, in run\n",
      "    return SourceFileLoader(name, pathname).load_module()\n",
      "  File \"<frozen importlib._bootstrap_external>\", line 522, in _check_name_wrapper\n",
      "  File \"<frozen importlib._bootstrap_external>\", line 1027, in load_module\n",
      "  File \"<frozen importlib._bootstrap_external>\", line 852, in load_module\n",
      "  File \"<frozen importlib._bootstrap>\", line 265, in _load_module_shim\n",
      "  File \"<frozen importlib._bootstrap>\", line 702, in _load\n",
      "  File \"<frozen importlib._bootstrap>\", line 671, in _load_unlocked\n",
      "  File \"<frozen importlib._bootstrap_external>\", line 848, in exec_module\n",
      "  File \"<frozen importlib._bootstrap>\", line 219, in _call_with_frames_removed\n",
      "  File \"/Users/wojciechpotrzebowski/opt/anaconda3/envs/scippneutron/plugins/python/algorithms/WorkflowAlgorithms/SANS/SANSReductionCorePreprocess.py\", line 12, in <module>\n",
      "    from SANSReductionCoreBase import SANSReductionCoreBase\n",
      "  File \"/Users/wojciechpotrzebowski/opt/anaconda3/envs/scippneutron/plugins/python/algorithms/WorkflowAlgorithms/SANS/SANSReductionCoreBase.py\", line 13, in <module>\n",
      "    from sans.algorithm_detail.CreateSANSAdjustmentWorkspaces import CreateSANSAdjustmentWorkspaces\n",
      "ModuleNotFoundError: No module named 'sans.algorithm_detail'; 'sans' is not a package\n",
      "\n",
      "Python-[Warning] Failed to load plugin /Users/wojciechpotrzebowski/opt/anaconda3/envs/scippneutron/plugins/python/algorithms/WorkflowAlgorithms/SANS/SANSSave.py.\n",
      "Error: Traceback (most recent call last):\n",
      "  File \"/Users/wojciechpotrzebowski/opt/anaconda3/envs/scippneutron/lib/python3.8/site-packages/mantid/kernel/plugins.py\", line 201, in load_from_file\n",
      "    name, module = load_plugin(filepath)\n",
      "  File \"/Users/wojciechpotrzebowski/opt/anaconda3/envs/scippneutron/lib/python3.8/site-packages/mantid/kernel/plugins.py\", line 221, in load_plugin\n",
      "    module = loader.run()\n",
      "  File \"/Users/wojciechpotrzebowski/opt/anaconda3/envs/scippneutron/lib/python3.8/site-packages/mantid/kernel/plugins.py\", line 66, in run\n",
      "    return SourceFileLoader(name, pathname).load_module()\n",
      "  File \"<frozen importlib._bootstrap_external>\", line 522, in _check_name_wrapper\n",
      "  File \"<frozen importlib._bootstrap_external>\", line 1027, in load_module\n",
      "  File \"<frozen importlib._bootstrap_external>\", line 852, in load_module\n",
      "  File \"<frozen importlib._bootstrap>\", line 265, in _load_module_shim\n",
      "  File \"<frozen importlib._bootstrap>\", line 702, in _load\n",
      "  File \"<frozen importlib._bootstrap>\", line 671, in _load_unlocked\n",
      "  File \"<frozen importlib._bootstrap_external>\", line 848, in exec_module\n",
      "  File \"<frozen importlib._bootstrap>\", line 219, in _call_with_frames_removed\n",
      "  File \"/Users/wojciechpotrzebowski/opt/anaconda3/envs/scippneutron/plugins/python/algorithms/WorkflowAlgorithms/SANS/SANSSave.py\", line 14, in <module>\n",
      "    from sans.algorithm_detail.save_workspace import (save_to_file, get_zero_error_free_workspace, file_format_with_append)\n",
      "ModuleNotFoundError: No module named 'sans.algorithm_detail'; 'sans' is not a package\n",
      "\n",
      "Python-[Warning] Failed to load plugin /Users/wojciechpotrzebowski/opt/anaconda3/envs/scippneutron/plugins/python/algorithms/WorkflowAlgorithms/SANS/SANSSingleReduction.py.\n",
      "Error: Traceback (most recent call last):\n",
      "  File \"/Users/wojciechpotrzebowski/opt/anaconda3/envs/scippneutron/lib/python3.8/site-packages/mantid/kernel/plugins.py\", line 201, in load_from_file\n",
      "    name, module = load_plugin(filepath)\n",
      "  File \"/Users/wojciechpotrzebowski/opt/anaconda3/envs/scippneutron/lib/python3.8/site-packages/mantid/kernel/plugins.py\", line 221, in load_plugin\n",
      "    module = loader.run()\n",
      "  File \"/Users/wojciechpotrzebowski/opt/anaconda3/envs/scippneutron/lib/python3.8/site-packages/mantid/kernel/plugins.py\", line 66, in run\n",
      "    return SourceFileLoader(name, pathname).load_module()\n",
      "  File \"<frozen importlib._bootstrap_external>\", line 522, in _check_name_wrapper\n",
      "  File \"<frozen importlib._bootstrap_external>\", line 1027, in load_module\n",
      "  File \"<frozen importlib._bootstrap_external>\", line 852, in load_module\n",
      "  File \"<frozen importlib._bootstrap>\", line 265, in _load_module_shim\n",
      "  File \"<frozen importlib._bootstrap>\", line 702, in _load\n",
      "  File \"<frozen importlib._bootstrap>\", line 671, in _load_unlocked\n",
      "  File \"<frozen importlib._bootstrap_external>\", line 848, in exec_module\n",
      "  File \"<frozen importlib._bootstrap>\", line 219, in _call_with_frames_removed\n",
      "  File \"/Users/wojciechpotrzebowski/opt/anaconda3/envs/scippneutron/plugins/python/algorithms/WorkflowAlgorithms/SANS/SANSSingleReduction.py\", line 11, in <module>\n",
      "    from SANSSingleReductionBase import SANSSingleReductionBase\n",
      "  File \"/Users/wojciechpotrzebowski/opt/anaconda3/envs/scippneutron/plugins/python/algorithms/WorkflowAlgorithms/SANS/SANSSingleReductionBase.py\", line 16, in <module>\n",
      "    from sans.algorithm_detail.bundles import ReductionSettingBundle\n",
      "ModuleNotFoundError: No module named 'sans.algorithm_detail'; 'sans' is not a package\n",
      "\n",
      "Python-[Warning] Failed to load plugin /Users/wojciechpotrzebowski/opt/anaconda3/envs/scippneutron/plugins/python/algorithms/WorkflowAlgorithms/SANS/SANSSingleReduction2.py.\n",
      "Error: Traceback (most recent call last):\n",
      "  File \"/Users/wojciechpotrzebowski/opt/anaconda3/envs/scippneutron/lib/python3.8/site-packages/mantid/kernel/plugins.py\", line 201, in load_from_file\n",
      "    name, module = load_plugin(filepath)\n",
      "  File \"/Users/wojciechpotrzebowski/opt/anaconda3/envs/scippneutron/lib/python3.8/site-packages/mantid/kernel/plugins.py\", line 221, in load_plugin\n",
      "    module = loader.run()\n",
      "  File \"/Users/wojciechpotrzebowski/opt/anaconda3/envs/scippneutron/lib/python3.8/site-packages/mantid/kernel/plugins.py\", line 66, in run\n",
      "    return SourceFileLoader(name, pathname).load_module()\n",
      "  File \"<frozen importlib._bootstrap_external>\", line 522, in _check_name_wrapper\n",
      "  File \"<frozen importlib._bootstrap_external>\", line 1027, in load_module\n",
      "  File \"<frozen importlib._bootstrap_external>\", line 852, in load_module\n",
      "  File \"<frozen importlib._bootstrap>\", line 265, in _load_module_shim\n",
      "  File \"<frozen importlib._bootstrap>\", line 702, in _load\n",
      "  File \"<frozen importlib._bootstrap>\", line 671, in _load_unlocked\n",
      "  File \"<frozen importlib._bootstrap_external>\", line 848, in exec_module\n",
      "  File \"<frozen importlib._bootstrap>\", line 219, in _call_with_frames_removed\n",
      "  File \"/Users/wojciechpotrzebowski/opt/anaconda3/envs/scippneutron/plugins/python/algorithms/WorkflowAlgorithms/SANS/SANSSingleReduction2.py\", line 13, in <module>\n",
      "    from SANSSingleReductionBase import SANSSingleReductionBase\n",
      "  File \"/Users/wojciechpotrzebowski/opt/anaconda3/envs/scippneutron/plugins/python/algorithms/WorkflowAlgorithms/SANS/SANSSingleReductionBase.py\", line 16, in <module>\n",
      "    from sans.algorithm_detail.bundles import ReductionSettingBundle\n",
      "ModuleNotFoundError: No module named 'sans.algorithm_detail'; 'sans' is not a package\n",
      "\n",
      "Python-[Warning] Failed to load plugin /Users/wojciechpotrzebowski/opt/anaconda3/envs/scippneutron/plugins/python/algorithms/WorkflowAlgorithms/SANS/SANSSingleReductionBase.py.\n",
      "Error: Traceback (most recent call last):\n",
      "  File \"/Users/wojciechpotrzebowski/opt/anaconda3/envs/scippneutron/lib/python3.8/site-packages/mantid/kernel/plugins.py\", line 201, in load_from_file\n",
      "    name, module = load_plugin(filepath)\n",
      "  File \"/Users/wojciechpotrzebowski/opt/anaconda3/envs/scippneutron/lib/python3.8/site-packages/mantid/kernel/plugins.py\", line 221, in load_plugin\n",
      "    module = loader.run()\n",
      "  File \"/Users/wojciechpotrzebowski/opt/anaconda3/envs/scippneutron/lib/python3.8/site-packages/mantid/kernel/plugins.py\", line 66, in run\n",
      "    return SourceFileLoader(name, pathname).load_module()\n",
      "  File \"<frozen importlib._bootstrap_external>\", line 522, in _check_name_wrapper\n",
      "  File \"<frozen importlib._bootstrap_external>\", line 1027, in load_module\n",
      "  File \"<frozen importlib._bootstrap_external>\", line 852, in load_module\n",
      "  File \"<frozen importlib._bootstrap>\", line 265, in _load_module_shim\n",
      "  File \"<frozen importlib._bootstrap>\", line 702, in _load\n",
      "  File \"<frozen importlib._bootstrap>\", line 671, in _load_unlocked\n",
      "  File \"<frozen importlib._bootstrap_external>\", line 848, in exec_module\n",
      "  File \"<frozen importlib._bootstrap>\", line 219, in _call_with_frames_removed\n",
      "  File \"/Users/wojciechpotrzebowski/opt/anaconda3/envs/scippneutron/plugins/python/algorithms/WorkflowAlgorithms/SANS/SANSSingleReductionBase.py\", line 16, in <module>\n",
      "    from sans.algorithm_detail.bundles import ReductionSettingBundle\n",
      "ModuleNotFoundError: No module named 'sans.algorithm_detail'; 'sans' is not a package\n",
      "\n",
      "Python-[Warning] Failed to load plugin /Users/wojciechpotrzebowski/opt/anaconda3/envs/scippneutron/plugins/python/algorithms/WorkflowAlgorithms/SANSStitch.py.\n",
      "Error: Traceback (most recent call last):\n",
      "  File \"/Users/wojciechpotrzebowski/opt/anaconda3/envs/scippneutron/lib/python3.8/site-packages/mantid/kernel/plugins.py\", line 201, in load_from_file\n",
      "    name, module = load_plugin(filepath)\n",
      "  File \"/Users/wojciechpotrzebowski/opt/anaconda3/envs/scippneutron/lib/python3.8/site-packages/mantid/kernel/plugins.py\", line 221, in load_plugin\n",
      "    module = loader.run()\n",
      "  File \"/Users/wojciechpotrzebowski/opt/anaconda3/envs/scippneutron/lib/python3.8/site-packages/mantid/kernel/plugins.py\", line 66, in run\n",
      "    return SourceFileLoader(name, pathname).load_module()\n",
      "  File \"<frozen importlib._bootstrap_external>\", line 522, in _check_name_wrapper\n",
      "  File \"<frozen importlib._bootstrap_external>\", line 1027, in load_module\n",
      "  File \"<frozen importlib._bootstrap_external>\", line 852, in load_module\n",
      "  File \"<frozen importlib._bootstrap>\", line 265, in _load_module_shim\n",
      "  File \"<frozen importlib._bootstrap>\", line 702, in _load\n",
      "  File \"<frozen importlib._bootstrap>\", line 671, in _load_unlocked\n",
      "  File \"<frozen importlib._bootstrap_external>\", line 848, in exec_module\n",
      "  File \"<frozen importlib._bootstrap>\", line 219, in _call_with_frames_removed\n",
      "  File \"/Users/wojciechpotrzebowski/opt/anaconda3/envs/scippneutron/plugins/python/algorithms/WorkflowAlgorithms/SANSStitch.py\", line 14, in <module>\n",
      "    from sans.common.general_functions import create_unmanaged_algorithm\n",
      "ModuleNotFoundError: No module named 'sans.common'; 'sans' is not a package\n",
      "\n"
     ]
    },
    {
     "name": "stdout",
     "output_type": "stream",
     "text": [
      "LoadRKH-[Notice] LoadRKH started\n",
      "LoadRKH-[Notice] LoadRKH successful, Duration 0.00 seconds\n",
      "DeleteWorkspace-[Notice] DeleteWorkspace started\n",
      "DeleteWorkspace-[Notice] DeleteWorkspace successful, Duration 0.00 seconds\n",
      "Load-[Notice] Load started\n",
      "Load-[Notice] Load successful, Duration 3.38 seconds\n"
     ]
    },
    {
     "name": "stderr",
     "output_type": "stream",
     "text": [
      "Workspace run log 'good_frames' has unrecognised units: 'frames'\n",
      "Workspace run log 'period_change_log' has unrecognised units: 'period_number'\n",
      "Workspace run log 'raw_frames' has unrecognised units: 'frames'\n",
      "Workspace run log 'veto_log' has unrecognised units: 'is_vetoing'\n",
      "Workspace run log 'events_log' has unrecognised units: 'events'\n",
      "Workspace run log 'frame_log' has unrecognised units: 'frame_number'\n",
      "Workspace run log 'good_frame_log' has unrecognised units: 'is_good'\n",
      "Workspace run log 'period_log' has unrecognised units: 'period_number'\n",
      "Workspace run log 'raw_events_log' has unrecognised units: 'events'\n"
     ]
    },
    {
     "name": "stdout",
     "output_type": "stream",
     "text": [
      "ExtractSpectra-[Notice] ExtractSpectra started\n",
      "ExtractSpectra-[Notice] ExtractSpectra successful, Duration 0.00 seconds\n",
      "DeleteWorkspace-[Notice] DeleteWorkspace started\n",
      "DeleteWorkspace-[Notice] DeleteWorkspace successful, Duration 0.00 seconds\n",
      "ExtractSpectra-[Notice] ExtractSpectra started\n",
      "ExtractSpectra-[Notice] ExtractSpectra successful, Duration 0.00 seconds\n",
      "DeleteWorkspace-[Notice] DeleteWorkspace started\n",
      "DeleteWorkspace-[Notice] DeleteWorkspace successful, Duration 0.00 seconds\n",
      "ExtractSpectra-[Notice] ExtractSpectra started\n",
      "ExtractSpectra-[Notice] ExtractSpectra successful, Duration 0.00 seconds\n",
      "DeleteWorkspace-[Notice] DeleteWorkspace started\n",
      "DeleteWorkspace-[Notice] DeleteWorkspace successful, Duration 0.00 seconds\n",
      "ExtractSpectra-[Notice] ExtractSpectra started\n",
      "ExtractSpectra-[Notice] ExtractSpectra successful, Duration 0.00 seconds\n",
      "DeleteWorkspace-[Notice] DeleteWorkspace started\n",
      "DeleteWorkspace-[Notice] DeleteWorkspace successful, Duration 0.00 seconds\n",
      "ExtractSpectra-[Notice] ExtractSpectra started\n",
      "ExtractSpectra-[Notice] ExtractSpectra successful, Duration 0.00 seconds\n",
      "DeleteWorkspace-[Notice] DeleteWorkspace started\n",
      "DeleteWorkspace-[Notice] DeleteWorkspace successful, Duration 0.00 seconds\n",
      "ExtractSpectra-[Notice] ExtractSpectra started\n",
      "ExtractSpectra-[Notice] ExtractSpectra successful, Duration 0.00 seconds\n",
      "DeleteWorkspace-[Notice] DeleteWorkspace started\n",
      "DeleteWorkspace-[Notice] DeleteWorkspace successful, Duration 0.00 seconds\n",
      "ExtractSpectra-[Notice] ExtractSpectra started\n",
      "ExtractSpectra-[Notice] ExtractSpectra successful, Duration 0.00 seconds\n",
      "DeleteWorkspace-[Notice] DeleteWorkspace started\n",
      "DeleteWorkspace-[Notice] DeleteWorkspace successful, Duration 0.00 seconds\n",
      "ExtractSpectra-[Notice] ExtractSpectra started\n",
      "ExtractSpectra-[Notice] ExtractSpectra successful, Duration 0.00 seconds\n",
      "DeleteWorkspace-[Notice] DeleteWorkspace started\n",
      "DeleteWorkspace-[Notice] DeleteWorkspace successful, Duration 0.00 seconds\n",
      "DeleteWorkspace-[Notice] DeleteWorkspace started\n",
      "DeleteWorkspace-[Notice] DeleteWorkspace successful, Duration 0.00 seconds\n",
      "DeleteWorkspace-[Notice] DeleteWorkspace started\n",
      "DeleteWorkspace-[Notice] DeleteWorkspace successful, Duration 0.00 seconds\n",
      "Load-[Notice] Load started\n",
      "Load-[Notice] Load successful, Duration 4.83 seconds\n"
     ]
    },
    {
     "name": "stderr",
     "output_type": "stream",
     "text": [
      "Workspace run log 'good_frames' has unrecognised units: 'frames'\n",
      "Workspace run log 'period_change_log' has unrecognised units: 'period_number'\n",
      "Workspace run log 'raw_frames' has unrecognised units: 'frames'\n",
      "Workspace run log 'veto_log' has unrecognised units: 'is_vetoing'\n",
      "Workspace run log 'events_log' has unrecognised units: 'events'\n",
      "Workspace run log 'frame_log' has unrecognised units: 'frame_number'\n",
      "Workspace run log 'good_frame_log' has unrecognised units: 'is_good'\n",
      "Workspace run log 'period_log' has unrecognised units: 'period_number'\n",
      "Workspace run log 'raw_events_log' has unrecognised units: 'events'\n"
     ]
    },
    {
     "name": "stdout",
     "output_type": "stream",
     "text": [
      "ExtractSpectra-[Notice] ExtractSpectra started\n",
      "ExtractSpectra-[Notice] ExtractSpectra successful, Duration 0.00 seconds\n",
      "DeleteWorkspace-[Notice] DeleteWorkspace started\n",
      "DeleteWorkspace-[Notice] DeleteWorkspace successful, Duration 0.00 seconds\n",
      "ExtractSpectra-[Notice] ExtractSpectra started\n",
      "ExtractSpectra-[Notice] ExtractSpectra successful, Duration 0.00 seconds\n",
      "DeleteWorkspace-[Notice] DeleteWorkspace started\n",
      "DeleteWorkspace-[Notice] DeleteWorkspace successful, Duration 0.00 seconds\n",
      "ExtractSpectra-[Notice] ExtractSpectra started\n",
      "ExtractSpectra-[Notice] ExtractSpectra successful, Duration 0.00 seconds\n",
      "DeleteWorkspace-[Notice] DeleteWorkspace started\n",
      "DeleteWorkspace-[Notice] DeleteWorkspace successful, Duration 0.00 seconds\n",
      "ExtractSpectra-[Notice] ExtractSpectra started\n",
      "ExtractSpectra-[Notice] ExtractSpectra successful, Duration 0.00 seconds\n",
      "DeleteWorkspace-[Notice] DeleteWorkspace started\n",
      "DeleteWorkspace-[Notice] DeleteWorkspace successful, Duration 0.00 seconds\n",
      "ExtractSpectra-[Notice] ExtractSpectra started\n",
      "ExtractSpectra-[Notice] ExtractSpectra successful, Duration 0.00 seconds\n",
      "DeleteWorkspace-[Notice] DeleteWorkspace started\n",
      "DeleteWorkspace-[Notice] DeleteWorkspace successful, Duration 0.00 seconds\n",
      "ExtractSpectra-[Notice] ExtractSpectra started\n",
      "ExtractSpectra-[Notice] ExtractSpectra successful, Duration 0.00 seconds\n",
      "DeleteWorkspace-[Notice] DeleteWorkspace started\n",
      "DeleteWorkspace-[Notice] DeleteWorkspace successful, Duration 0.00 seconds\n",
      "ExtractSpectra-[Notice] ExtractSpectra started\n",
      "ExtractSpectra-[Notice] ExtractSpectra successful, Duration 0.00 seconds\n",
      "DeleteWorkspace-[Notice] DeleteWorkspace started\n",
      "DeleteWorkspace-[Notice] DeleteWorkspace successful, Duration 0.00 seconds\n",
      "ExtractSpectra-[Notice] ExtractSpectra started\n",
      "ExtractSpectra-[Notice] ExtractSpectra successful, Duration 0.00 seconds\n",
      "DeleteWorkspace-[Notice] DeleteWorkspace started\n",
      "DeleteWorkspace-[Notice] DeleteWorkspace successful, Duration 0.00 seconds\n",
      "DeleteWorkspace-[Notice] DeleteWorkspace started\n",
      "DeleteWorkspace-[Notice] DeleteWorkspace successful, Duration 0.00 seconds\n",
      "DeleteWorkspace-[Notice] DeleteWorkspace started\n",
      "DeleteWorkspace-[Notice] DeleteWorkspace successful, Duration 0.00 seconds\n",
      "Load-[Notice] Load started\n",
      "Load-[Notice] Load successful, Duration 3.98 seconds\n"
     ]
    },
    {
     "name": "stderr",
     "output_type": "stream",
     "text": [
      "Workspace run log 'good_frames' has unrecognised units: 'frames'\n",
      "Workspace run log 'period_change_log' has unrecognised units: 'period_number'\n",
      "Workspace run log 'raw_frames' has unrecognised units: 'frames'\n",
      "Workspace run log 'veto_log' has unrecognised units: 'is_vetoing'\n",
      "Workspace run log 'events_log' has unrecognised units: 'events'\n",
      "Workspace run log 'frame_log' has unrecognised units: 'frame_number'\n",
      "Workspace run log 'good_frame_log' has unrecognised units: 'is_good'\n",
      "Workspace run log 'period_log' has unrecognised units: 'period_number'\n",
      "Workspace run log 'raw_events_log' has unrecognised units: 'events'\n"
     ]
    },
    {
     "name": "stdout",
     "output_type": "stream",
     "text": [
      "ExtractSpectra-[Notice] ExtractSpectra started\n",
      "ExtractSpectra-[Notice] ExtractSpectra successful, Duration 0.00 seconds\n",
      "DeleteWorkspace-[Notice] DeleteWorkspace started\n",
      "DeleteWorkspace-[Notice] DeleteWorkspace successful, Duration 0.00 seconds\n",
      "ExtractSpectra-[Notice] ExtractSpectra started\n",
      "ExtractSpectra-[Notice] ExtractSpectra successful, Duration 0.00 seconds\n",
      "DeleteWorkspace-[Notice] DeleteWorkspace started\n",
      "DeleteWorkspace-[Notice] DeleteWorkspace successful, Duration 0.00 seconds\n",
      "ExtractSpectra-[Notice] ExtractSpectra started\n",
      "ExtractSpectra-[Notice] ExtractSpectra successful, Duration 0.00 seconds\n",
      "DeleteWorkspace-[Notice] DeleteWorkspace started\n",
      "DeleteWorkspace-[Notice] DeleteWorkspace successful, Duration 0.00 seconds\n",
      "ExtractSpectra-[Notice] ExtractSpectra started\n",
      "ExtractSpectra-[Notice] ExtractSpectra successful, Duration 0.00 seconds\n",
      "DeleteWorkspace-[Notice] DeleteWorkspace started\n",
      "DeleteWorkspace-[Notice] DeleteWorkspace successful, Duration 0.00 seconds\n",
      "ExtractSpectra-[Notice] ExtractSpectra started\n",
      "ExtractSpectra-[Notice] ExtractSpectra successful, Duration 0.00 seconds\n",
      "DeleteWorkspace-[Notice] DeleteWorkspace started\n",
      "DeleteWorkspace-[Notice] DeleteWorkspace successful, Duration 0.00 seconds\n",
      "ExtractSpectra-[Notice] ExtractSpectra started\n",
      "ExtractSpectra-[Notice] ExtractSpectra successful, Duration 0.00 seconds\n",
      "DeleteWorkspace-[Notice] DeleteWorkspace started\n",
      "DeleteWorkspace-[Notice] DeleteWorkspace successful, Duration 0.00 seconds\n",
      "ExtractSpectra-[Notice] ExtractSpectra started\n",
      "ExtractSpectra-[Notice] ExtractSpectra successful, Duration 0.00 seconds\n",
      "DeleteWorkspace-[Notice] DeleteWorkspace started\n",
      "DeleteWorkspace-[Notice] DeleteWorkspace successful, Duration 0.00 seconds\n",
      "ExtractSpectra-[Notice] ExtractSpectra started\n",
      "ExtractSpectra-[Notice] ExtractSpectra successful, Duration 0.00 seconds\n",
      "DeleteWorkspace-[Notice] DeleteWorkspace started\n",
      "DeleteWorkspace-[Notice] DeleteWorkspace successful, Duration 0.00 seconds\n",
      "DeleteWorkspace-[Notice] DeleteWorkspace started\n",
      "DeleteWorkspace-[Notice] DeleteWorkspace successful, Duration 0.00 seconds\n",
      "DeleteWorkspace-[Notice] DeleteWorkspace started\n",
      "DeleteWorkspace-[Notice] DeleteWorkspace successful, Duration 0.00 seconds\n",
      "Load-[Notice] Load started\n",
      "Load-[Notice] Load successful, Duration 2.82 seconds\n"
     ]
    },
    {
     "name": "stderr",
     "output_type": "stream",
     "text": [
      "Workspace run log 'good_frames' has unrecognised units: 'frames'\n",
      "Workspace run log 'period_change_log' has unrecognised units: 'period_number'\n",
      "Workspace run log 'raw_frames' has unrecognised units: 'frames'\n",
      "Workspace run log 'veto_log' has unrecognised units: 'is_vetoing'\n",
      "Workspace run log 'events_log' has unrecognised units: 'events'\n",
      "Workspace run log 'frame_log' has unrecognised units: 'frame_number'\n",
      "Workspace run log 'good_frame_log' has unrecognised units: 'is_good'\n",
      "Workspace run log 'period_log' has unrecognised units: 'period_number'\n",
      "Workspace run log 'raw_events_log' has unrecognised units: 'events'\n"
     ]
    },
    {
     "name": "stdout",
     "output_type": "stream",
     "text": [
      "ExtractSpectra-[Notice] ExtractSpectra started\n",
      "ExtractSpectra-[Notice] ExtractSpectra successful, Duration 0.00 seconds\n",
      "DeleteWorkspace-[Notice] DeleteWorkspace started\n",
      "DeleteWorkspace-[Notice] DeleteWorkspace successful, Duration 0.00 seconds\n",
      "ExtractSpectra-[Notice] ExtractSpectra started\n",
      "ExtractSpectra-[Notice] ExtractSpectra successful, Duration 0.00 seconds\n",
      "DeleteWorkspace-[Notice] DeleteWorkspace started\n",
      "DeleteWorkspace-[Notice] DeleteWorkspace successful, Duration 0.00 seconds\n",
      "ExtractSpectra-[Notice] ExtractSpectra started\n",
      "ExtractSpectra-[Notice] ExtractSpectra successful, Duration 0.00 seconds\n",
      "DeleteWorkspace-[Notice] DeleteWorkspace started\n",
      "DeleteWorkspace-[Notice] DeleteWorkspace successful, Duration 0.00 seconds\n",
      "ExtractSpectra-[Notice] ExtractSpectra started\n",
      "ExtractSpectra-[Notice] ExtractSpectra successful, Duration 0.00 seconds\n",
      "DeleteWorkspace-[Notice] DeleteWorkspace started\n",
      "DeleteWorkspace-[Notice] DeleteWorkspace successful, Duration 0.00 seconds\n",
      "ExtractSpectra-[Notice] ExtractSpectra started\n",
      "ExtractSpectra-[Notice] ExtractSpectra successful, Duration 0.00 seconds\n",
      "DeleteWorkspace-[Notice] DeleteWorkspace started\n",
      "DeleteWorkspace-[Notice] DeleteWorkspace successful, Duration 0.00 seconds\n",
      "ExtractSpectra-[Notice] ExtractSpectra started\n",
      "ExtractSpectra-[Notice] ExtractSpectra successful, Duration 0.00 seconds\n",
      "DeleteWorkspace-[Notice] DeleteWorkspace started\n",
      "DeleteWorkspace-[Notice] DeleteWorkspace successful, Duration 0.00 seconds\n",
      "ExtractSpectra-[Notice] ExtractSpectra started\n",
      "ExtractSpectra-[Notice] ExtractSpectra successful, Duration 0.00 seconds\n",
      "DeleteWorkspace-[Notice] DeleteWorkspace started\n",
      "DeleteWorkspace-[Notice] DeleteWorkspace successful, Duration 0.00 seconds\n",
      "ExtractSpectra-[Notice] ExtractSpectra started\n",
      "ExtractSpectra-[Notice] ExtractSpectra successful, Duration 0.00 seconds\n",
      "DeleteWorkspace-[Notice] DeleteWorkspace started\n",
      "DeleteWorkspace-[Notice] DeleteWorkspace successful, Duration 0.00 seconds\n",
      "DeleteWorkspace-[Notice] DeleteWorkspace started\n",
      "DeleteWorkspace-[Notice] DeleteWorkspace successful, Duration 0.00 seconds\n",
      "DeleteWorkspace-[Notice] DeleteWorkspace started\n",
      "DeleteWorkspace-[Notice] DeleteWorkspace successful, Duration 0.00 seconds\n",
      "Load-[Notice] Load started\n",
      "Load-[Notice] Load successful, Duration 2.40 seconds\n"
     ]
    }
   ],
   "source": [
    "%%time\n",
    "#TODO: SANS2D data needs to be trimmed (to be confirmed what is required range spectrum_size =  245760//2 or spectrum_size = 122880//2)\n",
    "spectrum_size = 122880//2\n",
    "direct_beam = load_rkh_wav(filename=f'{path}/{direct_beam_file}')\n",
    "direct_beam_trans = load_isis(filename=f'{path}/SANS2D000{directbeam_run_number}.nxs', spectrum_size = spectrum_size)\n",
    "sample = load_isis(filename=f'{path}/SANS2D000{sample_run_number}.nxs', spectrum_size = spectrum_size)\n",
    "sample_trans = load_isis(filename=f'{path}/SANS2D000{sample_transmission_run_number}.nxs', spectrum_size = spectrum_size)\n",
    "background = load_isis(filename=f'{path}/SANS2D000{background_run_number}.nxs', spectrum_size = spectrum_size)\n",
    "background_trans = load_isis(filename=f'{path}/SANS2D000{background_transmission_run_number}.nxs', spectrum_size =  spectrum_size)\n",
    "#TODO: What about units?"
   ]
  },
  {
   "cell_type": "code",
   "execution_count": null,
   "metadata": {},
   "outputs": [],
   "source": [
    "sample"
   ]
  },
  {
   "cell_type": "markdown",
   "metadata": {},
   "source": [
    "## Setting up masks and geometries"
   ]
  },
  {
   "cell_type": "code",
   "execution_count": null,
   "metadata": {},
   "outputs": [],
   "source": [
    "#TODO: resolve this. Wasn't able to transform coordinates without doing this \n",
    "sample = sample['spectrum', 0:spectrum_size].copy()\n",
    "background = background['spectrum', 0:spectrum_size].copy()\n",
    "#sample_trans = sample_trans['spectrum', 0:spectrum_size].copy()\n",
    "#background_trans = background_trans['spectrum', 0:spectrum_size].copy()\n",
    "direct_beam_trans = direct_beam_trans['spectrum', 0:spectrum_size].copy()"
   ]
  },
  {
   "cell_type": "code",
   "execution_count": null,
   "metadata": {},
   "outputs": [],
   "source": [
    "setup_offsets(sample, background, direct_beam_trans)"
   ]
  },
  {
   "cell_type": "code",
   "execution_count": null,
   "metadata": {},
   "outputs": [],
   "source": [
    "mask_files = [mask_1, mask_2, mask_3, mask_4, mask_5, mask_6, mask_7, mask_8, mask_9]\n",
    "setup_masks(idf_filename, mask_files, sample, background, spectrum_size)                                                           \n",
    "    \n",
    "#PRINT masking off beamstop arm 15mm wide at 20 degrees\n",
    "#!PRINT not masking beam stop arm, M4 out\n",
    "#mask/line 15 20"
   ]
  },
  {
   "cell_type": "code",
   "execution_count": null,
   "metadata": {},
   "outputs": [],
   "source": [
    "setup_geometry(sample, background, direct_beam_trans)"
   ]
  },
  {
   "cell_type": "markdown",
   "metadata": {},
   "source": [
    "## Defining parameters for data reduction "
   ]
  },
  {
   "cell_type": "code",
   "execution_count": null,
   "metadata": {},
   "outputs": [],
   "source": [
    "q_bins = sc.geomspace(dim = 'Q', start = 0.008, stop = 0.6, num = 65, unit = sc.units.one/sc.units.angstrom)\n",
    "wavelength_bins = sc.geomspace(dim = 'wavelength', start = 1.75, stop = 16.5, num = 128, unit=sc.units.angstrom)\n",
    "wavelength_bands = sc.linspace(dim = 'wavelength', start = 1.75, stop = 16.5, num = 6, unit=sc.units.angstrom)\n",
    "#TODO: Add bands as a predefined list"
   ]
  },
  {
   "cell_type": "code",
   "execution_count": null,
   "metadata": {},
   "outputs": [],
   "source": [
    "wavelength_bands"
   ]
  },
  {
   "cell_type": "markdown",
   "metadata": {},
   "source": [
    "## Reduction (full spectra)"
   ]
  },
  {
   "cell_type": "code",
   "execution_count": null,
   "metadata": {},
   "outputs": [],
   "source": [
    "%%time\n",
    "sample_q_reduce = sans.to_q(data=sample,\n",
    "                        transmission=sample_trans,\n",
    "                        direct_beam=direct_beam,\n",
    "                        direct_beam_transmission=direct_beam_trans, # note: background_trans\n",
    "                        masks=sample.masks,\n",
    "                        q_bins = q_bins,\n",
    "                        wavelength_bins = wavelength_bins)"
   ]
  },
  {
   "cell_type": "code",
   "execution_count": null,
   "metadata": {},
   "outputs": [],
   "source": [
    "%%time\n",
    "background_q_reduce = sans.to_q(data=background,\n",
    "                            transmission=background_trans,\n",
    "                            direct_beam=direct_beam,\n",
    "                            direct_beam_transmission=direct_beam_trans, # note: background_trans\n",
    "                            masks=background.masks,\n",
    "                            q_bins = q_bins,\n",
    "                            wavelength_bins = wavelength_bins)"
   ]
  },
  {
   "cell_type": "code",
   "execution_count": null,
   "metadata": {},
   "outputs": [],
   "source": [
    "reduced = sans.normalize_and_subtract(sample_q_reduce, background_q_reduce)"
   ]
  },
  {
   "cell_type": "markdown",
   "metadata": {},
   "source": [
    "## Reduction by wavelength"
   ]
  },
  {
   "cell_type": "code",
   "execution_count": null,
   "metadata": {},
   "outputs": [],
   "source": [
    "%%time\n",
    "sample_q_lambda = sans.to_q(data=sample,\n",
    "                                         transmission=sample_trans,\n",
    "                                         direct_beam=direct_beam,\n",
    "                                         direct_beam_transmission=direct_beam_trans, # note: background_trans\n",
    "                                         masks=sample.masks,\n",
    "                                         q_bins = q_bins,\n",
    "                                         wavelength_bins = wavelength_bins,\n",
    "                                         wavelength_bands = wavelength_bands)"
   ]
  },
  {
   "cell_type": "code",
   "execution_count": null,
   "metadata": {},
   "outputs": [],
   "source": [
    "%%time\n",
    "background_q_lambda = sans.to_q(data=background,\n",
    "                                        transmission=background_trans,\n",
    "                                        direct_beam=direct_beam,\n",
    "                                        direct_beam_transmission=direct_beam_trans, # note: same as transmission\n",
    "                                        masks=background.masks,\n",
    "                                        q_bins = q_bins,\n",
    "                                        wavelength_bins = wavelength_bins,\n",
    "                                        wavelength_bands = wavelength_bands)"
   ]
  },
  {
   "cell_type": "code",
   "execution_count": null,
   "metadata": {},
   "outputs": [],
   "source": [
    "sample_q_reduce_wav = sc.sum(sample_q_lambda, 'wavelength')\n",
    "background_q_reduce_wav = sc.sum(background_q_lambda, 'wavelength')"
   ]
  },
  {
   "cell_type": "code",
   "execution_count": null,
   "metadata": {},
   "outputs": [],
   "source": [
    "reduced_by_wavelength = sans.normalize_and_subtract(sample_q_reduce_wav, background_q_reduce_wav)"
   ]
  },
  {
   "cell_type": "markdown",
   "metadata": {},
   "source": [
    "## Comoparison reduced vs reduced_by_wavelength"
   ]
  },
  {
   "cell_type": "code",
   "execution_count": null,
   "metadata": {},
   "outputs": [],
   "source": [
    "plot({'reduced': reduced, 'reduced_by_wavelength':reduced_by_wavelength})"
   ]
  },
  {
   "cell_type": "code",
   "execution_count": null,
   "metadata": {},
   "outputs": [],
   "source": [
    "sc.plot(sc.collapse(sample_q_lambda, keep='Q'))"
   ]
  },
  {
   "cell_type": "code",
   "execution_count": null,
   "metadata": {},
   "outputs": [],
   "source": [
    "sample_q_lambda['wavelength', 4:5]"
   ]
  },
  {
   "cell_type": "code",
   "execution_count": null,
   "metadata": {},
   "outputs": [],
   "source": [
    "reduced_lambda = sans.normalize_and_subtract(sample_q_lambda, background_q_lambda)\n",
    "sc.plot(sc.collapse(reduced_lambda, keep='Q'))"
   ]
  },
  {
   "cell_type": "code",
   "execution_count": null,
   "metadata": {},
   "outputs": [],
   "source": [
    "reduced_lambda['wavelength',4:5]"
   ]
  },
  {
   "cell_type": "markdown",
   "metadata": {},
   "source": [
    "## Comparison with Mantid"
   ]
  },
  {
   "cell_type": "code",
   "execution_count": null,
   "metadata": {},
   "outputs": [],
   "source": [
    "#scale factor at the end 0.02364 (from mantid)\n",
    "mantid_q1d_file = '63114rear_1D_1.75_16.5.txt'\n",
    "mantid_q1d = load_rkh_q(filename=f'{path}/{mantid_q1d_file}')\n",
    "reduced_scaled = sc.scalar(0.8) * reduced\n",
    "plot({'scipp': reduced_scaled, 'mantid':mantid_q1d})"
   ]
  },
  {
   "cell_type": "code",
   "execution_count": null,
   "metadata": {},
   "outputs": [],
   "source": [
    "mantid_q1d_file_wav = '63114rear_1D_1.75_4.7.txt'\n",
    "mantid_q1d_wav_1 = load_rkh_q(filename=f'{path}/{mantid_q1d_file_wav}')\n",
    "mantid_q1d_file_wav = '63114rear_1D_4.7_7.65.txt'\n",
    "mantid_q1d_wav_2 = load_rkh_q(filename=f'{path}/{mantid_q1d_file_wav}')\n",
    "mantid_q1d_file_wav = '63114rear_1D_7.65_10.6.txt'\n",
    "mantid_q1d_wav_3 = load_rkh_q(filename=f'{path}/{mantid_q1d_file_wav}')\n",
    "mantid_q1d_file_wav = '63114rear_1D_10.6_13.55.txt'\n",
    "mantid_q1d_wav_4 = load_rkh_q(filename=f'{path}/{mantid_q1d_file_wav}')\n",
    "mantid_q1d_file_wav = '63114rear_1D_13.55_16.5.txt'\n",
    "mantid_q1d_wav_5 = load_rkh_q(filename=f'{path}/{mantid_q1d_file_wav}')\n",
    "scipp_q1d_wav = sc.collapse(reduced_lambda, keep='Q')\n",
    "scipp_q1d_wav = {f'scipp:{key}':val for key, val in scipp_q1d_wav.items()}\n",
    "plot(scipp_q1d_wav)\n",
    "#plot({'scipp': scipp_q1d_wav_1})"
   ]
  },
  {
   "cell_type": "code",
   "execution_count": null,
   "metadata": {},
   "outputs": [],
   "source": [
    "scipp_q1d_wav['mantid_0'] = sc.scalar(1.5)*mantid_q1d_wav_1\n",
    "plot({'mantid 1.75-4.7' : scipp_q1d_wav['mantid_0'], 'scipp 1.75-4.7': scipp_q1d_wav['scipp:wavelength:0']})\n"
   ]
  },
  {
   "cell_type": "code",
   "execution_count": null,
   "metadata": {},
   "outputs": [],
   "source": [
    "scipp_q1d_wav['mantid_1'] = sc.scalar(1.5)*mantid_q1d_wav_2\n",
    "plot({'mantid 4.7-7.65' : scipp_q1d_wav['mantid_1'], 'scipp 4.7-7.65': scipp_q1d_wav['scipp:wavelength:1']})"
   ]
  },
  {
   "cell_type": "code",
   "execution_count": null,
   "metadata": {},
   "outputs": [],
   "source": [
    "scipp_q1d_wav['mantid_2'] = sc.scalar(1.4)*mantid_q1d_wav_3\n",
    "plot({'mantid 7.6-10.6:' : scipp_q1d_wav['mantid_2'], 'scipp 7.65-10.6': scipp_q1d_wav['scipp:wavelength:2']})"
   ]
  },
  {
   "cell_type": "code",
   "execution_count": null,
   "metadata": {},
   "outputs": [],
   "source": [
    "scipp_q1d_wav['mantid_3'] = sc.scalar(1.5)*mantid_q1d_wav_4\n",
    "plot({'mantid 10.6-13.55:' : scipp_q1d_wav['mantid_3'], 'scipp 10.6-13.55': scipp_q1d_wav['scipp:wavelength:3']})"
   ]
  },
  {
   "cell_type": "code",
   "execution_count": null,
   "metadata": {},
   "outputs": [],
   "source": [
    "scipp_q1d_wav['mantid_4'] = sc.scalar(1.2)*mantid_q1d_wav_5\n",
    "plot({'mantid 13.55-16.5:' : scipp_q1d_wav['mantid_4'], 'scipp 13.55-16.5': scipp_q1d_wav['scipp:wavelength:4']})"
   ]
  },
  {
   "cell_type": "code",
   "execution_count": null,
   "metadata": {},
   "outputs": [],
   "source": [
    "sc.to_html(scipp_q1d_wav['scipp:wavelength:4'])"
   ]
  },
  {
   "cell_type": "code",
   "execution_count": null,
   "metadata": {},
   "outputs": [],
   "source": [
    "plot(scipp_q1d_wav['scipp:wavelength:4'])"
   ]
  },
  {
   "cell_type": "code",
   "execution_count": null,
   "metadata": {},
   "outputs": [],
   "source": [
    "help(sc.geometry.position)"
   ]
  },
  {
   "cell_type": "code",
   "execution_count": null,
   "metadata": {},
   "outputs": [],
   "source": []
  },
  {
   "cell_type": "code",
   "execution_count": null,
   "metadata": {},
   "outputs": [],
   "source": []
  }
 ],
 "metadata": {
  "kernelspec": {
   "display_name": "Python 3 (ipykernel)",
   "language": "python",
   "name": "python3"
  },
  "language_info": {
   "codemirror_mode": {
    "name": "ipython",
    "version": 3
   },
   "file_extension": ".py",
   "mimetype": "text/x-python",
   "name": "python",
   "nbconvert_exporter": "python",
   "pygments_lexer": "ipython3",
   "version": "3.8.10"
  },
  "varInspector": {
   "cols": {
    "lenName": 16,
    "lenType": 16,
    "lenVar": 40
   },
   "kernels_config": {
    "python": {
     "delete_cmd_postfix": "",
     "delete_cmd_prefix": "del ",
     "library": "var_list.py",
     "varRefreshCmd": "print(var_dic_list())"
    },
    "r": {
     "delete_cmd_postfix": ") ",
     "delete_cmd_prefix": "rm(",
     "library": "var_list.r",
     "varRefreshCmd": "cat(var_dic_list()) "
    }
   },
   "types_to_exclude": [
    "module",
    "function",
    "builtin_function_or_method",
    "instance",
    "_Feature"
   ],
   "window_display": false
  }
 },
 "nbformat": 4,
 "nbformat_minor": 4
}
